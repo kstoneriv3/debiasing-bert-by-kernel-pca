{
 "cells": [
  {
   "cell_type": "code",
   "execution_count": 247,
   "metadata": {},
   "outputs": [],
   "source": [
    "import numpy as np\n",
    "import scipy.sparse\n",
    "from sklearn.exceptions import NotFittedError\n",
    "from sklearn.metrics import pairwise_kernels\n",
    "from sklearn.decomposition import KernelPCA\n",
    "import torch\n",
    "\n",
    "import sys\n",
    "sys.path.append(\"../\")\n",
    "\n",
    "from src.debiasing.utils import get_design_matrix"
   ]
  },
  {
   "cell_type": "code",
   "execution_count": 249,
   "metadata": {},
   "outputs": [],
   "source": [
    "def centered_kernel(X, X_index, Y, Y_index, kernel=\"linear\", filter_params=True, n_jobs=None, torch=False, **kwds):\n",
    "    \"\"\"Compute the group-mean-centered kernel between arrays X and Y.\n",
    "    \n",
    "    This method takes either a vector array and returns a kernel matrix. \n",
    "    For the mean centering of the kernel within each group, the index to which \n",
    "    each sample belongs to must be privided as ``X_index`` and ``Y_index``. \n",
    "    When there is a sample that does not belong to any group, its index \n",
    "    must be set ``nan``, and centering is not applied to the sample.\n",
    "    \n",
    "    Parameters\n",
    "    ----------\n",
    "    X : array [n_samples_a, n_features]\n",
    "        A feature array which is sorted accoding to the group index. \n",
    "        Note that if the index of an sample is 'np.nan', the sample must come at the last of the array.  \n",
    "    X_index: integer array [n_samples]\n",
    "        A sorted array of indices to which samples in X belongs to. When a sample does \n",
    "        not belong to any group, its index must be ``np.nan``. \n",
    "    Y: array [n_samples_b, 1 + n_features]\n",
    "        A second feature array which is sorted accoding to the group index. \n",
    "        Note that if the index of an sample is 'np.nan', the sample must come at the last of the array.  \n",
    "    Y_index: integer array [n_samples]\n",
    "        A sorted array of indices to which samples in Y belongs to. When a sample does \n",
    "        not belong to any group, its index must be ``np.nan``. \n",
    "    kernel: string or callable\n",
    "        The kernel to use when calculating kernel between instances in a\n",
    "        feature array. Valid string values for kernel are:\n",
    "        ['additive_chi2', 'chi2', 'linear', 'poly', 'polynomial', 'rbf', 'laplacian', 'sigmoid', 'cosine'],\n",
    "        which must be one of the kernels in sklearn.pairwise.PAIRWISE_KERNEL_FUNCTIONS.\n",
    "        If callable is passed, kernel must have following arguments:\n",
    "        - X: array [n_sample_a, n_features]\n",
    "        - Y: array [n_sample_b, n_features]\n",
    "        - torch: bool.\n",
    "        When `torch` is set `True`, the kernel must return torch.Tensor which is differentiable w.r.t. X and Y.\n",
    "    filter_params : boolean\n",
    "        Whether to filter invalid parameters or not.\n",
    "    n_jobs : int or None, optional (default=None)\n",
    "        The number of jobs to use for the computation. This works by breaking\n",
    "        down the pairwise matrix into n_jobs even slices and computing them in\n",
    "        parallel.\n",
    "        ``None`` means 1 unless in a :obj:`joblib.parallel_backend` context.\n",
    "        ``-1`` means using all processors. See :term:`Glossary <n_jobs>`\n",
    "        for more details.\n",
    "    **kwds : optional keyword parameters\n",
    "        Any further parameters are passed directly to the kernel function.\n",
    "        \n",
    "    Returns\n",
    "    -------\n",
    "    K : array or torch.Tensor of shape [n_samples_a, n_samples_b]\n",
    "        A mean-centered kernel matrix K such that K_{i, j} is the kernel between the\n",
    "        ith and jth vectors of the given matrix X, if Y is None.\n",
    "        If Y is not None, then K_{i, j} is the kernel between the ith array\n",
    "        from X and the jth array from Y.\n",
    "        \n",
    "    \"\"\"\n",
    "    if isinstance(kernel, str):\n",
    "        KXY = pairwise_kernels(X, Y, metric=kernel, filter_params=filter_params, n_jobs=n_jobs, **kwds)\n",
    "    elif callable(kernel):\n",
    "        KXY = kernel(X, Y, torch=torch)\n",
    "    else:\n",
    "        raise ValueError(\"An invalid value is given as the argument `kernel`. \"\n",
    "                         \"`kernel` should be either string or callable.\")\n",
    "    DX = get_design_matrix(X_index)\n",
    "    DY = get_design_matrix(Y_index)\n",
    "    KXY_centered = DX @ KXY @ DY\n",
    "    return KXY_centered\n"
   ]
  },
  {
   "cell_type": "code",
   "execution_count": 250,
   "metadata": {},
   "outputs": [],
   "source": [
    "def _test_centered_kernel():\n",
    "    \n",
    "    D = 500\n",
    "    N = 1000\n",
    "    N_grouped = 900\n",
    "    N_nan = N - N_grouped\n",
    "    num_groups = 100\n",
    "    \n",
    "    # X contains groups of various size and non-centered samples\n",
    "    X = np.random.randn(N * D).reshape(N, D)\n",
    "    X_index = np.concatenate([\n",
    "        np.repeat(np.arange(num_groups), 2),  \n",
    "        np.random.randint(0, num_groups, N_grouped - 2*num_groups),\n",
    "        np.full([N_nan], np.nan)\n",
    "    ])\n",
    "    X_index.sort()\n",
    "    \n",
    "    \n",
    "    # Y only contains non-centered samples\n",
    "    Y = np.random.randn(N * D).reshape(N, D)\n",
    "    Y_index = np.array([np.nan] * N)\n",
    "    \n",
    "    Kxx = centered_kernel(X, X_index, X, X_index, kernel=\"rbf\")\n",
    "    assert(np.allclose(Kxx, Kxx.T))\n",
    "    eigvals = np.linalg.eigvalsh(Kxx)\n",
    "    assert(np.all(-1e-8 < eigvals))  # Kernel matrix must be positive definite.\n",
    "    assert(np.sum(1e-8 < eigvals) == N - num_groups)  # The effective rank of the matrix should be (N - num_groups).\n",
    "    \n",
    "    Kxy = centered_kernel(X, X_index, Y, Y_index, kernel=\"rbf\")\n",
    "    Kyx = centered_kernel(Y, Y_index, X, X_index, kernel=\"rbf\")\n",
    "    assert(np.allclose(Kxy, Kyx.T))  # Kernel matrix must be symmetric. "
   ]
  },
  {
   "cell_type": "code",
   "execution_count": 251,
   "metadata": {},
   "outputs": [],
   "source": [
    "_test_centered_kernel()"
   ]
  },
  {
   "cell_type": "code",
   "execution_count": 181,
   "metadata": {
    "scrolled": false
   },
   "outputs": [
    {
     "data": {
      "text/plain": [
       "array([[ 0,  0,  1],\n",
       "       [ 1,  2,  3],\n",
       "       [ 2,  4,  5],\n",
       "       [ 3,  6,  7],\n",
       "       [ 4,  8,  9],\n",
       "       [ 5, 10, 11],\n",
       "       [ 6, 12, 13],\n",
       "       [ 7, 14, 15],\n",
       "       [ 8, 16, 17],\n",
       "       [ 9, 18, 19]])"
      ]
     },
     "execution_count": 181,
     "metadata": {},
     "output_type": "execute_result"
    }
   ],
   "source": [
    "np.concatenate([\n",
    "    np.arange(10).reshape(10, 1), \n",
    "    np.arange(20).reshape(10, 2)\n",
    "], axis=1)"
   ]
  },
  {
   "cell_type": "code",
   "execution_count": 5,
   "metadata": {},
   "outputs": [
    {
     "data": {
      "text/plain": [
       "array([-5.12694827, -4.88818365, -4.81650607, ...,  5.02625115,\n",
       "        5.03215745,  5.33735244])"
      ]
     },
     "execution_count": 5,
     "metadata": {},
     "output_type": "execute_result"
    }
   ],
   "source": [
    "centered_kernel()"
   ]
  },
  {
   "cell_type": "code",
   "execution_count": null,
   "metadata": {},
   "outputs": [],
   "source": [
    "import numpy as np\n",
    "from sklearn.decomposition import KernelPCA\n",
    "from src.kernel_pca import centered_kernel\n",
    "N = 100\n",
    "D = 10\n",
    "X = np.random.randn(N * D).reshape(N, D)\n",
    "X_index = np.repeat(np.arange(N//2), 2)\n",
    "X_combined = np.concatenate([X_index.reshape(N, 1), X], axis=1)\n",
    "\n",
    "\n",
    "Y = np.random.randn(N * D).reshape(N, D)\n",
    "Y_index = np.repeat(np.arange(N//2), 2)\n",
    "Y_combined = np.concatenate([X_index.reshape(N, 1), X], axis=1)"
   ]
  }
 ],
 "metadata": {
  "kernelspec": {
   "display_name": "Python 3",
   "language": "python",
   "name": "python3"
  },
  "language_info": {
   "codemirror_mode": {
    "name": "ipython",
    "version": 3
   },
   "file_extension": ".py",
   "mimetype": "text/x-python",
   "name": "python",
   "nbconvert_exporter": "python",
   "pygments_lexer": "ipython3",
   "version": "3.8.5"
  }
 },
 "nbformat": 4,
 "nbformat_minor": 4
}
