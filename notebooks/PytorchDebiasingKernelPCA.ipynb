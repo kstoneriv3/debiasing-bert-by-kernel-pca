{
 "cells": [
  {
   "cell_type": "code",
   "execution_count": 1,
   "metadata": {
    "scrolled": false
   },
   "outputs": [],
   "source": [
    "from matplotlib import pyplot as plt\n",
    "import numpy as np\n",
    "import pandas as pd\n",
    "import torch\n",
    "from sklearn.decomposition import PCA, KernelPCA\n",
    "import optuna\n",
    "\n",
    "import sys\n",
    "sys.path.append(\"../\") # go to parent dir\n",
    "\n",
    "from src.debiasing import DebiasingPCA, DebiasingKPCA, NumpyDebiasingKernelPCA\n",
    "from src.debiasing.utils import get_design_matrix"
   ]
  },
  {
   "cell_type": "code",
   "execution_count": 2,
   "metadata": {},
   "outputs": [],
   "source": [
    "data = pd.read_csv(\"../data/CoLA/mixed_dev_embeddings.tsv\", sep=\"\\t\")\n",
    "data = data.sort_values(by='defining set id')\n",
    "X = data.iloc[:, 3:771].to_numpy()\n",
    "X_index = data['defining set id'].to_numpy()"
   ]
  },
  {
   "cell_type": "code",
   "execution_count": 3,
   "metadata": {},
   "outputs": [
    {
     "data": {
      "text/plain": [
       "Text(0.5, 0, 'the number of components')"
      ]
     },
     "execution_count": 3,
     "metadata": {},
     "output_type": "execute_result"
    },
    {
     "data": {
      "image/png": "[encoded data removed]",
      "text/plain": [
       "<Figure size 432x288 with 1 Axes>"
      ]
     },
     "metadata": {
      "needs_background": "light"
     },
     "output_type": "display_data"
    }
   ],
   "source": [
    "# data visualization\n",
    "eigvals = PCA().fit(X).explained_variance_\n",
    "explained_var = np.cumsum(eigvals) / np.sum(eigvals)\n",
    "plt.plot(explained_var)\n",
    "plt.ylabel('explained variance')\n",
    "plt.xlabel('the number of components')"
   ]
  },
  {
   "cell_type": "markdown",
   "metadata": {},
   "source": [
    "# PCA debiasing"
   ]
  },
  {
   "cell_type": "code",
   "execution_count": 4,
   "metadata": {},
   "outputs": [],
   "source": [
    "debiaser = DebiasingPCA(n_components=3)\n",
    "debiaser.fit(X, X_index)\n",
    "X_debiased = debiaser.debias(X)"
   ]
  },
  {
   "cell_type": "code",
   "execution_count": 5,
   "metadata": {
    "scrolled": true
   },
   "outputs": [
    {
     "data": {
      "text/plain": [
       "327.869283571445"
      ]
     },
     "execution_count": 5,
     "metadata": {},
     "output_type": "execute_result"
    }
   ],
   "source": [
    "np.linalg.norm(X_debiased)"
   ]
  },
  {
   "cell_type": "markdown",
   "metadata": {},
   "source": [
    "# Kernel PCA debiasing (by kernel ridge pre-imaging)"
   ]
  },
  {
   "cell_type": "code",
   "execution_count": 6,
   "metadata": {
    "scrolled": false
   },
   "outputs": [
    {
     "data": {
      "text/plain": [
       "426.1726765040533"
      ]
     },
     "execution_count": 6,
     "metadata": {},
     "output_type": "execute_result"
    }
   ],
   "source": [
    "np.linalg.norm(X)"
   ]
  },
  {
   "cell_type": "markdown",
   "metadata": {},
   "source": [
    "### Unsuccessful case (Learn pre-image of bias subspace by min || Phi(w) - Proj (Phi(w))||)"
   ]
  },
  {
   "cell_type": "code",
   "execution_count": 9,
   "metadata": {},
   "outputs": [],
   "source": [
    "debiaser = NumpyDebiasingKernelPCA(n_components=3, kernel=\"rbf\")\n",
    "debiaser.fit(X, X_index)\n",
    "X_debiased = debiaser.debias(X)"
   ]
  },
  {
   "cell_type": "code",
   "execution_count": 10,
   "metadata": {
    "scrolled": true
   },
   "outputs": [
    {
     "data": {
      "text/plain": [
       "63.74915566837997"
      ]
     },
     "execution_count": 10,
     "metadata": {},
     "output_type": "execute_result"
    }
   ],
   "source": [
    "np.linalg.norm(X_debiased)"
   ]
  },
  {
   "cell_type": "code",
   "execution_count": 11,
   "metadata": {},
   "outputs": [
    {
     "data": {
      "text/plain": [
       "5.705028890378092"
      ]
     },
     "execution_count": 11,
     "metadata": {},
     "output_type": "execute_result"
    }
   ],
   "source": [
    "np.linalg.norm(debiaser.transform(X))"
   ]
  },
  {
   "cell_type": "markdown",
   "metadata": {},
   "source": [
    "### OK case (Learn pre-image of bias subspace by min || Phi(w - m) - Proj (Phi(w - m))||)"
   ]
  },
  {
   "cell_type": "code",
   "execution_count": 12,
   "metadata": {},
   "outputs": [],
   "source": [
    "DX = get_design_matrix(X_index)\n",
    "X_diff = DX @ X\n",
    "kpca = KernelPCA(n_components=3, kernel=\"rbf\", gamma=0.14, fit_inverse_transform=True)\n",
    "kpca.fit(X_diff)\n",
    "X_bias = kpca.inverse_transform(kpca.transform(X))\n",
    "X_debiased = X - X_bias"
   ]
  },
  {
   "cell_type": "code",
   "execution_count": 13,
   "metadata": {
    "scrolled": true
   },
   "outputs": [
    {
     "data": {
      "text/plain": [
       "425.87166574536064"
      ]
     },
     "execution_count": 13,
     "metadata": {},
     "output_type": "execute_result"
    }
   ],
   "source": [
    "np.linalg.norm(X_debiased)"
   ]
  },
  {
   "cell_type": "markdown",
   "metadata": {},
   "source": [
    "# Kernel PCA (optimization based)"
   ]
  },
  {
   "cell_type": "markdown",
   "metadata": {},
   "source": [
    "### OK case (Learn pre-image of bias subspace by min || Phi(w) - Proj (Phi(w))||)"
   ]
  },
  {
   "cell_type": "code",
   "execution_count": 20,
   "metadata": {
    "scrolled": false
   },
   "outputs": [
    {
     "name": "stdout",
     "output_type": "stream",
     "text": [
      "\n"
     ]
    }
   ],
   "source": [
    "debiaser = DebiasingKPCA(n_components=3)\n",
    "debiaser.fit(X, X_index)\n",
    "X_tr = debiaser.transform(X)\n",
    "X_debiased = debiaser.debias(X[:320])\n",
    "print()"
   ]
  },
  {
   "cell_type": "code",
   "execution_count": 21,
   "metadata": {
    "scrolled": false
   },
   "outputs": [
    {
     "data": {
      "text/plain": [
       "361.85165918282274"
      ]
     },
     "execution_count": 21,
     "metadata": {},
     "output_type": "execute_result"
    }
   ],
   "source": [
    "np.linalg.norm(X_debiased)"
   ]
  },
  {
   "cell_type": "code",
   "execution_count": null,
   "metadata": {},
   "outputs": [],
   "source": []
  },
  {
   "cell_type": "markdown",
   "metadata": {},
   "source": [
    "# Make sure that implementation is consistent with sklearn's KernelPCA\n",
    "\n",
    "Minor difference in the reconstruction error is due to the mean centering in the KernelPCA."
   ]
  },
  {
   "cell_type": "code",
   "execution_count": 15,
   "metadata": {},
   "outputs": [],
   "source": [
    "from sklearn.datasets import load_digits\n",
    "from sklearn.decomposition import KernelPCA, PCA\n",
    "toy_data = load_digits()['data']\n",
    "x_train = toy_data[:1300]\n",
    "x_test = toy_data[1300:]"
   ]
  },
  {
   "cell_type": "code",
   "execution_count": 27,
   "metadata": {},
   "outputs": [],
   "source": [
    "m = KernelPCA(n_components=3, kernel='rbf', gamma=1/768)\n",
    "m.fit(x_train[:20])\n",
    "x_tr = m.transform(x_test)"
   ]
  },
  {
   "cell_type": "code",
   "execution_count": 28,
   "metadata": {
    "scrolled": false
   },
   "outputs": [],
   "source": [
    "# x_tr"
   ]
  },
  {
   "cell_type": "code",
   "execution_count": 29,
   "metadata": {
    "scrolled": true
   },
   "outputs": [
    {
     "data": {
      "text/plain": [
       "array([[-0.13034411,  0.6133088 , -0.03667619],\n",
       "       [-0.10721129, -0.29394957, -0.08533229],\n",
       "       [-0.12324455, -0.1486849 , -0.20774017],\n",
       "       [ 0.43546054, -0.03745504,  0.17594614],\n",
       "       [-0.27961513, -0.08845386,  0.36925729],\n",
       "       [ 0.39954949,  0.1018399 ,  0.13015318],\n",
       "       [-0.24219356, -0.10767066,  0.3568993 ],\n",
       "       [-0.05737064, -0.0724354 , -0.35598462],\n",
       "       [ 0.06810921,  0.02810457, -0.07460732],\n",
       "       [ 0.18617942,  0.18394585,  0.02353674],\n",
       "       [-0.23987768,  0.56633606,  0.00077173],\n",
       "       [-0.07716265, -0.23649488, -0.13471458],\n",
       "       [ 0.04533376, -0.08729738, -0.06245502],\n",
       "       [ 0.35772484, -0.01551562, -0.01691075],\n",
       "       [-0.27478669, -0.01717164,  0.25607278],\n",
       "       [-0.02403105, -0.07915717, -0.29010805],\n",
       "       [-0.15273732, -0.22446805,  0.32024181],\n",
       "       [-0.11817037, -0.04037529, -0.25826709],\n",
       "       [-0.01283742, -0.03179416, -0.33464836],\n",
       "       [ 0.34722522, -0.01261155,  0.22456547]])"
      ]
     },
     "execution_count": 29,
     "metadata": {},
     "output_type": "execute_result"
    }
   ],
   "source": [
    "m.alphas_"
   ]
  },
  {
   "cell_type": "code",
   "execution_count": 30,
   "metadata": {
    "scrolled": true
   },
   "outputs": [
    {
     "data": {
      "text/plain": [
       "array([1.5464397 , 1.40916898, 1.23258586])"
      ]
     },
     "execution_count": 30,
     "metadata": {},
     "output_type": "execute_result"
    }
   ],
   "source": [
    "m.lambdas_"
   ]
  },
  {
   "cell_type": "code",
   "execution_count": 31,
   "metadata": {},
   "outputs": [
    {
     "data": {
      "text/plain": [
       "array([[1.        , 0.01105129],\n",
       "       [0.01105129, 1.        ]])"
      ]
     },
     "execution_count": 31,
     "metadata": {},
     "output_type": "execute_result"
    }
   ],
   "source": [
    "m._get_kernel(x_test[:2], x_test[:2])"
   ]
  },
  {
   "cell_type": "code",
   "execution_count": 32,
   "metadata": {},
   "outputs": [
    {
     "data": {
      "text/plain": [
       "array([[1.        , 0.01105129],\n",
       "       [0.01105129, 1.        ]])"
      ]
     },
     "execution_count": 32,
     "metadata": {},
     "output_type": "execute_result"
    }
   ],
   "source": [
    "np.exp(- 1./768 * np.sum((x_test[:2, None, :] - x_test[None, :2, :])**2, axis=-1))"
   ]
  },
  {
   "cell_type": "code",
   "execution_count": 33,
   "metadata": {
    "scrolled": true
   },
   "outputs": [],
   "source": [
    "m_ = TorchDebiasingKernelPCA(n_components=3, kernel=lambda X, Y: TorchRBF(X, Y, gamma=1/768))\n",
    "m_.fit(x_train[:20])\n",
    "x_tr_ = m_.transform(x_test)"
   ]
  },
  {
   "cell_type": "code",
   "execution_count": 34,
   "metadata": {},
   "outputs": [
    {
     "data": {
      "text/plain": [
       "tensor([[1.0000, 0.0111],\n",
       "        [0.0111, 1.0000]], device='cuda:0', dtype=torch.float64)"
      ]
     },
     "execution_count": 34,
     "metadata": {},
     "output_type": "execute_result"
    }
   ],
   "source": [
    "tmp = torch.tensor(x_test[:2], device='cuda')\n",
    "m_.kernel(tmp)"
   ]
  },
  {
   "cell_type": "code",
   "execution_count": 35,
   "metadata": {
    "scrolled": true
   },
   "outputs": [],
   "source": [
    "# x_tr_"
   ]
  },
  {
   "cell_type": "code",
   "execution_count": 36,
   "metadata": {
    "scrolled": false
   },
   "outputs": [
    {
     "data": {
      "text/plain": [
       "tensor([[ 0.2574, -0.2101,  0.5754],\n",
       "        [ 0.2205, -0.1209, -0.3343],\n",
       "        [ 0.1681, -0.1303, -0.1693],\n",
       "        [ 0.3295,  0.3876, -0.0506],\n",
       "        [ 0.1883, -0.3080, -0.1506],\n",
       "        [ 0.3158,  0.3464,  0.0920],\n",
       "        [ 0.2332, -0.2789, -0.1756],\n",
       "        [ 0.0879, -0.0397, -0.0498],\n",
       "        [ 0.2348,  0.0348,  0.0081],\n",
       "        [ 0.2408,  0.1443,  0.1765],\n",
       "        [ 0.2609, -0.3202,  0.5142],\n",
       "        [ 0.1879, -0.0866, -0.2660],\n",
       "        [ 0.1425,  0.0479, -0.0780],\n",
       "        [ 0.2961,  0.3159, -0.0249],\n",
       "        [ 0.1962, -0.3078, -0.0758],\n",
       "        [ 0.1063, -0.0106, -0.0593],\n",
       "        [ 0.1793, -0.1665, -0.2702],\n",
       "        [ 0.2041, -0.1391, -0.0643],\n",
       "        [ 0.2170, -0.0338, -0.0443],\n",
       "        [ 0.2365,  0.3202, -0.0098]], device='cuda:0', dtype=torch.float64)"
      ]
     },
     "execution_count": 36,
     "metadata": {},
     "output_type": "execute_result"
    }
   ],
   "source": [
    "m_.alphas_"
   ]
  },
  {
   "cell_type": "code",
   "execution_count": 37,
   "metadata": {},
   "outputs": [
    {
     "data": {
      "text/plain": [
       "tensor([2.2163, 1.5337, 1.3999], device='cuda:0', dtype=torch.float64)"
      ]
     },
     "execution_count": 37,
     "metadata": {},
     "output_type": "execute_result"
    }
   ],
   "source": [
    "m_.lambdas_"
   ]
  },
  {
   "cell_type": "code",
   "execution_count": 40,
   "metadata": {},
   "outputs": [],
   "source": [
    "A = m.alphas_ @ np.diag(m.lambdas_) @ m.lambdas_.T\n",
    "B = m_.alphas_.mm(torch.diag(m_.lambdas_)).mm(m_.alphas_.T)\n",
    "B = B.detach().cpu().numpy()"
   ]
  },
  {
   "cell_type": "code",
   "execution_count": 44,
   "metadata": {},
   "outputs": [
    {
     "data": {
      "text/plain": [
       "16.027735613304355"
      ]
     },
     "execution_count": 44,
     "metadata": {},
     "output_type": "execute_result"
    }
   ],
   "source": [
    "np.linalg.norm(m._get_kernel(x_train[:20]) - A)"
   ]
  },
  {
   "cell_type": "code",
   "execution_count": 45,
   "metadata": {},
   "outputs": [
    {
     "data": {
      "text/plain": [
       "3.6805220163972368"
      ]
     },
     "execution_count": 45,
     "metadata": {},
     "output_type": "execute_result"
    }
   ],
   "source": [
    "np.linalg.norm(m._get_kernel(x_train[:20]) - B)"
   ]
  },
  {
   "cell_type": "markdown",
   "metadata": {},
   "source": [
    "# Backend comparison"
   ]
  },
  {
   "cell_type": "code",
   "execution_count": 16,
   "metadata": {
    "scrolled": true
   },
   "outputs": [
    {
     "data": {
      "text/plain": [
       "238.98941604682693"
      ]
     },
     "execution_count": 16,
     "metadata": {},
     "output_type": "execute_result"
    }
   ],
   "source": [
    "np.linalg.norm(X_reproj)"
   ]
  },
  {
   "cell_type": "code",
   "execution_count": 17,
   "metadata": {
    "scrolled": false
   },
   "outputs": [
    {
     "data": {
      "text/plain": [
       "242.41647295293424"
      ]
     },
     "execution_count": 17,
     "metadata": {},
     "output_type": "execute_result"
    }
   ],
   "source": [
    "np.linalg.norm(X[:200])"
   ]
  },
  {
   "cell_type": "code",
   "execution_count": 18,
   "metadata": {
    "scrolled": false
   },
   "outputs": [
    {
     "data": {
      "text/plain": [
       "27.60117255167443"
      ]
     },
     "execution_count": 18,
     "metadata": {},
     "output_type": "execute_result"
    }
   ],
   "source": [
    "np.linalg.norm(X_reproj - X[:200])"
   ]
  },
  {
   "cell_type": "markdown",
   "metadata": {},
   "source": [
    "### GPU"
   ]
  },
  {
   "cell_type": "code",
   "execution_count": 56,
   "metadata": {
    "scrolled": true
   },
   "outputs": [
    {
     "name": "stderr",
     "output_type": "stream",
     "text": [
      "<ipython-input-14-17b8bb28c4f2>:211: UserWarning: To copy construct from a tensor, it is recommended to use sourceTensor.clone().detach() or sourceTensor.clone().detach().requires_grad_(True), rather than torch.tensor(sourceTensor).\n",
      "  X_orth = torch.tensor(X, dtype=DTYPE, device=DEVICE, requires_grad=True)\n"
     ]
    },
    {
     "name": "stdout",
     "output_type": "stream",
     "text": [
      "2.86 s ± 10.5 ms per loop (mean ± std. dev. of 7 runs, 1 loop each)\n"
     ]
    }
   ],
   "source": [
    "%%timeit\n",
    "X_reproj = m.debias(X[:200], n_iter=10, lr=0.2)"
   ]
  },
  {
   "cell_type": "markdown",
   "metadata": {},
   "source": [
    "### CPU"
   ]
  },
  {
   "cell_type": "code",
   "execution_count": 60,
   "metadata": {
    "scrolled": false
   },
   "outputs": [
    {
     "name": "stderr",
     "output_type": "stream",
     "text": [
      "<ipython-input-57-25ac9eb5c51a>:211: UserWarning: To copy construct from a tensor, it is recommended to use sourceTensor.clone().detach() or sourceTensor.clone().detach().requires_grad_(True), rather than torch.tensor(sourceTensor).\n",
      "  X_orth = torch.tensor(X, dtype=DTYPE, device=DEVICE, requires_grad=True)\n"
     ]
    },
    {
     "name": "stdout",
     "output_type": "stream",
     "text": [
      "19.9 s ± 500 ms per loop (mean ± std. dev. of 7 runs, 1 loop each)\n"
     ]
    }
   ],
   "source": [
    "%%timeit\n",
    "X_reproj = m.debias(X[:200], n_iter=10, lr=0.2)"
   ]
  },
  {
   "cell_type": "code",
   "execution_count": 61,
   "metadata": {
    "scrolled": false
   },
   "outputs": [
    {
     "name": "stderr",
     "output_type": "stream",
     "text": [
      "<ipython-input-57-25ac9eb5c51a>:211: UserWarning: To copy construct from a tensor, it is recommended to use sourceTensor.clone().detach() or sourceTensor.clone().detach().requires_grad_(True), rather than torch.tensor(sourceTensor).\n",
      "  X_orth = torch.tensor(X, dtype=DTYPE, device=DEVICE, requires_grad=True)\n"
     ]
    },
    {
     "name": "stdout",
     "output_type": "stream",
     "text": [
      "56.7 s ± 847 ms per loop (mean ± std. dev. of 7 runs, 1 loop each)\n"
     ]
    }
   ],
   "source": [
    "%%timeit\n",
    "X_reproj = m.debias(X[:600], n_iter=10, lr=0.2)"
   ]
  },
  {
   "cell_type": "markdown",
   "metadata": {},
   "source": [
    "# Performance Tuning (gamma)"
   ]
  },
  {
   "cell_type": "code",
   "execution_count": 8,
   "metadata": {},
   "outputs": [],
   "source": [
    "def TorchRBF(X, Y, gamma=None):\n",
    "    gamma = 1. / X.shape[-1] if (gamma is None) else gamma\n",
    "    K = torch.exp( - gamma * torch.sum((X - Y)**2, axis=-1))\n",
    "    return K"
   ]
  },
  {
   "cell_type": "code",
   "execution_count": null,
   "metadata": {
    "scrolled": false
   },
   "outputs": [],
   "source": [
    "debiaser = DebiasingKPCA(n_components=3, kernel=lambda X, Y: TorchRBF(X, Y, gamma=0.14))\n",
    "debiaser.fit(X, X_index)\n",
    "X_tr = debiaser.transform(X)\n",
    "X_debiased = debiaser.debias(X[:320], n_iter=100, lr=0.01)\n",
    "print()"
   ]
  },
  {
   "cell_type": "code",
   "execution_count": null,
   "metadata": {
    "scrolled": false
   },
   "outputs": [],
   "source": [
    "np.linalg.norm(X_debiased)"
   ]
  },
  {
   "cell_type": "markdown",
   "metadata": {},
   "source": [
    "# Performance Tuning (n_iter, lr)"
   ]
  },
  {
   "cell_type": "code",
   "execution_count": 9,
   "metadata": {},
   "outputs": [
    {
     "name": "stderr",
     "output_type": "stream",
     "text": [
      "../src/debiasing/torch_kpca.py:228: UserWarning: To copy construct from a tensor, it is recommended to use sourceTensor.clone().detach() or sourceTensor.clone().detach().requires_grad_(True), rather than torch.tensor(sourceTensor).\n",
      "  X_orth = torch.tensor(X, dtype=DTYPE, device=DEVICE, requires_grad=True)\n"
     ]
    }
   ],
   "source": [
    "m = DebiasingKPCA(n_components=3, kernel=lambda X, Y: TorchRBF(X, Y, gamma=0.14))\n",
    "m.fit(X, X_index)\n",
    "X_reproj = m.debias(X[:200], n_iter=1000, lr=3./1000)\n",
    "\n",
    "n_iters = [int(10**p) for p in np.linspace(0, 3, 20)]\n",
    "lrs = [(3. / ni) for ni in n_iters]\n",
    "diff = []\n",
    "for n_iter, lr in zip(n_iters, lrs):\n",
    "    X_tmp = m.debias(X[:200], n_iter=n_iter, lr=lr)\n",
    "    diff.append(np.linalg.norm(X_reproj - X_tmp))"
   ]
  },
  {
   "cell_type": "code",
   "execution_count": 12,
   "metadata": {},
   "outputs": [
    {
     "data": {
      "image/png": "[encoded data removed]",
      "text/plain": [
       "<Figure size 432x288 with 1 Axes>"
      ]
     },
     "metadata": {
      "needs_background": "light"
     },
     "output_type": "display_data"
    }
   ],
   "source": [
    "plt.plot(n_iters[:16], diff[:16])\n",
    "plt.xscale('log')\n",
    "plt.yscale('log')"
   ]
  },
  {
   "cell_type": "code",
   "execution_count": 16,
   "metadata": {},
   "outputs": [
    {
     "data": {
      "text/plain": [
       "242.43922980249778"
      ]
     },
     "execution_count": 16,
     "metadata": {},
     "output_type": "execute_result"
    }
   ],
   "source": [
    "np.linalg.norm(X_reproj)"
   ]
  },
  {
   "cell_type": "code",
   "execution_count": 14,
   "metadata": {},
   "outputs": [],
   "source": [
    "m = DebiasingKPCA(n_components=3, kernel=lambda X, Y: TorchRBF(X, Y, gamma=0.14))\n",
    "m.fit(X, X_index)\n",
    "X_tmp = m.debias(X[:200], n_iter=200, lr=3./200)"
   ]
  },
  {
   "cell_type": "code",
   "execution_count": 15,
   "metadata": {},
   "outputs": [
    {
     "data": {
      "text/plain": [
       "3.3306590405383755e-14"
      ]
     },
     "execution_count": 15,
     "metadata": {},
     "output_type": "execute_result"
    }
   ],
   "source": [
    "np.linalg.norm(X_reproj - X_tmp)"
   ]
  },
  {
   "cell_type": "code",
   "execution_count": 27,
   "metadata": {},
   "outputs": [],
   "source": [
    "m = DebiasingKPCA(n_components=3, kernel=lambda X, Y: TorchRBF(X, Y, gamma=0.14))\n",
    "m.fit(X, X_index)\n",
    "X_tmp = m.debias(X[:200], n_iter=30, lr=0.01)"
   ]
  },
  {
   "cell_type": "code",
   "execution_count": 28,
   "metadata": {},
   "outputs": [
    {
     "data": {
      "text/plain": [
       "3.283593330656092e-14"
      ]
     },
     "execution_count": 28,
     "metadata": {},
     "output_type": "execute_result"
    }
   ],
   "source": [
    "np.linalg.norm(X_reproj - X_tmp)"
   ]
  },
  {
   "cell_type": "code",
   "execution_count": 17,
   "metadata": {},
   "outputs": [],
   "source": [
    "m = DebiasingKPCA(n_components=3, kernel=lambda X, Y: TorchRBF(X, Y, gamma=0.14))\n",
    "m.fit(X, X_index)\n",
    "X_tmp = m.debias(X[:200], n_iter=100, lr=3./100)"
   ]
  },
  {
   "cell_type": "code",
   "execution_count": 18,
   "metadata": {},
   "outputs": [
    {
     "data": {
      "text/plain": [
       "22.00020749348541"
      ]
     },
     "execution_count": 18,
     "metadata": {},
     "output_type": "execute_result"
    }
   ],
   "source": [
    "np.linalg.norm(X_reproj - X_tmp)"
   ]
  },
  {
   "cell_type": "code",
   "execution_count": null,
   "metadata": {},
   "outputs": [],
   "source": []
  }
 ],
 "metadata": {
  "kernelspec": {
   "display_name": "Python 3",
   "language": "python",
   "name": "python3"
  },
  "language_info": {
   "codemirror_mode": {
    "name": "ipython",
    "version": 3
   },
   "file_extension": ".py",
   "mimetype": "text/x-python",
   "name": "python",
   "nbconvert_exporter": "python",
   "pygments_lexer": "ipython3",
   "version": "3.8.5"
  }
 },
 "nbformat": 4,
 "nbformat_minor": 4
}
