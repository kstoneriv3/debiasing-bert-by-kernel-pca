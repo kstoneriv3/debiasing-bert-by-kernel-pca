{
 "cells": [
  {
   "cell_type": "code",
   "execution_count": 1,
   "metadata": {
    "scrolled": true
   },
   "outputs": [],
   "source": [
    "from matplotlib import pyplot as plt\n",
    "import numpy as np\n",
    "import pandas as pd\n",
    "import torch\n",
    "from sklearn.decomposition import PCA, KernelPCA\n",
    "\n",
    "import sys\n",
    "sys.path.append(\"../\") # go to parent dir\n",
    "\n",
    "from src.debiasing import DebiasingPCA\n",
    "from src.debiasing import DebiasingKPCA\n",
    "from src.debiasing import NumpyDebiasingKernelPCA\n",
    "from src.debiasing.utils import get_design_matrix"
   ]
  },
  {
   "cell_type": "code",
   "execution_count": 2,
   "metadata": {},
   "outputs": [],
   "source": [
    "data = pd.read_csv(\"../data/CoLA/mixed_dev_embeddings.tsv\", sep=\"\\t\")\n",
    "data = data.sort_values(by='defining set id')\n",
    "X = data.iloc[:, 3:771].to_numpy()\n",
    "X_index = data['defining set id'].to_numpy()"
   ]
  },
  {
   "cell_type": "code",
   "execution_count": 3,
   "metadata": {},
   "outputs": [
    {
     "name": "stdout",
     "output_type": "stream",
     "text": [
      "the shape of X: (640, 768)\n"
     ]
    },
    {
     "data": {
      "text/plain": [
       "array([[-0.851718  , -0.4793546 , -0.77166116, ..., -0.5383287 ,\n",
       "        -0.76654   ,  0.9239464 ],\n",
       "       [-0.84405816, -0.49862942, -0.7877743 , ..., -0.57809174,\n",
       "        -0.728355  ,  0.9136135 ],\n",
       "       [-0.87432224, -0.59713227, -0.9513105 , ..., -0.40138096,\n",
       "        -0.7750305 ,  0.8731641 ],\n",
       "       ...,\n",
       "       [-0.886508  , -0.51329815, -0.94088244, ..., -0.75856566,\n",
       "        -0.7137282 ,  0.9045762 ],\n",
       "       [-0.70865357, -0.30252996, -0.819484  , ..., -0.36328802,\n",
       "        -0.6049608 ,  0.7728163 ],\n",
       "       [-0.7912138 , -0.4454564 , -0.92030555, ..., -0.6560643 ,\n",
       "        -0.64869297,  0.8218555 ]])"
      ]
     },
     "execution_count": 3,
     "metadata": {},
     "output_type": "execute_result"
    }
   ],
   "source": [
    "print(\"the shape of X:\", X.shape)\n",
    "X"
   ]
  },
  {
   "cell_type": "code",
   "execution_count": 4,
   "metadata": {},
   "outputs": [
    {
     "name": "stdout",
     "output_type": "stream",
     "text": [
      "the shape of X_ index: (640,)\n"
     ]
    },
    {
     "data": {
      "text/plain": [
       "array([  0,   0,   1,   1,   2,   2,   3,   3,   4,   4,   5,   5,   6,\n",
       "         6,   7,   7,   8,   8,   9,   9,  10,  10,  11,  11,  12,  12,\n",
       "        13,  13,  14,  14,  15,  15,  16,  16,  17,  17,  18,  18,  19,\n",
       "        19,  20,  20,  21,  21,  22,  22,  23,  23,  24,  24,  25,  25,\n",
       "        26,  26,  27,  27,  28,  28,  29,  29,  30,  30,  31,  31,  32,\n",
       "        32,  33,  33,  34,  34,  35,  35,  36,  36,  37,  37,  38,  38,\n",
       "        39,  39,  40,  40,  41,  41,  42,  42,  43,  43,  44,  44,  45,\n",
       "        45,  46,  46,  47,  47,  48,  48,  49,  49,  50,  50,  51,  51,\n",
       "        52,  52,  53,  53,  54,  54,  55,  55,  56,  56,  57,  57,  58,\n",
       "        58,  59,  59,  60,  60,  61,  61,  62,  62,  63,  63,  64,  64,\n",
       "        65,  65,  66,  66,  67,  67,  68,  68,  69,  69,  70,  70,  71,\n",
       "        71,  72,  72,  73,  73,  74,  74,  75,  75,  76,  76,  77,  77,\n",
       "        78,  78,  79,  79,  80,  80,  81,  81,  82,  82,  83,  83,  84,\n",
       "        84,  85,  85,  86,  86,  87,  87,  88,  88,  89,  89,  90,  90,\n",
       "        91,  91,  92,  92,  93,  93,  94,  94,  95,  95,  96,  96,  97,\n",
       "        97,  98,  98,  99,  99, 100, 100, 101, 101, 102, 102, 103, 103,\n",
       "       104, 104, 105, 105, 106, 106, 107, 107, 108, 108, 109, 109, 110,\n",
       "       110, 111, 111, 112, 112, 113, 113, 114, 114, 115, 115, 116, 116,\n",
       "       117, 117, 118, 118, 119, 119, 120, 120, 121, 121, 122, 122, 123,\n",
       "       123, 124, 124, 125, 125, 126, 126, 127, 127, 128, 128, 129, 129,\n",
       "       130, 130, 131, 131, 132, 132, 133, 133, 134, 134, 135, 135, 136,\n",
       "       136, 137, 137, 138, 138, 139, 139, 140, 140, 141, 141, 142, 142,\n",
       "       143, 143, 144, 144, 145, 145, 146, 146, 147, 147, 148, 148, 149,\n",
       "       149, 150, 150, 151, 151, 152, 152, 153, 153, 154, 154, 155, 155,\n",
       "       156, 156, 157, 157, 158, 158, 159, 159, 160, 160, 161, 161, 162,\n",
       "       162, 163, 163, 164, 164, 165, 165, 166, 166, 167, 167, 168, 168,\n",
       "       169, 169, 170, 170, 171, 171, 172, 172, 173, 173, 174, 174, 175,\n",
       "       175, 176, 176, 177, 177, 178, 178, 179, 179, 180, 180, 181, 181,\n",
       "       182, 182, 183, 183, 184, 184, 185, 185, 186, 186, 187, 187, 188,\n",
       "       188, 189, 189, 190, 190, 191, 191, 192, 192, 193, 193, 194, 194,\n",
       "       195, 195, 196, 196, 197, 197, 198, 198, 199, 199, 200, 200, 201,\n",
       "       201, 202, 202, 203, 203, 204, 204, 205, 205, 206, 206, 207, 207,\n",
       "       208, 208, 209, 209, 210, 210, 211, 211, 212, 212, 213, 213, 214,\n",
       "       214, 215, 215, 216, 216, 217, 217, 218, 218, 219, 219, 220, 220,\n",
       "       221, 221, 222, 222, 223, 223, 224, 224, 225, 225, 226, 226, 227,\n",
       "       227, 228, 228, 229, 229, 230, 230, 231, 231, 232, 232, 233, 233,\n",
       "       234, 234, 235, 235, 236, 236, 237, 237, 238, 238, 239, 239, 240,\n",
       "       240, 241, 241, 242, 242, 243, 243, 244, 244, 245, 245, 246, 246,\n",
       "       247, 247, 248, 248, 249, 249, 250, 250, 251, 251, 252, 252, 253,\n",
       "       253, 254, 254, 255, 255, 256, 256, 257, 257, 258, 258, 259, 259,\n",
       "       260, 260, 261, 261, 262, 262, 263, 263, 264, 264, 265, 265, 266,\n",
       "       266, 267, 267, 268, 268, 269, 269, 270, 270, 271, 271, 272, 272,\n",
       "       273, 273, 274, 274, 275, 275, 276, 276, 277, 277, 278, 278, 279,\n",
       "       279, 280, 280, 281, 281, 282, 282, 283, 283, 284, 284, 285, 285,\n",
       "       286, 286, 287, 287, 288, 288, 289, 289, 290, 290, 291, 291, 292,\n",
       "       292, 293, 293, 294, 294, 295, 295, 296, 296, 297, 297, 298, 298,\n",
       "       299, 299, 300, 300, 301, 301, 302, 302, 303, 303, 304, 304, 305,\n",
       "       305, 306, 306, 307, 307, 308, 308, 309, 309, 310, 310, 311, 311,\n",
       "       312, 312, 313, 313, 314, 314, 315, 315, 316, 316, 317, 317, 318,\n",
       "       318, 319, 319])"
      ]
     },
     "execution_count": 4,
     "metadata": {},
     "output_type": "execute_result"
    }
   ],
   "source": [
    "print(\"the shape of X_ index:\", X_index.shape)\n",
    "X_index"
   ]
  },
  {
   "cell_type": "code",
   "execution_count": 5,
   "metadata": {
    "scrolled": true
   },
   "outputs": [
    {
     "data": {
      "text/plain": [
       "Text(0.5, 0, 'the number of components')"
      ]
     },
     "execution_count": 5,
     "metadata": {},
     "output_type": "execute_result"
    },
    {
     "data": {
      "image/png": "[encoded data removed]",
      "text/plain": [
       "<Figure size 432x288 with 1 Axes>"
      ]
     },
     "metadata": {
      "needs_background": "light"
     },
     "output_type": "display_data"
    }
   ],
   "source": [
    "# data visualization\n",
    "eigvals = PCA().fit(X).explained_variance_\n",
    "explained_var = np.cumsum(eigvals) / np.sum(eigvals)\n",
    "plt.plot(explained_var)\n",
    "plt.ylabel('explained variance')\n",
    "plt.xlabel('the number of components')"
   ]
  },
  {
   "cell_type": "markdown",
   "metadata": {},
   "source": [
    "# PCA debiasing"
   ]
  },
  {
   "cell_type": "code",
   "execution_count": 6,
   "metadata": {},
   "outputs": [],
   "source": [
    "debiaser = DebiasingPCA(n_components=3)\n",
    "debiaser.fit(X, X_index)\n",
    "X_debiased = debiaser.debias(X)"
   ]
  },
  {
   "cell_type": "code",
   "execution_count": 7,
   "metadata": {
    "scrolled": true
   },
   "outputs": [
    {
     "data": {
      "text/plain": [
       "(327.869283572284, 426.1726765040533, 272.25885309467145)"
      ]
     },
     "execution_count": 7,
     "metadata": {},
     "output_type": "execute_result"
    }
   ],
   "source": [
    "np.linalg.norm(X_debiased), np.linalg.norm(X), np.linalg.norm(X_debiased - X)"
   ]
  },
  {
   "cell_type": "markdown",
   "metadata": {},
   "source": [
    "# Kernel PCA debiasing (by optimization-based pre-imaging)"
   ]
  },
  {
   "cell_type": "markdown",
   "metadata": {},
   "source": [
    "### With gradient descent (not great results)"
   ]
  },
  {
   "cell_type": "code",
   "execution_count": 8,
   "metadata": {
    "scrolled": true
   },
   "outputs": [
    {
     "name": "stderr",
     "output_type": "stream",
     "text": [
      "../src/debiasing/torch_kpca.py:235: UserWarning: To copy construct from a tensor, it is recommended to use sourceTensor.clone().detach() or sourceTensor.clone().detach().requires_grad_(True), rather than torch.tensor(sourceTensor).\n",
      "  X_orth = torch.tensor(X, dtype=DTYPE, device=DEVICE, requires_grad=True)\n"
     ]
    }
   ],
   "source": [
    "debiaser = DebiasingKPCA(n_components=2)\n",
    "debiaser.fit(X, X_index)\n",
    "\n",
    "# to prevent out of memory error, we split the data into smaller chanks\n",
    "X_debiased = np.empty(X.shape)\n",
    "BS = 320  # maximal possible batch size for GPU with 8gb memory in my local env.\n",
    "NB = int(np.ceil(X.shape[0] / BS))  # the number of batches\n",
    "for i in range(NB):\n",
    "    X_debiased[BS*i: BS*(i+1)] = debiaser.debias(X[BS*i: BS*(i+1)], lr=0.4, n_iter=40)"
   ]
  },
  {
   "cell_type": "code",
   "execution_count": 9,
   "metadata": {
    "scrolled": false
   },
   "outputs": [
    {
     "data": {
      "text/plain": [
       "(426.09609382955483, 426.1726765040533, 18.56138004761513)"
      ]
     },
     "execution_count": 9,
     "metadata": {},
     "output_type": "execute_result"
    }
   ],
   "source": [
    "# Euclidean norms in original space\n",
    "np.linalg.norm(X_debiased), np.linalg.norm(X), np.linalg.norm(X_debiased - X)"
   ]
  },
  {
   "cell_type": "code",
   "execution_count": 10,
   "metadata": {
    "scrolled": false
   },
   "outputs": [
    {
     "data": {
      "text/plain": [
       "(7.259435491978974, 9.299421805879149)"
      ]
     },
     "execution_count": 10,
     "metadata": {},
     "output_type": "execute_result"
    }
   ],
   "source": [
    "# Variations in the latent space (space of kernelized principal components)\n",
    "np.linalg.norm(debiaser.transform(X_debiased)), np.linalg.norm(debiaser.transform(X))"
   ]
  },
  {
   "cell_type": "markdown",
   "metadata": {},
   "source": [
    "### Comparison with PCA in Kernel space"
   ]
  },
  {
   "cell_type": "code",
   "execution_count": 11,
   "metadata": {},
   "outputs": [],
   "source": [
    "pca_debiaser = DebiasingPCA(1)\n",
    "pca_debiaser.fit(X, X_index)\n",
    "X_debiased = pca_debiaser.debias(X)"
   ]
  },
  {
   "cell_type": "code",
   "execution_count": 12,
   "metadata": {
    "scrolled": false
   },
   "outputs": [
    {
     "data": {
      "text/plain": [
       "(372.82486163269635, 426.1726765040533, 206.4576778596267)"
      ]
     },
     "execution_count": 12,
     "metadata": {},
     "output_type": "execute_result"
    }
   ],
   "source": [
    "np.linalg.norm(X_debiased), np.linalg.norm(X), np.linalg.norm(X_debiased - X)"
   ]
  },
  {
   "cell_type": "code",
   "execution_count": 13,
   "metadata": {
    "scrolled": false
   },
   "outputs": [
    {
     "data": {
      "text/plain": [
       "(9.145223297038804, 9.299421805879149)"
      ]
     },
     "execution_count": 13,
     "metadata": {},
     "output_type": "execute_result"
    }
   ],
   "source": [
    "np.linalg.norm(debiaser.transform(X_debiased)), np.linalg.norm(debiaser.transform(X))"
   ]
  },
  {
   "cell_type": "markdown",
   "metadata": {},
   "source": [
    "### Heuristics of Jumping in the first step (with great results)"
   ]
  },
  {
   "cell_type": "code",
   "execution_count": 14,
   "metadata": {
    "scrolled": true
   },
   "outputs": [
    {
     "name": "stderr",
     "output_type": "stream",
     "text": [
      "../src/debiasing/torch_kpca.py:235: UserWarning: To copy construct from a tensor, it is recommended to use sourceTensor.clone().detach() or sourceTensor.clone().detach().requires_grad_(True), rather than torch.tensor(sourceTensor).\n",
      "  X_orth = torch.tensor(X, dtype=DTYPE, device=DEVICE, requires_grad=True)\n"
     ]
    }
   ],
   "source": [
    "debiaser = DebiasingKPCA(n_components=3)\n",
    "debiaser.fit(X, X_index)\n",
    "\n",
    "# to prevent out of memory error, we aplit the data into smaller chanks\n",
    "X_debiased = np.empty(X.shape)\n",
    "BS = 320  # maximal possible batch size for GPU with 8gb memory in my local env.\n",
    "NB = int(np.ceil(X.shape[0] / BS))  # the number of batches\n",
    "for i in range(NB):\n",
    "    X_debiased[BS*i: BS*(i+1)] = debiaser.debias(X[BS*i: BS*(i+1)], lr=100, n_iter=1)\n",
    "    X_debiased[BS*i: BS*(i+1)] = debiaser.debias(X_debiased[BS*i: BS*(i+1)], lr=0.3, n_iter=10)"
   ]
  },
  {
   "cell_type": "code",
   "execution_count": 15,
   "metadata": {
    "scrolled": false
   },
   "outputs": [
    {
     "data": {
      "text/plain": [
       "(501.8966650870432, 426.1726765040533, 218.1508026901039)"
      ]
     },
     "execution_count": 15,
     "metadata": {},
     "output_type": "execute_result"
    }
   ],
   "source": [
    "np.linalg.norm(X_debiased), np.linalg.norm(X), np.linalg.norm(X_debiased - X)"
   ]
  },
  {
   "cell_type": "code",
   "execution_count": 16,
   "metadata": {
    "scrolled": false
   },
   "outputs": [
    {
     "data": {
      "text/plain": [
       "(1.270402079288094, 14.081595436343203)"
      ]
     },
     "execution_count": 16,
     "metadata": {},
     "output_type": "execute_result"
    }
   ],
   "source": [
    "np.linalg.norm(debiaser.transform(X_debiased)), np.linalg.norm(debiaser.transform(X))"
   ]
  },
  {
   "cell_type": "markdown",
   "metadata": {},
   "source": [
    "### Same heuristics using PCA as the first step (not great results)"
   ]
  },
  {
   "cell_type": "code",
   "execution_count": 17,
   "metadata": {
    "scrolled": false
   },
   "outputs": [
    {
     "name": "stderr",
     "output_type": "stream",
     "text": [
      "../src/debiasing/torch_kpca.py:235: UserWarning: To copy construct from a tensor, it is recommended to use sourceTensor.clone().detach() or sourceTensor.clone().detach().requires_grad_(True), rather than torch.tensor(sourceTensor).\n",
      "  X_orth = torch.tensor(X, dtype=DTYPE, device=DEVICE, requires_grad=True)\n"
     ]
    }
   ],
   "source": [
    "# Jumping with PCA does not work well\n",
    "pca_debiaser = DebiasingPCA(1)\n",
    "pca_debiaser.fit(X, X_index)\n",
    "X_debiased = pca_debiaser.debias(X)\n",
    "\n",
    "debiaser = DebiasingKPCA(n_components=3)\n",
    "debiaser.fit(X, X_index)\n",
    "\n",
    "# to prevent out of memory error, we aplit the data into smaller chanks\n",
    "X_debiased = np.empty(X.shape)\n",
    "BS = 320  # maximal possible batch size for GPU with 8gb memory in my local env.\n",
    "NB = int(np.ceil(X.shape[0] / BS))  # the number of batches\n",
    "for i in range(NB):\n",
    "    X_debiased[BS*i: BS*(i+1)] = debiaser.debias(X_debiased[BS*i: BS*(i+1)], lr=0.3, n_iter=10)"
   ]
  },
  {
   "cell_type": "code",
   "execution_count": 18,
   "metadata": {
    "scrolled": false
   },
   "outputs": [
    {
     "data": {
      "text/plain": [
       "(197.59332843513798, 426.1726765040533, 400.44669695327303)"
      ]
     },
     "execution_count": 18,
     "metadata": {},
     "output_type": "execute_result"
    }
   ],
   "source": [
    "np.linalg.norm(X_debiased), np.linalg.norm(X), np.linalg.norm(X_debiased - X)"
   ]
  },
  {
   "cell_type": "code",
   "execution_count": 19,
   "metadata": {
    "scrolled": false
   },
   "outputs": [
    {
     "data": {
      "text/plain": [
       "(0.6849948191987897, 14.081595436343203)"
      ]
     },
     "execution_count": 19,
     "metadata": {},
     "output_type": "execute_result"
    }
   ],
   "source": [
    "np.linalg.norm(debiaser.transform(X_debiased)), np.linalg.norm(debiaser.transform(X))"
   ]
  },
  {
   "cell_type": "markdown",
   "metadata": {},
   "source": [
    "# Appendices"
   ]
  },
  {
   "cell_type": "code",
   "execution_count": 1,
   "metadata": {
    "scrolled": true
   },
   "outputs": [],
   "source": [
    "import numpy as np\n",
    "import pandas as pd\n",
    "\n",
    "import sys\n",
    "sys.path.append(\"../\") # go to parent dir\n",
    "from src.debiasing import DebiasingKPCA\n",
    "from src.debiasing import DebiasingPCA"
   ]
  },
  {
   "cell_type": "code",
   "execution_count": 2,
   "metadata": {},
   "outputs": [],
   "source": [
    "data = pd.read_csv(\"../data/CoLA/mixed_dev_embeddings.tsv\", sep=\"\\t\")\n",
    "data = data.sort_values(by='defining set id')\n",
    "X = data.iloc[:, 3:771].to_numpy()\n",
    "X_index = data['defining set id'].to_numpy()"
   ]
  },
  {
   "cell_type": "markdown",
   "metadata": {},
   "source": [
    "## Kernel PCA debiasing (by kernel ridge pre-imaging)"
   ]
  },
  {
   "cell_type": "code",
   "execution_count": 17,
   "metadata": {
    "scrolled": false
   },
   "outputs": [
    {
     "data": {
      "text/plain": [
       "426.1726765040533"
      ]
     },
     "execution_count": 17,
     "metadata": {},
     "output_type": "execute_result"
    }
   ],
   "source": [
    "np.linalg.norm(X)"
   ]
  },
  {
   "cell_type": "markdown",
   "metadata": {},
   "source": [
    "### Unsuccessful case (Learn pre-image of bias subspace by min || Phi(w) - Proj (Phi(w))||)"
   ]
  },
  {
   "cell_type": "code",
   "execution_count": 18,
   "metadata": {},
   "outputs": [],
   "source": [
    "debiaser = NumpyDebiasingKernelPCA(n_components=3, kernel=\"rbf\")\n",
    "debiaser.fit(X, X_index)\n",
    "X_debiased = debiaser.debias(X)"
   ]
  },
  {
   "cell_type": "code",
   "execution_count": 19,
   "metadata": {
    "scrolled": false
   },
   "outputs": [
    {
     "data": {
      "text/plain": [
       "63.74915566837997"
      ]
     },
     "execution_count": 19,
     "metadata": {},
     "output_type": "execute_result"
    }
   ],
   "source": [
    "np.linalg.norm(X_debiased)"
   ]
  },
  {
   "cell_type": "markdown",
   "metadata": {},
   "source": [
    "### OK case (Learn pre-image of bias subspace by min || Phi(w - m) - Proj (Phi(w - m))||)"
   ]
  },
  {
   "cell_type": "code",
   "execution_count": 20,
   "metadata": {},
   "outputs": [],
   "source": [
    "DX = get_design_matrix(X_index)\n",
    "X_diff = DX @ X\n",
    "kpca = KernelPCA(n_components=3, kernel=\"rbf\", gamma=0.14, fit_inverse_transform=True)\n",
    "kpca.fit(X_diff)\n",
    "X_bias = kpca.inverse_transform(kpca.transform(X))\n",
    "X_debiased = X - X_bias"
   ]
  },
  {
   "cell_type": "code",
   "execution_count": 21,
   "metadata": {
    "scrolled": true
   },
   "outputs": [
    {
     "data": {
      "text/plain": [
       "425.8716657453607"
      ]
     },
     "execution_count": 21,
     "metadata": {},
     "output_type": "execute_result"
    }
   ],
   "source": [
    "np.linalg.norm(X_debiased)"
   ]
  },
  {
   "cell_type": "markdown",
   "metadata": {},
   "source": [
    "# Parameter Selection of the RBF kernel"
   ]
  },
  {
   "cell_type": "code",
   "execution_count": 79,
   "metadata": {},
   "outputs": [],
   "source": [
    "import optuna\n",
    "from sklearn.decomposition import KernelPCA"
   ]
  },
  {
   "cell_type": "code",
   "execution_count": 82,
   "metadata": {
    "scrolled": false
   },
   "outputs": [
    {
     "name": "stderr",
     "output_type": "stream",
     "text": [
      "\u001b[32m[I 2020-12-06 11:52:31,169]\u001b[0m A new study created in memory with name: no-name-d9e25b72-63fa-4821-b7e7-01d36556e7c6\u001b[0m\n",
      "\u001b[32m[I 2020-12-06 11:52:31,398]\u001b[0m Trial 0 finished with value: 70.6255804614972 and parameters: {'gamma': 0.018495641887016065}. Best is trial 0 with value: 70.6255804614972.\u001b[0m\n",
      "\u001b[32m[I 2020-12-06 11:52:31,702]\u001b[0m Trial 1 finished with value: 90.19607952318854 and parameters: {'gamma': 0.0023525267456423827}. Best is trial 0 with value: 70.6255804614972.\u001b[0m\n",
      "\u001b[32m[I 2020-12-06 11:52:31,988]\u001b[0m Trial 2 finished with value: 98.82535120219617 and parameters: {'gamma': 2.36839262189775e-05}. Best is trial 0 with value: 70.6255804614972.\u001b[0m\n",
      "\u001b[32m[I 2020-12-06 11:52:32,289]\u001b[0m Trial 3 finished with value: 103.02625744850815 and parameters: {'gamma': 49.14806445147206}. Best is trial 0 with value: 70.6255804614972.\u001b[0m\n",
      "\u001b[32m[I 2020-12-06 11:52:32,499]\u001b[0m Trial 4 finished with value: 100.54677486502385 and parameters: {'gamma': 49.82275523310855}. Best is trial 0 with value: 70.6255804614972.\u001b[0m\n",
      "\u001b[32m[I 2020-12-06 11:52:32,697]\u001b[0m Trial 5 finished with value: 98.82783547808489 and parameters: {'gamma': 2.029878705467836e-05}. Best is trial 0 with value: 70.6255804614972.\u001b[0m\n",
      "\u001b[32m[I 2020-12-06 11:52:32,917]\u001b[0m Trial 6 finished with value: 98.83065529925433 and parameters: {'gamma': 1.6074626982407194e-05}. Best is trial 0 with value: 70.6255804614972.\u001b[0m\n",
      "\u001b[32m[I 2020-12-06 11:52:33,153]\u001b[0m Trial 7 finished with value: 98.71623574097829 and parameters: {'gamma': 0.9903408581995607}. Best is trial 0 with value: 70.6255804614972.\u001b[0m\n",
      "\u001b[32m[I 2020-12-06 11:52:33,426]\u001b[0m Trial 8 finished with value: 98.83692571831767 and parameters: {'gamma': 2.7110208528792047e-06}. Best is trial 0 with value: 70.6255804614972.\u001b[0m\n",
      "\u001b[32m[I 2020-12-06 11:52:33,649]\u001b[0m Trial 9 finished with value: 98.72253348397335 and parameters: {'gamma': 0.22384723916138824}. Best is trial 0 with value: 70.6255804614972.\u001b[0m\n",
      "\u001b[32m[I 2020-12-06 11:52:33,856]\u001b[0m Trial 10 finished with value: 88.27312997977523 and parameters: {'gamma': 0.0028232364723238213}. Best is trial 0 with value: 70.6255804614972.\u001b[0m\n",
      "\u001b[32m[I 2020-12-06 11:52:34,133]\u001b[0m Trial 11 finished with value: 86.2484585585283 and parameters: {'gamma': 0.003349513454395037}. Best is trial 0 with value: 70.6255804614972.\u001b[0m\n",
      "\u001b[32m[I 2020-12-06 11:52:34,353]\u001b[0m Trial 12 finished with value: 89.548513703055 and parameters: {'gamma': 0.0025086324638171494}. Best is trial 0 with value: 70.6255804614972.\u001b[0m\n",
      "\u001b[32m[I 2020-12-06 11:52:34,587]\u001b[0m Trial 13 finished with value: 72.19608759159723 and parameters: {'gamma': 0.027948241254740595}. Best is trial 0 with value: 70.6255804614972.\u001b[0m\n",
      "\u001b[32m[I 2020-12-06 11:52:34,961]\u001b[0m Trial 14 finished with value: 98.31274220690013 and parameters: {'gamma': 0.12756051216144365}. Best is trial 0 with value: 70.6255804614972.\u001b[0m\n",
      "\u001b[32m[I 2020-12-06 11:52:35,173]\u001b[0m Trial 15 finished with value: 96.97475519553869 and parameters: {'gamma': 3.0771665881611083}. Best is trial 0 with value: 70.6255804614972.\u001b[0m\n",
      "\u001b[32m[I 2020-12-06 11:52:35,391]\u001b[0m Trial 16 finished with value: 71.33671334118401 and parameters: {'gamma': 0.023773601204947648}. Best is trial 0 with value: 70.6255804614972.\u001b[0m\n",
      "\u001b[32m[I 2020-12-06 11:52:35,601]\u001b[0m Trial 17 finished with value: 98.40270134951992 and parameters: {'gamma': 0.00026303333157510583}. Best is trial 0 with value: 70.6255804614972.\u001b[0m\n",
      "\u001b[32m[I 2020-12-06 11:52:35,860]\u001b[0m Trial 18 finished with value: 106.45879840410221 and parameters: {'gamma': 527.2958101392363}. Best is trial 0 with value: 70.6255804614972.\u001b[0m\n",
      "\u001b[32m[I 2020-12-06 11:52:36,164]\u001b[0m Trial 19 finished with value: 72.49073976082123 and parameters: {'gamma': 0.029271138785438376}. Best is trial 0 with value: 70.6255804614972.\u001b[0m\n",
      "\u001b[32m[I 2020-12-06 11:52:36,490]\u001b[0m Trial 20 finished with value: 98.20264003340152 and parameters: {'gamma': 0.000340598466079091}. Best is trial 0 with value: 70.6255804614972.\u001b[0m\n",
      "\u001b[32m[I 2020-12-06 11:52:36,768]\u001b[0m Trial 21 finished with value: 75.89670020602725 and parameters: {'gamma': 0.04459797280171336}. Best is trial 0 with value: 70.6255804614972.\u001b[0m\n",
      "\u001b[32m[I 2020-12-06 11:52:37,050]\u001b[0m Trial 22 finished with value: 98.7164190790463 and parameters: {'gamma': 1.4287292429513339}. Best is trial 0 with value: 70.6255804614972.\u001b[0m\n",
      "\u001b[32m[I 2020-12-06 11:52:37,321]\u001b[0m Trial 23 finished with value: 71.05180972032859 and parameters: {'gamma': 0.013150451701749718}. Best is trial 0 with value: 70.6255804614972.\u001b[0m\n",
      "\u001b[32m[I 2020-12-06 11:52:37,590]\u001b[0m Trial 24 finished with value: 97.87986523437718 and parameters: {'gamma': 0.0004520596378923929}. Best is trial 0 with value: 70.6255804614972.\u001b[0m\n",
      "\u001b[32m[I 2020-12-06 11:52:37,858]\u001b[0m Trial 25 finished with value: 72.7559684010718 and parameters: {'gamma': 0.00995077481397383}. Best is trial 0 with value: 70.6255804614972.\u001b[0m\n",
      "\u001b[32m[I 2020-12-06 11:52:38,143]\u001b[0m Trial 26 finished with value: 98.61812272275091 and parameters: {'gamma': 0.1492615321837465}. Best is trial 0 with value: 70.6255804614972.\u001b[0m\n",
      "\u001b[32m[I 2020-12-06 11:52:38,405]\u001b[0m Trial 27 finished with value: 71.0117617769105 and parameters: {'gamma': 0.013291145359951833}. Best is trial 0 with value: 70.6255804614972.\u001b[0m\n",
      "\u001b[32m[I 2020-12-06 11:52:38,658]\u001b[0m Trial 28 finished with value: 92.68802201128348 and parameters: {'gamma': 7.570733929226034}. Best is trial 0 with value: 70.6255804614972.\u001b[0m\n",
      "\u001b[32m[I 2020-12-06 11:52:38,898]\u001b[0m Trial 29 finished with value: 95.93354284525064 and parameters: {'gamma': 0.0009942886633580218}. Best is trial 0 with value: 70.6255804614972.\u001b[0m\n",
      "\u001b[32m[I 2020-12-06 11:52:39,138]\u001b[0m Trial 30 finished with value: 98.74407046736455 and parameters: {'gamma': 9.315993120082739e-05}. Best is trial 0 with value: 70.6255804614972.\u001b[0m\n",
      "\u001b[32m[I 2020-12-06 11:52:39,370]\u001b[0m Trial 31 finished with value: 72.48134839696 and parameters: {'gamma': 0.010298153414019849}. Best is trial 0 with value: 70.6255804614972.\u001b[0m\n",
      "\u001b[32m[I 2020-12-06 11:52:39,630]\u001b[0m Trial 32 finished with value: 98.72778200007323 and parameters: {'gamma': 0.27140478481932995}. Best is trial 0 with value: 70.6255804614972.\u001b[0m\n",
      "\u001b[32m[I 2020-12-06 11:52:39,862]\u001b[0m Trial 33 finished with value: 72.28904046474734 and parameters: {'gamma': 0.010563890123256548}. Best is trial 0 with value: 70.6255804614972.\u001b[0m\n",
      "\u001b[32m[I 2020-12-06 11:52:40,097]\u001b[0m Trial 34 finished with value: 77.59209048132696 and parameters: {'gamma': 0.052924957088274514}. Best is trial 0 with value: 70.6255804614972.\u001b[0m\n",
      "\u001b[32m[I 2020-12-06 11:52:40,343]\u001b[0m Trial 35 finished with value: 73.99294576957185 and parameters: {'gamma': 0.008698371906481168}. Best is trial 0 with value: 70.6255804614972.\u001b[0m\n",
      "\u001b[32m[I 2020-12-06 11:52:40,598]\u001b[0m Trial 36 finished with value: 96.07698097346912 and parameters: {'gamma': 0.000958020976359725}. Best is trial 0 with value: 70.6255804614972.\u001b[0m\n",
      "\u001b[32m[I 2020-12-06 11:52:40,856]\u001b[0m Trial 37 finished with value: 98.78527410841424 and parameters: {'gamma': 6.305368298244883e-05}. Best is trial 0 with value: 70.6255804614972.\u001b[0m\n",
      "\u001b[32m[I 2020-12-06 11:52:41,109]\u001b[0m Trial 38 finished with value: 98.7182617686369 and parameters: {'gamma': 0.6879306880306947}. Best is trial 0 with value: 70.6255804614972.\u001b[0m\n",
      "\u001b[32m[I 2020-12-06 11:52:41,355]\u001b[0m Trial 39 finished with value: 88.35251703986822 and parameters: {'gamma': 0.09723654997744456}. Best is trial 0 with value: 70.6255804614972.\u001b[0m\n",
      "\u001b[32m[I 2020-12-06 11:52:41,642]\u001b[0m Trial 40 finished with value: 98.72473451894417 and parameters: {'gamma': 0.40970460360857636}. Best is trial 0 with value: 70.6255804614972.\u001b[0m\n",
      "\u001b[32m[I 2020-12-06 11:52:41,881]\u001b[0m Trial 41 finished with value: 70.7175647568772 and parameters: {'gamma': 0.019588846103843087}. Best is trial 0 with value: 70.6255804614972.\u001b[0m\n",
      "\u001b[32m[I 2020-12-06 11:52:42,138]\u001b[0m Trial 42 finished with value: 70.91938082147783 and parameters: {'gamma': 0.021231778510301516}. Best is trial 0 with value: 70.6255804614972.\u001b[0m\n",
      "\u001b[32m[I 2020-12-06 11:52:42,429]\u001b[0m Trial 43 finished with value: 77.98370103211104 and parameters: {'gamma': 0.00621167229204652}. Best is trial 0 with value: 70.6255804614972.\u001b[0m\n",
      "\u001b[32m[I 2020-12-06 11:52:42,681]\u001b[0m Trial 44 finished with value: 93.21772597887427 and parameters: {'gamma': 0.0016432245722922108}. Best is trial 0 with value: 70.6255804614972.\u001b[0m\n"
     ]
    },
    {
     "name": "stderr",
     "output_type": "stream",
     "text": [
      "\u001b[32m[I 2020-12-06 11:52:42,998]\u001b[0m Trial 45 finished with value: 86.27530049156194 and parameters: {'gamma': 0.0033422716201183754}. Best is trial 0 with value: 70.6255804614972.\u001b[0m\n",
      "\u001b[32m[I 2020-12-06 11:52:43,263]\u001b[0m Trial 46 finished with value: 78.56101473726157 and parameters: {'gamma': 0.05770103435004176}. Best is trial 0 with value: 70.6255804614972.\u001b[0m\n",
      "\u001b[32m[I 2020-12-06 11:52:43,523]\u001b[0m Trial 47 finished with value: 71.32992734390429 and parameters: {'gamma': 0.023736612942704773}. Best is trial 0 with value: 70.6255804614972.\u001b[0m\n",
      "\u001b[32m[I 2020-12-06 11:52:43,770]\u001b[0m Trial 48 finished with value: 79.56598142309436 and parameters: {'gamma': 0.0055214001216590345}. Best is trial 0 with value: 70.6255804614972.\u001b[0m\n",
      "\u001b[32m[I 2020-12-06 11:52:44,023]\u001b[0m Trial 49 finished with value: 70.57175330945726 and parameters: {'gamma': 0.01700337588180724}. Best is trial 49 with value: 70.57175330945726.\u001b[0m\n",
      "\u001b[32m[I 2020-12-06 11:52:44,296]\u001b[0m Trial 50 finished with value: 93.25227548416461 and parameters: {'gamma': 8.673266090165377}. Best is trial 49 with value: 70.57175330945726.\u001b[0m\n",
      "\u001b[32m[I 2020-12-06 11:52:44,546]\u001b[0m Trial 51 finished with value: 70.58904839213284 and parameters: {'gamma': 0.017810004598774642}. Best is trial 49 with value: 70.57175330945726.\u001b[0m\n",
      "\u001b[32m[I 2020-12-06 11:52:44,789]\u001b[0m Trial 52 finished with value: 86.22451485978223 and parameters: {'gamma': 0.08950370306338284}. Best is trial 49 with value: 70.57175330945726.\u001b[0m\n",
      "\u001b[32m[I 2020-12-06 11:52:45,031]\u001b[0m Trial 53 finished with value: 71.74918669190387 and parameters: {'gamma': 0.025861324731152064}. Best is trial 49 with value: 70.57175330945726.\u001b[0m\n",
      "\u001b[32m[I 2020-12-06 11:52:45,270]\u001b[0m Trial 54 finished with value: 94.6992357503923 and parameters: {'gamma': 0.0012953061865899973}. Best is trial 49 with value: 70.57175330945726.\u001b[0m\n",
      "\u001b[32m[I 2020-12-06 11:52:45,534]\u001b[0m Trial 55 finished with value: 98.680334613955 and parameters: {'gamma': 0.1672241479903522}. Best is trial 49 with value: 70.57175330945726.\u001b[0m\n",
      "\u001b[32m[I 2020-12-06 11:52:45,772]\u001b[0m Trial 56 finished with value: 84.60702547032002 and parameters: {'gamma': 0.003809012616166014}. Best is trial 49 with value: 70.57175330945726.\u001b[0m\n",
      "\u001b[32m[I 2020-12-06 11:52:46,039]\u001b[0m Trial 57 finished with value: 70.98398032387496 and parameters: {'gamma': 0.021669631177111914}. Best is trial 49 with value: 70.57175330945726.\u001b[0m\n",
      "\u001b[32m[I 2020-12-06 11:52:46,286]\u001b[0m Trial 58 finished with value: 98.72644318101585 and parameters: {'gamma': 0.36065130830452724}. Best is trial 49 with value: 70.57175330945726.\u001b[0m\n",
      "\u001b[32m[I 2020-12-06 11:52:46,530]\u001b[0m Trial 59 finished with value: 70.7868326403929 and parameters: {'gamma': 0.02021660931248889}. Best is trial 49 with value: 70.57175330945726.\u001b[0m\n",
      "\u001b[32m[I 2020-12-06 11:52:46,784]\u001b[0m Trial 60 finished with value: 97.27938987198864 and parameters: {'gamma': 0.0006352542276347759}. Best is trial 49 with value: 70.57175330945726.\u001b[0m\n",
      "\u001b[32m[I 2020-12-06 11:52:47,120]\u001b[0m Trial 61 finished with value: 71.00182403815104 and parameters: {'gamma': 0.021786517406965928}. Best is trial 49 with value: 70.57175330945726.\u001b[0m\n",
      "\u001b[32m[I 2020-12-06 11:52:47,411]\u001b[0m Trial 62 finished with value: 80.10238256952259 and parameters: {'gamma': 0.06537075679763667}. Best is trial 49 with value: 70.57175330945726.\u001b[0m\n",
      "\u001b[32m[I 2020-12-06 11:52:47,745]\u001b[0m Trial 63 finished with value: 89.1088567570356 and parameters: {'gamma': 0.002615899428568312}. Best is trial 49 with value: 70.57175330945726.\u001b[0m\n",
      "\u001b[32m[I 2020-12-06 11:52:48,046]\u001b[0m Trial 64 finished with value: 75.00634398416273 and parameters: {'gamma': 0.04041799641155878}. Best is trial 49 with value: 70.57175330945726.\u001b[0m\n",
      "\u001b[32m[I 2020-12-06 11:52:48,357]\u001b[0m Trial 65 finished with value: 80.52747120542831 and parameters: {'gamma': 0.00514708214176785}. Best is trial 49 with value: 70.57175330945726.\u001b[0m\n",
      "\u001b[32m[I 2020-12-06 11:52:48,609]\u001b[0m Trial 66 finished with value: 70.6146081942673 and parameters: {'gamma': 0.015722137899027256}. Best is trial 49 with value: 70.57175330945726.\u001b[0m\n",
      "\u001b[32m[I 2020-12-06 11:52:48,865]\u001b[0m Trial 67 finished with value: 97.5677466896847 and parameters: {'gamma': 0.11315351930205947}. Best is trial 49 with value: 70.57175330945726.\u001b[0m\n",
      "\u001b[32m[I 2020-12-06 11:52:49,107]\u001b[0m Trial 68 finished with value: 70.67155474913339 and parameters: {'gamma': 0.015086228511147716}. Best is trial 49 with value: 70.57175330945726.\u001b[0m\n",
      "\u001b[32m[I 2020-12-06 11:52:49,361]\u001b[0m Trial 69 finished with value: 71.02178164197983 and parameters: {'gamma': 0.01325517990520743}. Best is trial 49 with value: 70.57175330945726.\u001b[0m\n",
      "\u001b[32m[I 2020-12-06 11:52:49,602]\u001b[0m Trial 70 finished with value: 91.41498071115474 and parameters: {'gamma': 0.0020637434918445194}. Best is trial 49 with value: 70.57175330945726.\u001b[0m\n",
      "\u001b[32m[I 2020-12-06 11:52:49,892]\u001b[0m Trial 71 finished with value: 70.57772636807437 and parameters: {'gamma': 0.016519186520527855}. Best is trial 49 with value: 70.57175330945726.\u001b[0m\n",
      "\u001b[32m[I 2020-12-06 11:52:50,161]\u001b[0m Trial 72 finished with value: 75.47802289595748 and parameters: {'gamma': 0.04259668782205757}. Best is trial 49 with value: 70.57175330945726.\u001b[0m\n",
      "\u001b[32m[I 2020-12-06 11:52:50,410]\u001b[0m Trial 73 finished with value: 76.46977991108551 and parameters: {'gamma': 0.0069906335070806305}. Best is trial 49 with value: 70.57175330945726.\u001b[0m\n",
      "\u001b[32m[I 2020-12-06 11:52:50,764]\u001b[0m Trial 74 finished with value: 71.01839125199766 and parameters: {'gamma': 0.013267288982863754}. Best is trial 49 with value: 70.57175330945726.\u001b[0m\n",
      "\u001b[32m[I 2020-12-06 11:52:51,082]\u001b[0m Trial 75 finished with value: 98.726800862654 and parameters: {'gamma': 0.25218263595428136}. Best is trial 49 with value: 70.57175330945726.\u001b[0m\n",
      "\u001b[32m[I 2020-12-06 11:52:51,377]\u001b[0m Trial 76 finished with value: 75.42375206618313 and parameters: {'gamma': 0.04234397010582004}. Best is trial 49 with value: 70.57175330945726.\u001b[0m\n",
      "\u001b[32m[I 2020-12-06 11:52:51,612]\u001b[0m Trial 77 finished with value: 84.85474864427026 and parameters: {'gamma': 0.08461017820892269}. Best is trial 49 with value: 70.57175330945726.\u001b[0m\n",
      "\u001b[32m[I 2020-12-06 11:52:51,858]\u001b[0m Trial 78 finished with value: 98.7203558212436 and parameters: {'gamma': 0.5634443841055315}. Best is trial 49 with value: 70.57175330945726.\u001b[0m\n",
      "\u001b[32m[I 2020-12-06 11:52:52,088]\u001b[0m Trial 79 finished with value: 82.51303113723611 and parameters: {'gamma': 0.004453352871763462}. Best is trial 49 with value: 70.57175330945726.\u001b[0m\n",
      "\u001b[32m[I 2020-12-06 11:52:52,322]\u001b[0m Trial 80 finished with value: 74.33854350367575 and parameters: {'gamma': 0.008411197294836463}. Best is trial 49 with value: 70.57175330945726.\u001b[0m\n",
      "\u001b[32m[I 2020-12-06 11:52:52,555]\u001b[0m Trial 81 finished with value: 70.57744419316221 and parameters: {'gamma': 0.01653099614061678}. Best is trial 49 with value: 70.57175330945726.\u001b[0m\n",
      "\u001b[32m[I 2020-12-06 11:52:52,799]\u001b[0m Trial 82 finished with value: 70.6176910290292 and parameters: {'gamma': 0.01567849952064273}. Best is trial 49 with value: 70.57175330945726.\u001b[0m\n",
      "\u001b[32m[I 2020-12-06 11:52:53,039]\u001b[0m Trial 83 finished with value: 70.64439095133159 and parameters: {'gamma': 0.015352673982110281}. Best is trial 49 with value: 70.57175330945726.\u001b[0m\n",
      "\u001b[32m[I 2020-12-06 11:52:53,287]\u001b[0m Trial 84 finished with value: 98.701457125811 and parameters: {'gamma': 0.1824798128032527}. Best is trial 49 with value: 70.57175330945726.\u001b[0m\n",
      "\u001b[32m[I 2020-12-06 11:52:53,520]\u001b[0m Trial 85 finished with value: 70.81079186889244 and parameters: {'gamma': 0.014155001468064777}. Best is trial 49 with value: 70.57175330945726.\u001b[0m\n",
      "\u001b[32m[I 2020-12-06 11:52:53,756]\u001b[0m Trial 86 finished with value: 73.22321594776429 and parameters: {'gamma': 0.03248073855331935}. Best is trial 49 with value: 70.57175330945726.\u001b[0m\n",
      "\u001b[32m[I 2020-12-06 11:52:53,997]\u001b[0m Trial 87 finished with value: 91.93678022991061 and parameters: {'gamma': 0.0019415484994127852}. Best is trial 49 with value: 70.57175330945726.\u001b[0m\n",
      "\u001b[32m[I 2020-12-06 11:52:54,230]\u001b[0m Trial 88 finished with value: 75.52306018615226 and parameters: {'gamma': 0.007561846347754285}. Best is trial 49 with value: 70.57175330945726.\u001b[0m\n",
      "\u001b[32m[I 2020-12-06 11:52:54,486]\u001b[0m Trial 89 finished with value: 98.83722742801763 and parameters: {'gamma': 1.356993182426978e-06}. Best is trial 49 with value: 70.57175330945726.\u001b[0m\n"
     ]
    },
    {
     "name": "stderr",
     "output_type": "stream",
     "text": [
      "\u001b[32m[I 2020-12-06 11:52:54,717]\u001b[0m Trial 90 finished with value: 96.6308438047587 and parameters: {'gamma': 0.0008141699768864994}. Best is trial 49 with value: 70.57175330945726.\u001b[0m\n",
      "\u001b[32m[I 2020-12-06 11:52:54,953]\u001b[0m Trial 91 finished with value: 70.57212829139671 and parameters: {'gamma': 0.01687335135439022}. Best is trial 49 with value: 70.57175330945726.\u001b[0m\n",
      "\u001b[32m[I 2020-12-06 11:52:55,193]\u001b[0m Trial 92 finished with value: 78.7213995322003 and parameters: {'gamma': 0.0584927670440457}. Best is trial 49 with value: 70.57175330945726.\u001b[0m\n",
      "\u001b[32m[I 2020-12-06 11:52:55,518]\u001b[0m Trial 93 finished with value: 85.2892127521121 and parameters: {'gamma': 0.0036138584216266886}. Best is trial 49 with value: 70.57175330945726.\u001b[0m\n",
      "\u001b[32m[I 2020-12-06 11:52:55,749]\u001b[0m Trial 94 finished with value: 70.72464838993437 and parameters: {'gamma': 0.014672291844299594}. Best is trial 49 with value: 70.57175330945726.\u001b[0m\n",
      "\u001b[32m[I 2020-12-06 11:52:56,002]\u001b[0m Trial 95 finished with value: 73.10020672732611 and parameters: {'gamma': 0.0319400026824027}. Best is trial 49 with value: 70.57175330945726.\u001b[0m\n",
      "\u001b[32m[I 2020-12-06 11:52:56,328]\u001b[0m Trial 96 finished with value: 75.23185201697038 and parameters: {'gamma': 0.007754564381066983}. Best is trial 49 with value: 70.57175330945726.\u001b[0m\n",
      "\u001b[32m[I 2020-12-06 11:52:56,717]\u001b[0m Trial 97 finished with value: 96.48082850855828 and parameters: {'gamma': 0.10887977935536854}. Best is trial 49 with value: 70.57175330945726.\u001b[0m\n",
      "\u001b[32m[I 2020-12-06 11:52:56,954]\u001b[0m Trial 98 finished with value: 80.85067294252337 and parameters: {'gamma': 0.0691688721510321}. Best is trial 49 with value: 70.57175330945726.\u001b[0m\n",
      "\u001b[32m[I 2020-12-06 11:52:57,247]\u001b[0m Trial 99 finished with value: 80.39679868349063 and parameters: {'gamma': 0.005196309720331843}. Best is trial 49 with value: 70.57175330945726.\u001b[0m\n"
     ]
    },
    {
     "name": "stdout",
     "output_type": "stream",
     "text": [
      "{'gamma': 0.01700337588180724}\n"
     ]
    }
   ],
   "source": [
    "# gamma = 0.017 seems to work well\n",
    "\n",
    "def objective(trial):\n",
    "    # n = trial.suggest_int(\"n_components\", 1, 30)\n",
    "    gamma = trial.suggest_loguniform('gamma', 1e-6, 1e+3)\n",
    "    kpca = KernelPCA(n_components=3, kernel=\"laplacian\", gamma=gamma, fit_inverse_transform=True)\n",
    "    kpca.fit(X[:400])\n",
    "    X_reproj = kpca.inverse_transform(kpca.transform(X[400:]))\n",
    "    return np.linalg.norm(X[400:] - X_reproj)\n",
    "\n",
    "study = optuna.create_study()\n",
    "study.optimize(objective, n_trials=100)\n",
    "print(study.best_params)"
   ]
  },
  {
   "cell_type": "code",
   "execution_count": 84,
   "metadata": {
    "scrolled": false
   },
   "outputs": [
    {
     "name": "stderr",
     "output_type": "stream",
     "text": [
      "\u001b[32m[I 2020-12-06 11:53:55,863]\u001b[0m A new study created in memory with name: no-name-755fd925-93a6-4da0-a874-aab576579420\u001b[0m\n",
      "\u001b[32m[I 2020-12-06 11:53:55,978]\u001b[0m Trial 0 finished with value: 98.83721461538879 and parameters: {'gamma': 1.1091882021259413e-05}. Best is trial 0 with value: 98.83721461538879.\u001b[0m\n",
      "\u001b[32m[I 2020-12-06 11:53:56,050]\u001b[0m Trial 1 finished with value: 68.26265823294199 and parameters: {'gamma': 0.010649700192192685}. Best is trial 1 with value: 68.26265823294199.\u001b[0m\n",
      "\u001b[32m[I 2020-12-06 11:53:56,128]\u001b[0m Trial 2 finished with value: 102.27782464824942 and parameters: {'gamma': 370.76678226486206}. Best is trial 1 with value: 68.26265823294199.\u001b[0m\n",
      "\u001b[32m[I 2020-12-06 11:53:56,201]\u001b[0m Trial 3 finished with value: 64.19973689245597 and parameters: {'gamma': 0.04277070850359434}. Best is trial 3 with value: 64.19973689245597.\u001b[0m\n",
      "\u001b[32m[I 2020-12-06 11:53:56,293]\u001b[0m Trial 4 finished with value: 98.83738879256887 and parameters: {'gamma': 1.6797646488573607e-06}. Best is trial 3 with value: 64.19973689245597.\u001b[0m\n",
      "\u001b[32m[I 2020-12-06 11:53:56,391]\u001b[0m Trial 5 finished with value: 75.78052805070001 and parameters: {'gamma': 0.007066643465156566}. Best is trial 3 with value: 64.19973689245597.\u001b[0m\n",
      "\u001b[32m[I 2020-12-06 11:53:56,459]\u001b[0m Trial 6 finished with value: 98.82835818591558 and parameters: {'gamma': 7.924598285939072e-05}. Best is trial 3 with value: 64.19973689245597.\u001b[0m\n",
      "\u001b[32m[I 2020-12-06 11:53:56,539]\u001b[0m Trial 7 finished with value: 61.905877393140514 and parameters: {'gamma': 0.019770387664149798}. Best is trial 7 with value: 61.905877393140514.\u001b[0m\n",
      "\u001b[32m[I 2020-12-06 11:53:56,619]\u001b[0m Trial 8 finished with value: 89.82333262590804 and parameters: {'gamma': 0.4048208957583491}. Best is trial 7 with value: 61.905877393140514.\u001b[0m\n",
      "\u001b[32m[I 2020-12-06 11:53:56,705]\u001b[0m Trial 9 finished with value: 70.1818602642631 and parameters: {'gamma': 0.009504740350137665}. Best is trial 7 with value: 61.905877393140514.\u001b[0m\n",
      "\u001b[32m[I 2020-12-06 11:53:56,810]\u001b[0m Trial 10 finished with value: 98.82851847578146 and parameters: {'gamma': 13.699631227524371}. Best is trial 7 with value: 61.905877393140514.\u001b[0m\n",
      "\u001b[32m[I 2020-12-06 11:53:56,903]\u001b[0m Trial 11 finished with value: 97.63103486793601 and parameters: {'gamma': 0.5644253169699667}. Best is trial 7 with value: 61.905877393140514.\u001b[0m\n",
      "\u001b[32m[I 2020-12-06 11:53:56,994]\u001b[0m Trial 12 finished with value: 98.09221699466346 and parameters: {'gamma': 0.000749398160918271}. Best is trial 7 with value: 61.905877393140514.\u001b[0m\n",
      "\u001b[32m[I 2020-12-06 11:53:57,090]\u001b[0m Trial 13 finished with value: 98.61720712719763 and parameters: {'gamma': 0.9426089728716697}. Best is trial 7 with value: 61.905877393140514.\u001b[0m\n",
      "\u001b[32m[I 2020-12-06 11:53:57,200]\u001b[0m Trial 14 finished with value: 98.59467364582358 and parameters: {'gamma': 0.0004187816611911522}. Best is trial 7 with value: 61.905877393140514.\u001b[0m\n",
      "\u001b[32m[I 2020-12-06 11:53:57,309]\u001b[0m Trial 15 finished with value: 72.76570062169772 and parameters: {'gamma': 0.10006698194866992}. Best is trial 7 with value: 61.905877393140514.\u001b[0m\n",
      "\u001b[32m[I 2020-12-06 11:53:57,401]\u001b[0m Trial 16 finished with value: 98.82329725410423 and parameters: {'gamma': 11.76687462918595}. Best is trial 7 with value: 61.905877393140514.\u001b[0m\n",
      "\u001b[32m[I 2020-12-06 11:53:57,498]\u001b[0m Trial 17 finished with value: 98.75857542593938 and parameters: {'gamma': 5.203020075855099}. Best is trial 7 with value: 61.905877393140514.\u001b[0m\n",
      "\u001b[32m[I 2020-12-06 11:53:57,599]\u001b[0m Trial 18 finished with value: 97.66544309641587 and parameters: {'gamma': 0.0009529566214317041}. Best is trial 7 with value: 61.905877393140514.\u001b[0m\n",
      "\u001b[32m[I 2020-12-06 11:53:57,700]\u001b[0m Trial 19 finished with value: 102.44745726520833 and parameters: {'gamma': 481.6502908248757}. Best is trial 7 with value: 61.905877393140514.\u001b[0m\n",
      "\u001b[32m[I 2020-12-06 11:53:57,769]\u001b[0m Trial 20 finished with value: 70.46857665706844 and parameters: {'gamma': 0.08131139876891673}. Best is trial 7 with value: 61.905877393140514.\u001b[0m\n",
      "\u001b[32m[I 2020-12-06 11:53:57,849]\u001b[0m Trial 21 finished with value: 91.75282498854067 and parameters: {'gamma': 0.0026890442177702678}. Best is trial 7 with value: 61.905877393140514.\u001b[0m\n",
      "\u001b[32m[I 2020-12-06 11:53:57,941]\u001b[0m Trial 22 finished with value: 61.92850095330683 and parameters: {'gamma': 0.029386225902207075}. Best is trial 7 with value: 61.905877393140514.\u001b[0m\n",
      "\u001b[32m[I 2020-12-06 11:53:58,021]\u001b[0m Trial 23 finished with value: 63.105215435251395 and parameters: {'gamma': 0.036868280355145215}. Best is trial 7 with value: 61.905877393140514.\u001b[0m\n",
      "\u001b[32m[I 2020-12-06 11:53:58,123]\u001b[0m Trial 24 finished with value: 98.79966253780528 and parameters: {'gamma': 0.00016267926214066296}. Best is trial 7 with value: 61.905877393140514.\u001b[0m\n",
      "\u001b[32m[I 2020-12-06 11:53:58,233]\u001b[0m Trial 25 finished with value: 79.15574074234081 and parameters: {'gamma': 0.1713878298347406}. Best is trial 7 with value: 61.905877393140514.\u001b[0m\n",
      "\u001b[32m[I 2020-12-06 11:53:58,390]\u001b[0m Trial 26 finished with value: 98.67002108723068 and parameters: {'gamma': 2.7689195578439962}. Best is trial 7 with value: 61.905877393140514.\u001b[0m\n",
      "\u001b[32m[I 2020-12-06 11:53:58,505]\u001b[0m Trial 27 finished with value: 62.7067474046443 and parameters: {'gamma': 0.03459132493919552}. Best is trial 7 with value: 61.905877393140514.\u001b[0m\n",
      "\u001b[32m[I 2020-12-06 11:53:58,605]\u001b[0m Trial 28 finished with value: 91.8072891252606 and parameters: {'gamma': 0.0026756061983606726}. Best is trial 7 with value: 61.905877393140514.\u001b[0m\n",
      "\u001b[32m[I 2020-12-06 11:53:58,706]\u001b[0m Trial 29 finished with value: 98.83614994564829 and parameters: {'gamma': 2.931583692126199e-05}. Best is trial 7 with value: 61.905877393140514.\u001b[0m\n",
      "\u001b[32m[I 2020-12-06 11:53:58,800]\u001b[0m Trial 30 finished with value: 87.25873818565867 and parameters: {'gamma': 0.003781206267630703}. Best is trial 7 with value: 61.905877393140514.\u001b[0m\n",
      "\u001b[32m[I 2020-12-06 11:53:58,944]\u001b[0m Trial 31 finished with value: 64.6959802327474 and parameters: {'gamma': 0.04540925470920297}. Best is trial 7 with value: 61.905877393140514.\u001b[0m\n",
      "\u001b[32m[I 2020-12-06 11:53:59,087]\u001b[0m Trial 32 finished with value: 61.58670460772512 and parameters: {'gamma': 0.025531887396264212}. Best is trial 32 with value: 61.58670460772512.\u001b[0m\n",
      "\u001b[32m[I 2020-12-06 11:53:59,245]\u001b[0m Trial 33 finished with value: 61.64582940650663 and parameters: {'gamma': 0.02161841041635297}. Best is trial 32 with value: 61.58670460772512.\u001b[0m\n",
      "\u001b[32m[I 2020-12-06 11:53:59,378]\u001b[0m Trial 34 finished with value: 62.945903628961545 and parameters: {'gamma': 0.016508264475416944}. Best is trial 32 with value: 61.58670460772512.\u001b[0m\n",
      "\u001b[32m[I 2020-12-06 11:53:59,502]\u001b[0m Trial 35 finished with value: 98.5446700010969 and parameters: {'gamma': 88.0470771297609}. Best is trial 32 with value: 61.58670460772512.\u001b[0m\n",
      "\u001b[32m[I 2020-12-06 11:53:59,647]\u001b[0m Trial 36 finished with value: 80.88706309132743 and parameters: {'gamma': 0.19736233846275517}. Best is trial 32 with value: 61.58670460772512.\u001b[0m\n",
      "\u001b[32m[I 2020-12-06 11:53:59,749]\u001b[0m Trial 37 finished with value: 63.83523054327466 and parameters: {'gamma': 0.014918866514413057}. Best is trial 32 with value: 61.58670460772512.\u001b[0m\n",
      "\u001b[32m[I 2020-12-06 11:53:59,884]\u001b[0m Trial 38 finished with value: 95.07820675904428 and parameters: {'gamma': 0.001822449121249501}. Best is trial 32 with value: 61.58670460772512.\u001b[0m\n",
      "\u001b[32m[I 2020-12-06 11:53:59,985]\u001b[0m Trial 39 finished with value: 71.44527099855779 and parameters: {'gamma': 0.00886036249397432}. Best is trial 32 with value: 61.58670460772512.\u001b[0m\n",
      "\u001b[32m[I 2020-12-06 11:54:00,118]\u001b[0m Trial 40 finished with value: 98.61936166687806 and parameters: {'gamma': 1.7524489127495655}. Best is trial 32 with value: 61.58670460772512.\u001b[0m\n",
      "\u001b[32m[I 2020-12-06 11:54:00,227]\u001b[0m Trial 41 finished with value: 61.5512834492371 and parameters: {'gamma': 0.02338615613954859}. Best is trial 41 with value: 61.5512834492371.\u001b[0m\n",
      "\u001b[32m[I 2020-12-06 11:54:00,347]\u001b[0m Trial 42 finished with value: 85.79622878762254 and parameters: {'gamma': 0.29781459367134355}. Best is trial 41 with value: 61.5512834492371.\u001b[0m\n",
      "\u001b[32m[I 2020-12-06 11:54:00,482]\u001b[0m Trial 43 finished with value: 62.98379328106187 and parameters: {'gamma': 0.016427827207771445}. Best is trial 41 with value: 61.5512834492371.\u001b[0m\n"
     ]
    },
    {
     "name": "stderr",
     "output_type": "stream",
     "text": [
      "\u001b[32m[I 2020-12-06 11:54:00,628]\u001b[0m Trial 44 finished with value: 70.72345003264542 and parameters: {'gamma': 0.08324284229047395}. Best is trial 41 with value: 61.5512834492371.\u001b[0m\n",
      "\u001b[32m[I 2020-12-06 11:54:00,744]\u001b[0m Trial 45 finished with value: 82.96028368917746 and parameters: {'gamma': 0.004873099974045897}. Best is trial 41 with value: 61.5512834492371.\u001b[0m\n",
      "\u001b[32m[I 2020-12-06 11:54:00,897]\u001b[0m Trial 46 finished with value: 98.7630416460163 and parameters: {'gamma': 0.00022921761174178693}. Best is trial 41 with value: 61.5512834492371.\u001b[0m\n",
      "\u001b[32m[I 2020-12-06 11:54:01,028]\u001b[0m Trial 47 finished with value: 98.83578198732017 and parameters: {'gamma': 0.7556917557245546}. Best is trial 41 with value: 61.5512834492371.\u001b[0m\n",
      "\u001b[32m[I 2020-12-06 11:54:01,138]\u001b[0m Trial 48 finished with value: 61.90836949213868 and parameters: {'gamma': 0.019757590886364345}. Best is trial 41 with value: 61.5512834492371.\u001b[0m\n",
      "\u001b[32m[I 2020-12-06 11:54:01,238]\u001b[0m Trial 49 finished with value: 98.08057670131161 and parameters: {'gamma': 0.0007555378537903603}. Best is trial 41 with value: 61.5512834492371.\u001b[0m\n",
      "\u001b[32m[I 2020-12-06 11:54:01,344]\u001b[0m Trial 50 finished with value: 75.7686792479021 and parameters: {'gamma': 0.007070898725061373}. Best is trial 41 with value: 61.5512834492371.\u001b[0m\n",
      "\u001b[32m[I 2020-12-06 11:54:01,447]\u001b[0m Trial 51 finished with value: 61.80761306751071 and parameters: {'gamma': 0.028328368626855942}. Best is trial 41 with value: 61.5512834492371.\u001b[0m\n",
      "\u001b[32m[I 2020-12-06 11:54:01,543]\u001b[0m Trial 52 finished with value: 75.8241179608827 and parameters: {'gamma': 0.13022603131402505}. Best is trial 41 with value: 61.5512834492371.\u001b[0m\n",
      "\u001b[32m[I 2020-12-06 11:54:01,717]\u001b[0m Trial 53 finished with value: 67.03345776593677 and parameters: {'gamma': 0.058434537684956406}. Best is trial 41 with value: 61.5512834492371.\u001b[0m\n",
      "\u001b[32m[I 2020-12-06 11:54:01,797]\u001b[0m Trial 54 finished with value: 61.582676712201426 and parameters: {'gamma': 0.02249504489963777}. Best is trial 41 with value: 61.5512834492371.\u001b[0m\n",
      "\u001b[32m[I 2020-12-06 11:54:01,887]\u001b[0m Trial 55 finished with value: 98.8373881012733 and parameters: {'gamma': 1.816116419475952e-06}. Best is trial 41 with value: 61.5512834492371.\u001b[0m\n",
      "\u001b[32m[I 2020-12-06 11:54:01,967]\u001b[0m Trial 56 finished with value: 96.88582014887271 and parameters: {'gamma': 0.0012569547219411922}. Best is trial 41 with value: 61.5512834492371.\u001b[0m\n",
      "\u001b[32m[I 2020-12-06 11:54:02,052]\u001b[0m Trial 57 finished with value: 80.67068256731902 and parameters: {'gamma': 0.005505843406272323}. Best is trial 41 with value: 61.5512834492371.\u001b[0m\n",
      "\u001b[32m[I 2020-12-06 11:54:02,161]\u001b[0m Trial 58 finished with value: 90.79964580176592 and parameters: {'gamma': 0.42663531088124323}. Best is trial 41 with value: 61.5512834492371.\u001b[0m\n",
      "\u001b[32m[I 2020-12-06 11:54:02,254]\u001b[0m Trial 59 finished with value: 70.89618275107344 and parameters: {'gamma': 0.009131595786829998}. Best is trial 41 with value: 61.5512834492371.\u001b[0m\n",
      "\u001b[32m[I 2020-12-06 11:54:02,356]\u001b[0m Trial 60 finished with value: 61.981249532144545 and parameters: {'gamma': 0.02980841863871728}. Best is trial 41 with value: 61.5512834492371.\u001b[0m\n",
      "\u001b[32m[I 2020-12-06 11:54:02,453]\u001b[0m Trial 61 finished with value: 62.168462912056164 and parameters: {'gamma': 0.018641354071692973}. Best is trial 41 with value: 61.5512834492371.\u001b[0m\n",
      "\u001b[32m[I 2020-12-06 11:54:02,537]\u001b[0m Trial 62 finished with value: 68.0455569430091 and parameters: {'gamma': 0.06461820541356103}. Best is trial 41 with value: 61.5512834492371.\u001b[0m\n",
      "\u001b[32m[I 2020-12-06 11:54:02,617]\u001b[0m Trial 63 finished with value: 82.46394138029491 and parameters: {'gamma': 0.22472816537281834}. Best is trial 41 with value: 61.5512834492371.\u001b[0m\n",
      "\u001b[32m[I 2020-12-06 11:54:02,702]\u001b[0m Trial 64 finished with value: 61.60998495285862 and parameters: {'gamma': 0.022056527384430806}. Best is trial 41 with value: 61.5512834492371.\u001b[0m\n",
      "\u001b[32m[I 2020-12-06 11:54:02,788]\u001b[0m Trial 65 finished with value: 75.26433289264948 and parameters: {'gamma': 0.12421942425721563}. Best is trial 41 with value: 61.5512834492371.\u001b[0m\n",
      "\u001b[32m[I 2020-12-06 11:54:02,868]\u001b[0m Trial 66 finished with value: 87.29682428273283 and parameters: {'gamma': 0.003771887621401223}. Best is trial 41 with value: 61.5512834492371.\u001b[0m\n",
      "\u001b[32m[I 2020-12-06 11:54:02,963]\u001b[0m Trial 67 finished with value: 63.34661308062894 and parameters: {'gamma': 0.03819850614243576}. Best is trial 41 with value: 61.5512834492371.\u001b[0m\n",
      "\u001b[32m[I 2020-12-06 11:54:03,105]\u001b[0m Trial 68 finished with value: 94.7881148766113 and parameters: {'gamma': 0.0019039031192319372}. Best is trial 41 with value: 61.5512834492371.\u001b[0m\n",
      "\u001b[32m[I 2020-12-06 11:54:03,255]\u001b[0m Trial 69 finished with value: 73.67858988611705 and parameters: {'gamma': 0.007870548942442945}. Best is trial 41 with value: 61.5512834492371.\u001b[0m\n",
      "\u001b[32m[I 2020-12-06 11:54:03,392]\u001b[0m Trial 70 finished with value: 98.62974476862877 and parameters: {'gamma': 0.00038659534319124706}. Best is trial 41 with value: 61.5512834492371.\u001b[0m\n",
      "\u001b[32m[I 2020-12-06 11:54:03,486]\u001b[0m Trial 71 finished with value: 61.587869640751045 and parameters: {'gamma': 0.0224004824120171}. Best is trial 41 with value: 61.5512834492371.\u001b[0m\n",
      "\u001b[32m[I 2020-12-06 11:54:03,559]\u001b[0m Trial 72 finished with value: 61.58355006043639 and parameters: {'gamma': 0.02546444090499306}. Best is trial 41 with value: 61.5512834492371.\u001b[0m\n",
      "\u001b[32m[I 2020-12-06 11:54:03,615]\u001b[0m Trial 73 finished with value: 65.67051204737128 and parameters: {'gamma': 0.012715101610471232}. Best is trial 41 with value: 61.5512834492371.\u001b[0m\n",
      "\u001b[32m[I 2020-12-06 11:54:03,688]\u001b[0m Trial 74 finished with value: 66.99065869847834 and parameters: {'gamma': 0.05818174649589806}. Best is trial 41 with value: 61.5512834492371.\u001b[0m\n",
      "\u001b[32m[I 2020-12-06 11:54:03,760]\u001b[0m Trial 75 finished with value: 62.2940048499797 and parameters: {'gamma': 0.032034471751295535}. Best is trial 41 with value: 61.5512834492371.\u001b[0m\n",
      "\u001b[32m[I 2020-12-06 11:54:03,822]\u001b[0m Trial 76 finished with value: 73.76927912159623 and parameters: {'gamma': 0.10926874370782148}. Best is trial 41 with value: 61.5512834492371.\u001b[0m\n",
      "\u001b[32m[I 2020-12-06 11:54:03,889]\u001b[0m Trial 77 finished with value: 89.08432209269392 and parameters: {'gamma': 0.0033377705222252772}. Best is trial 41 with value: 61.5512834492371.\u001b[0m\n",
      "\u001b[32m[I 2020-12-06 11:54:03,967]\u001b[0m Trial 78 finished with value: 61.55147032457981 and parameters: {'gamma': 0.024466427709672247}. Best is trial 41 with value: 61.5512834492371.\u001b[0m\n",
      "\u001b[32m[I 2020-12-06 11:54:04,156]\u001b[0m Trial 79 finished with value: 87.52212548474483 and parameters: {'gamma': 0.34387053358975683}. Best is trial 41 with value: 61.5512834492371.\u001b[0m\n",
      "\u001b[32m[I 2020-12-06 11:54:04,311]\u001b[0m Trial 80 finished with value: 68.53438460274872 and parameters: {'gamma': 0.010472594443302714}. Best is trial 41 with value: 61.5512834492371.\u001b[0m\n",
      "\u001b[32m[I 2020-12-06 11:54:04,419]\u001b[0m Trial 81 finished with value: 61.57241180091499 and parameters: {'gamma': 0.025201834487100266}. Best is trial 41 with value: 61.5512834492371.\u001b[0m\n",
      "\u001b[32m[I 2020-12-06 11:54:04,517]\u001b[0m Trial 82 finished with value: 70.17561651626912 and parameters: {'gamma': 0.0791350020638216}. Best is trial 41 with value: 61.5512834492371.\u001b[0m\n",
      "\u001b[32m[I 2020-12-06 11:54:04,613]\u001b[0m Trial 83 finished with value: 61.65090243119437 and parameters: {'gamma': 0.026591152837270277}. Best is trial 41 with value: 61.5512834492371.\u001b[0m\n",
      "\u001b[32m[I 2020-12-06 11:54:04,700]\u001b[0m Trial 84 finished with value: 63.637474511374485 and parameters: {'gamma': 0.015228061467675458}. Best is trial 41 with value: 61.5512834492371.\u001b[0m\n",
      "\u001b[32m[I 2020-12-06 11:54:04,800]\u001b[0m Trial 85 finished with value: 80.42894114938883 and parameters: {'gamma': 0.19011584596603673}. Best is trial 41 with value: 61.5512834492371.\u001b[0m\n",
      "\u001b[32m[I 2020-12-06 11:54:04,884]\u001b[0m Trial 86 finished with value: 78.79704316797394 and parameters: {'gamma': 0.0060637257600002405}. Best is trial 41 with value: 61.5512834492371.\u001b[0m\n",
      "\u001b[32m[I 2020-12-06 11:54:04,980]\u001b[0m Trial 87 finished with value: 65.70169942021836 and parameters: {'gamma': 0.0508474266271704}. Best is trial 41 with value: 61.5512834492371.\u001b[0m\n",
      "\u001b[32m[I 2020-12-06 11:54:05,074]\u001b[0m Trial 88 finished with value: 94.09503853633545 and parameters: {'gamma': 0.002092329985170372}. Best is trial 41 with value: 61.5512834492371.\u001b[0m\n"
     ]
    },
    {
     "name": "stderr",
     "output_type": "stream",
     "text": [
      "\u001b[32m[I 2020-12-06 11:54:05,162]\u001b[0m Trial 89 finished with value: 61.564828214381386 and parameters: {'gamma': 0.02289325052852994}. Best is trial 41 with value: 61.5512834492371.\u001b[0m\n",
      "\u001b[32m[I 2020-12-06 11:54:05,266]\u001b[0m Trial 90 finished with value: 66.49995748095314 and parameters: {'gamma': 0.011963738164877086}. Best is trial 41 with value: 61.5512834492371.\u001b[0m\n",
      "\u001b[32m[I 2020-12-06 11:54:05,365]\u001b[0m Trial 91 finished with value: 61.54888512823437 and parameters: {'gamma': 0.024294055898260124}. Best is trial 91 with value: 61.54888512823437.\u001b[0m\n",
      "\u001b[32m[I 2020-12-06 11:54:05,528]\u001b[0m Trial 92 finished with value: 64.43421413615391 and parameters: {'gamma': 0.04401616015765182}. Best is trial 91 with value: 61.54888512823437.\u001b[0m\n",
      "\u001b[32m[I 2020-12-06 11:54:05,664]\u001b[0m Trial 93 finished with value: 61.79537242071066 and parameters: {'gamma': 0.02040245392648075}. Best is trial 91 with value: 61.54888512823437.\u001b[0m\n",
      "\u001b[32m[I 2020-12-06 11:54:05,796]\u001b[0m Trial 94 finished with value: 71.07521102927788 and parameters: {'gamma': 0.08596775094845685}. Best is trial 91 with value: 61.54888512823437.\u001b[0m\n",
      "\u001b[32m[I 2020-12-06 11:54:05,918]\u001b[0m Trial 95 finished with value: 76.37338793448825 and parameters: {'gamma': 0.006857238983915335}. Best is trial 91 with value: 61.54888512823437.\u001b[0m\n",
      "\u001b[32m[I 2020-12-06 11:54:06,109]\u001b[0m Trial 96 finished with value: 85.45912188186333 and parameters: {'gamma': 0.00422713801816927}. Best is trial 91 with value: 61.54888512823437.\u001b[0m\n",
      "\u001b[32m[I 2020-12-06 11:54:06,262]\u001b[0m Trial 97 finished with value: 75.73688831211895 and parameters: {'gamma': 0.12927467287363287}. Best is trial 91 with value: 61.54888512823437.\u001b[0m\n",
      "\u001b[32m[I 2020-12-06 11:54:06,399]\u001b[0m Trial 98 finished with value: 96.79275201090064 and parameters: {'gamma': 0.0012897111055706725}. Best is trial 91 with value: 61.54888512823437.\u001b[0m\n",
      "\u001b[32m[I 2020-12-06 11:54:06,567]\u001b[0m Trial 99 finished with value: 61.54936185687005 and parameters: {'gamma': 0.024331026745178966}. Best is trial 91 with value: 61.54888512823437.\u001b[0m\n"
     ]
    },
    {
     "name": "stdout",
     "output_type": "stream",
     "text": [
      "{'gamma': 0.024294055898260124}\n"
     ]
    }
   ],
   "source": [
    "# gamma = 0.024 seems to work well\n",
    "\n",
    "def objective(trial):\n",
    "    # n = trial.suggest_int(\"n_components\", 1, 30)\n",
    "    gamma = trial.suggest_loguniform('gamma', 1e-6, 1e+3)\n",
    "    kpca = KernelPCA(n_components=3, kernel=\"rbf\", gamma=gamma, fit_inverse_transform=True)\n",
    "    kpca.fit(X[:400])\n",
    "    X_reproj = kpca.inverse_transform(kpca.transform(X[400:]))\n",
    "    return np.linalg.norm(X[400:] - X_reproj)\n",
    "\n",
    "study = optuna.create_study()\n",
    "study.optimize(objective, n_trials=100)\n",
    "print(study.best_params)"
   ]
  },
  {
   "cell_type": "markdown",
   "metadata": {},
   "source": [
    "# Parameter Selection of DebiasingKPCA.debias()"
   ]
  },
  {
   "cell_type": "code",
   "execution_count": 19,
   "metadata": {},
   "outputs": [],
   "source": [
    "import optuna\n",
    "\n",
    "def objective(trial):\n",
    "    \n",
    "    lr = trial.suggest_loguniform('lr', 0.01, 2.0)\n",
    "    n_iter = trial.suggest_int('n_iter', 5, 50, log=True)\n",
    "    n_components = trial.suggest_int('n_component', 1, 5)\n",
    "    alpha = trial.suggest_uniform('alpha', -0.99, 1)\n",
    "    \n",
    "    debiaser = DebiasingKPCA(n_components)\n",
    "    debiaser.fit(X, X_index)\n",
    "\n",
    "    # to prevent out of memory error, we aplit the data into smaller chanks\n",
    "    X_debiased = np.empty(X.shape)\n",
    "    BS = 320  # maximal possible batch size for GPU with 8gb memory in my local env.\n",
    "    NB = int(np.ceil(X.shape[0] / BS))  # the number of batches\n",
    "    for i in range(NB):\n",
    "        X_debiased[BS*i: BS*(i+1)] = debiaser.debias(X[BS*i: BS*(i+1)], lr=lr, n_iter=n_iter, alpha=alpha)\n",
    "    \n",
    "    original_bias = np.linalg.norm(debiaser.transform(X))\n",
    "    reduced_bias = np.linalg.norm(debiaser.transform(X_debiased))\n",
    "    \n",
    "    diff_norm = np.linalg.norm(X_debiased - X)\n",
    "    orig_norm = np.linalg.norm(X)\n",
    "    \n",
    "    obj_val = np.log(original_bias) - np.log(reduced_bias)\n",
    "    return - obj_val"
   ]
  },
  {
   "cell_type": "code",
   "execution_count": 20,
   "metadata": {
    "scrolled": true
   },
   "outputs": [
    {
     "name": "stderr",
     "output_type": "stream",
     "text": [
      "/home/kei/Desktop/optuna/optuna/samplers/_tpe/sampler.py:188: ExperimentalWarning: ``multivariate`` option is an experimental feature. The interface can change in the future.\n",
      "  warnings.warn(\n",
      "\u001b[32m[I 2020-12-05 23:29:14,781]\u001b[0m A new study created in memory with name: no-name-41354f37-708c-43e2-9b97-c33ca855b81e\u001b[0m\n",
      "\u001b[32m[I 2020-12-05 23:29:21,372]\u001b[0m Trial 0 finished with value: -0.032233143082370797 and parameters: {'lr': 0.021896224070207485, 'n_iter': 7, 'n_component': 3, 'alpha': -0.686583196087361}. Best is trial 0 with value: -0.032233143082370797.\u001b[0m\n",
      "\u001b[32m[I 2020-12-05 23:29:31,566]\u001b[0m Trial 1 finished with value: -0.05467513658087775 and parameters: {'lr': 0.05074294373751229, 'n_iter': 11, 'n_component': 4, 'alpha': -0.34447200687984403}. Best is trial 1 with value: -0.05467513658087775.\u001b[0m\n",
      "\u001b[32m[I 2020-12-05 23:29:47,961]\u001b[0m Trial 2 finished with value: -0.13971548627677355 and parameters: {'lr': 1.1630759925338126, 'n_iter': 18, 'n_component': 3, 'alpha': -0.10685818329027474}. Best is trial 2 with value: -0.13971548627677355.\u001b[0m\n",
      "\u001b[32m[I 2020-12-05 23:30:16,795]\u001b[0m Trial 3 finished with value: -0.11162374488338789 and parameters: {'lr': 1.2905563148256693, 'n_iter': 32, 'n_component': 5, 'alpha': 0.22028228869719246}. Best is trial 2 with value: -0.13971548627677355.\u001b[0m\n",
      "\u001b[32m[I 2020-12-05 23:30:42,669]\u001b[0m Trial 4 finished with value: -0.35962853344780843 and parameters: {'lr': 0.21583101210514624, 'n_iter': 28, 'n_component': 4, 'alpha': -0.6294487948695541}. Best is trial 4 with value: -0.35962853344780843.\u001b[0m\n",
      "\u001b[32m[I 2020-12-05 23:31:16,799]\u001b[0m Trial 5 finished with value: -0.07227164812645182 and parameters: {'lr': 1.2724964590325232, 'n_iter': 37, 'n_component': 5, 'alpha': 0.8608306644760646}. Best is trial 4 with value: -0.35962853344780843.\u001b[0m\n",
      "\u001b[32m[I 2020-12-05 23:31:28,763]\u001b[0m Trial 6 finished with value: -0.19321457058470037 and parameters: {'lr': 0.40790522650488, 'n_iter': 13, 'n_component': 4, 'alpha': -0.3201155118589637}. Best is trial 4 with value: -0.35962853344780843.\u001b[0m\n",
      "\u001b[32m[I 2020-12-05 23:32:02,250]\u001b[0m Trial 7 finished with value: -0.3241089359328926 and parameters: {'lr': 0.7449613121841254, 'n_iter': 38, 'n_component': 5, 'alpha': -0.5639372649556542}. Best is trial 4 with value: -0.35962853344780843.\u001b[0m\n",
      "\u001b[32m[I 2020-12-05 23:32:07,967]\u001b[0m Trial 8 finished with value: -0.07537843083113205 and parameters: {'lr': 0.9269786433866086, 'n_iter': 6, 'n_component': 4, 'alpha': 0.7387008611741046}. Best is trial 4 with value: -0.35962853344780843.\u001b[0m\n",
      "\u001b[32m[I 2020-12-05 23:32:24,894]\u001b[0m Trial 9 finished with value: -0.034061697421870374 and parameters: {'lr': 0.017293931135659198, 'n_iter': 18, 'n_component': 1, 'alpha': -0.4113303391093295}. Best is trial 4 with value: -0.35962853344780843.\u001b[0m\n",
      "\u001b[32m[I 2020-12-05 23:33:03,660]\u001b[0m Trial 10 finished with value: -0.6335628823279338 and parameters: {'lr': 0.019257600061799447, 'n_iter': 44, 'n_component': 5, 'alpha': -0.9176099703456337}. Best is trial 10 with value: -0.6335628823279338.\u001b[0m\n",
      "\u001b[32m[I 2020-12-05 23:33:28,019]\u001b[0m Trial 11 finished with value: -0.168720712327058 and parameters: {'lr': 0.01169921519054865, 'n_iter': 27, 'n_component': 5, 'alpha': -0.8670482410036019}. Best is trial 10 with value: -0.6335628823279338.\u001b[0m\n",
      "\u001b[32m[I 2020-12-05 23:33:53,492]\u001b[0m Trial 12 finished with value: -0.0873235455340069 and parameters: {'lr': 0.07637208694945419, 'n_iter': 29, 'n_component': 5, 'alpha': 0.11115518674232217}. Best is trial 10 with value: -0.6335628823279338.\u001b[0m\n",
      "\u001b[32m[I 2020-12-05 23:34:26,505]\u001b[0m Trial 13 finished with value: -0.8167481425604501 and parameters: {'lr': 0.23515389145628654, 'n_iter': 37, 'n_component': 3, 'alpha': -0.8773501620997054}. Best is trial 13 with value: -0.8167481425604501.\u001b[0m\n",
      "\u001b[32m[I 2020-12-05 23:34:58,511]\u001b[0m Trial 14 finished with value: -0.7092583103469273 and parameters: {'lr': 0.08657386034916026, 'n_iter': 35, 'n_component': 2, 'alpha': -0.9066795408289925}. Best is trial 13 with value: -0.8167481425604501.\u001b[0m\n",
      "\u001b[32m[I 2020-12-05 23:35:39,806]\u001b[0m Trial 15 finished with value: -0.426308951078772 and parameters: {'lr': 0.10230427534072462, 'n_iter': 47, 'n_component': 1, 'alpha': -0.6784511895277721}. Best is trial 13 with value: -0.8167481425604501.\u001b[0m\n",
      "\u001b[32m[I 2020-12-05 23:36:02,724]\u001b[0m Trial 16 finished with value: 0.5757978162965277 and parameters: {'lr': 1.9759618616020362, 'n_iter': 26, 'n_component': 1, 'alpha': -0.9225057256636943}. Best is trial 13 with value: -0.8167481425604501.\u001b[0m\n",
      "\u001b[32m[I 2020-12-05 23:36:40,943]\u001b[0m Trial 17 finished with value: -1.1667314425564617 and parameters: {'lr': 0.10370657175290551, 'n_iter': 44, 'n_component': 3, 'alpha': -0.9382335317953422}. Best is trial 17 with value: -1.1667314425564617.\u001b[0m\n",
      "\u001b[32m[I 2020-12-05 23:37:20,337]\u001b[0m Trial 18 finished with value: -0.15201579204812643 and parameters: {'lr': 0.678927258544391, 'n_iter': 45, 'n_component': 3, 'alpha': -0.17775328637988227}. Best is trial 17 with value: -1.1667314425564617.\u001b[0m\n",
      "\u001b[32m[I 2020-12-05 23:38:04,368]\u001b[0m Trial 19 finished with value: -0.13339606631105827 and parameters: {'lr': 0.058700333547590404, 'n_iter': 50, 'n_component': 3, 'alpha': -0.24021496359743366}. Best is trial 17 with value: -1.1667314425564617.\u001b[0m\n",
      "\u001b[32m[I 2020-12-05 23:38:36,086]\u001b[0m Trial 20 finished with value: -0.5945610896073068 and parameters: {'lr': 0.4840947944081793, 'n_iter': 36, 'n_component': 3, 'alpha': -0.8129493739838831}. Best is trial 17 with value: -1.1667314425564617.\u001b[0m\n",
      "\u001b[32m[I 2020-12-05 23:39:15,584]\u001b[0m Trial 21 finished with value: -0.876355001478769 and parameters: {'lr': 0.17286354342012475, 'n_iter': 45, 'n_component': 3, 'alpha': -0.9459583077300205}. Best is trial 17 with value: -1.1667314425564617.\u001b[0m\n",
      "\u001b[32m[I 2020-12-05 23:39:55,017]\u001b[0m Trial 22 finished with value: -0.9166976641038798 and parameters: {'lr': 0.16937824884043967, 'n_iter': 45, 'n_component': 3, 'alpha': -0.9050316867786082}. Best is trial 17 with value: -1.1667314425564617.\u001b[0m\n",
      "\u001b[32m[I 2020-12-05 23:40:27,085]\u001b[0m Trial 23 finished with value: -0.4638088104363549 and parameters: {'lr': 0.024557982647054225, 'n_iter': 36, 'n_component': 3, 'alpha': -0.8942589832555848}. Best is trial 17 with value: -1.1667314425564617.\u001b[0m\n",
      "\u001b[32m[I 2020-12-05 23:40:38,814]\u001b[0m Trial 24 finished with value: -0.004778320719026841 and parameters: {'lr': 0.010390811249816133, 'n_iter': 13, 'n_component': 4, 'alpha': 0.9810843342500235}. Best is trial 17 with value: -1.1667314425564617.\u001b[0m\n",
      "\u001b[32m[I 2020-12-05 23:40:43,733]\u001b[0m Trial 25 finished with value: -0.05920847885894209 and parameters: {'lr': 0.2518980873850249, 'n_iter': 5, 'n_component': 1, 'alpha': 0.13459203571736392}. Best is trial 17 with value: -1.1667314425564617.\u001b[0m\n",
      "\u001b[32m[I 2020-12-05 23:41:21,608]\u001b[0m Trial 26 finished with value: -1.0529530259332662 and parameters: {'lr': 0.09471028361102635, 'n_iter': 43, 'n_component': 3, 'alpha': -0.9723869596597615}. Best is trial 17 with value: -1.1667314425564617.\u001b[0m\n",
      "\u001b[32m[I 2020-12-05 23:41:41,267]\u001b[0m Trial 27 finished with value: -0.14427267119253018 and parameters: {'lr': 0.07139871005506673, 'n_iter': 22, 'n_component': 3, 'alpha': -0.4860033211026796}. Best is trial 17 with value: -1.1667314425564617.\u001b[0m\n",
      "\u001b[32m[I 2020-12-05 23:42:24,086]\u001b[0m Trial 28 finished with value: -0.2767131263515026 and parameters: {'lr': 0.08256699692698483, 'n_iter': 49, 'n_component': 4, 'alpha': -0.5535059614032611}. Best is trial 17 with value: -1.1667314425564617.\u001b[0m\n",
      "\u001b[32m[I 2020-12-05 23:43:06,102]\u001b[0m Trial 29 finished with value: -0.01996615750994679 and parameters: {'lr': 0.013836979723998583, 'n_iter': 46, 'n_component': 4, 'alpha': 0.9633652286757031}. Best is trial 17 with value: -1.1667314425564617.\u001b[0m\n",
      "\u001b[32m[I 2020-12-05 23:43:13,015]\u001b[0m Trial 30 finished with value: -0.3216527210709932 and parameters: {'lr': 0.6593828810050869, 'n_iter': 7, 'n_component': 2, 'alpha': -0.5891275676656351}. Best is trial 17 with value: -1.1667314425564617.\u001b[0m\n",
      "\u001b[32m[I 2020-12-05 23:43:55,000]\u001b[0m Trial 31 finished with value: -0.8064967955395237 and parameters: {'lr': 0.09587662578376543, 'n_iter': 47, 'n_component': 3, 'alpha': -0.8732552797643204}. Best is trial 17 with value: -1.1667314425564617.\u001b[0m\n"
     ]
    },
    {
     "name": "stderr",
     "output_type": "stream",
     "text": [
      "\u001b[32m[I 2020-12-05 23:44:25,025]\u001b[0m Trial 32 finished with value: -1.2152826800564602 and parameters: {'lr': 0.09936240619644424, 'n_iter': 33, 'n_component': 4, 'alpha': -0.9452246646867221}. Best is trial 32 with value: -1.2152826800564602.\u001b[0m\n",
      "\u001b[32m[I 2020-12-05 23:44:50,286]\u001b[0m Trial 33 finished with value: -0.9219238084494819 and parameters: {'lr': 0.1786698527932507, 'n_iter': 28, 'n_component': 5, 'alpha': -0.8820389141507455}. Best is trial 32 with value: -1.2152826800564602.\u001b[0m\n",
      "\u001b[32m[I 2020-12-05 23:45:02,339]\u001b[0m Trial 34 finished with value: -0.8803650577980695 and parameters: {'lr': 0.16691675433777517, 'n_iter': 13, 'n_component': 5, 'alpha': -0.8947466582027807}. Best is trial 32 with value: -1.2152826800564602.\u001b[0m\n",
      "\u001b[32m[I 2020-12-05 23:45:31,578]\u001b[0m Trial 35 finished with value: -0.5604197533222723 and parameters: {'lr': 0.159577473495564, 'n_iter': 32, 'n_component': 5, 'alpha': -0.7655970991476845}. Best is trial 32 with value: -1.2152826800564602.\u001b[0m\n",
      "\u001b[32m[I 2020-12-05 23:45:52,270]\u001b[0m Trial 36 finished with value: -0.730616132453699 and parameters: {'lr': 0.06263699961972725, 'n_iter': 23, 'n_component': 4, 'alpha': -0.9016037052603433}. Best is trial 32 with value: -1.2152826800564602.\u001b[0m\n",
      "\u001b[32m[I 2020-12-05 23:46:25,977]\u001b[0m Trial 37 finished with value: -0.3161254791084438 and parameters: {'lr': 0.26616813698521447, 'n_iter': 38, 'n_component': 5, 'alpha': -0.951644547771328}. Best is trial 32 with value: -1.2152826800564602.\u001b[0m\n",
      "\u001b[32m[I 2020-12-05 23:46:41,998]\u001b[0m Trial 38 finished with value: -0.011046243168032044 and parameters: {'lr': 0.012725684437407828, 'n_iter': 18, 'n_component': 2, 'alpha': 0.4462908698858875}. Best is trial 32 with value: -1.2152826800564602.\u001b[0m\n",
      "\u001b[32m[I 2020-12-05 23:46:59,742]\u001b[0m Trial 39 finished with value: -0.2754424798722581 and parameters: {'lr': 0.2166656499507509, 'n_iter': 20, 'n_component': 5, 'alpha': -0.5289535447095777}. Best is trial 32 with value: -1.2152826800564602.\u001b[0m\n"
     ]
    }
   ],
   "source": [
    "sampler = optuna.samplers.TPESampler(multivariate=True)\n",
    "study = optuna.create_study(sampler=sampler)\n",
    "study.optimize(objective, n_trials=40)"
   ]
  },
  {
   "cell_type": "code",
   "execution_count": 21,
   "metadata": {},
   "outputs": [
    {
     "data": {
      "text/plain": [
       "{'lr': 0.09936240619644424,\n",
       " 'n_iter': 33,\n",
       " 'n_component': 4,\n",
       " 'alpha': -0.9452246646867221}"
      ]
     },
     "execution_count": 21,
     "metadata": {},
     "output_type": "execute_result"
    }
   ],
   "source": [
    "study.best_params"
   ]
  },
  {
   "cell_type": "code",
   "execution_count": 22,
   "metadata": {},
   "outputs": [],
   "source": [
    "import optuna\n",
    "\n",
    "def objective(trial):\n",
    "    \n",
    "    lr = trial.suggest_loguniform('lr', 0.01, 2.0)\n",
    "    n_iter = trial.suggest_int('n_iter', 5, 50, log=True)\n",
    "    n_components = trial.suggest_int('n_component', 1, 5)\n",
    "    alpha = trial.suggest_uniform('alpha', -0.99, 1)\n",
    "    \n",
    "    debiaser = DebiasingKPCA(n_components)\n",
    "    debiaser.fit(X, X_index)\n",
    "\n",
    "    # to prevent out of memory error, we aplit the data into smaller chanks\n",
    "    X_debiased = np.empty(X.shape)\n",
    "    BS = 320  # maximal possible batch size for GPU with 8gb memory in my local env.\n",
    "    NB = int(np.ceil(X.shape[0] / BS))  # the number of batches\n",
    "    for i in range(NB):\n",
    "        X_debiased[BS*i: BS*(i+1)] = debiaser.debias(X[BS*i: BS*(i+1)], lr=lr, n_iter=n_iter, alpha=alpha)\n",
    "    \n",
    "    original_bias = np.linalg.norm(debiaser.transform(X))\n",
    "    reduced_bias = np.linalg.norm(debiaser.transform(X_debiased))\n",
    "    \n",
    "    diff_norm = np.linalg.norm(X_debiased - X)\n",
    "    orig_norm = np.linalg.norm(X)\n",
    "    \n",
    "    obj_val = np.log(original_bias) - np.log(reduced_bias)\n",
    "    return - obj_val"
   ]
  },
  {
   "cell_type": "code",
   "execution_count": 23,
   "metadata": {
    "scrolled": true
   },
   "outputs": [
    {
     "name": "stderr",
     "output_type": "stream",
     "text": [
      "\u001b[32m[I 2020-12-05 23:46:59,810]\u001b[0m A new study created in memory with name: no-name-bb4426a0-c479-458a-93de-2c144a339e00\u001b[0m\n",
      "\u001b[32m[I 2020-12-05 23:47:07,285]\u001b[0m Trial 0 finished with value: -0.04428093229126673 and parameters: {'lr': 0.21749816585830692, 'n_iter': 8, 'n_component': 5, 'alpha': 0.9413361898493791}. Best is trial 0 with value: -0.04428093229126673.\u001b[0m\n",
      "\u001b[32m[I 2020-12-05 23:47:12,221]\u001b[0m Trial 1 finished with value: -0.004239824125599423 and parameters: {'lr': 0.011133451282737761, 'n_iter': 5, 'n_component': 5, 'alpha': -0.04972078859042739}. Best is trial 0 with value: -0.04428093229126673.\u001b[0m\n",
      "\u001b[32m[I 2020-12-05 23:47:35,286]\u001b[0m Trial 2 finished with value: -0.07142631522431708 and parameters: {'lr': 0.02121482869627984, 'n_iter': 26, 'n_component': 5, 'alpha': -0.4977626100394349}. Best is trial 2 with value: -0.07142631522431708.\u001b[0m\n",
      "\u001b[32m[I 2020-12-05 23:47:48,021]\u001b[0m Trial 3 finished with value: -0.014349533457034713 and parameters: {'lr': 0.025324956561617835, 'n_iter': 14, 'n_component': 4, 'alpha': 0.6425786824798643}. Best is trial 2 with value: -0.07142631522431708.\u001b[0m\n",
      "\u001b[32m[I 2020-12-05 23:48:03,354]\u001b[0m Trial 4 finished with value: -0.5046556198489178 and parameters: {'lr': 0.4135737464792935, 'n_iter': 17, 'n_component': 4, 'alpha': -0.7365438813274283}. Best is trial 4 with value: -0.5046556198489178.\u001b[0m\n",
      "\u001b[32m[I 2020-12-05 23:48:08,256]\u001b[0m Trial 5 finished with value: -0.009004221745241514 and parameters: {'lr': 0.024036909804250082, 'n_iter': 5, 'n_component': 4, 'alpha': -0.05568626035026192}. Best is trial 4 with value: -0.5046556198489178.\u001b[0m\n",
      "\u001b[32m[I 2020-12-05 23:48:31,401]\u001b[0m Trial 6 finished with value: -0.11446139769320074 and parameters: {'lr': 0.05591119470334116, 'n_iter': 26, 'n_component': 3, 'alpha': -0.38785033947495406}. Best is trial 4 with value: -0.5046556198489178.\u001b[0m\n",
      "\u001b[32m[I 2020-12-05 23:49:08,376]\u001b[0m Trial 7 finished with value: -0.05382957387173115 and parameters: {'lr': 0.07924923131269015, 'n_iter': 42, 'n_component': 3, 'alpha': 0.9416367565948887}. Best is trial 4 with value: -0.5046556198489178.\u001b[0m\n",
      "\u001b[32m[I 2020-12-05 23:49:17,542]\u001b[0m Trial 8 finished with value: -0.3559628923215543 and parameters: {'lr': 1.2379883346290272, 'n_iter': 10, 'n_component': 3, 'alpha': -0.6478742069993463}. Best is trial 4 with value: -0.5046556198489178.\u001b[0m\n",
      "\u001b[32m[I 2020-12-05 23:49:24,154]\u001b[0m Trial 9 finished with value: -0.3929913567198766 and parameters: {'lr': 0.19348371584517557, 'n_iter': 7, 'n_component': 5, 'alpha': -0.8012933202003749}. Best is trial 4 with value: -0.5046556198489178.\u001b[0m\n",
      "\u001b[32m[I 2020-12-05 23:49:44,562]\u001b[0m Trial 10 finished with value: -0.24698688760796794 and parameters: {'lr': 0.084221777453786, 'n_iter': 23, 'n_component': 1, 'alpha': -0.6308709676476585}. Best is trial 4 with value: -0.5046556198489178.\u001b[0m\n",
      "\u001b[32m[I 2020-12-05 23:50:00,691]\u001b[0m Trial 11 finished with value: -0.0763600673416438 and parameters: {'lr': 0.06383556820028284, 'n_iter': 18, 'n_component': 3, 'alpha': -0.222341135220683}. Best is trial 4 with value: -0.5046556198489178.\u001b[0m\n",
      "\u001b[32m[I 2020-12-05 23:50:11,697]\u001b[0m Trial 12 finished with value: -0.058488874222110354 and parameters: {'lr': 0.19836809577771178, 'n_iter': 12, 'n_component': 2, 'alpha': 0.7310505588323124}. Best is trial 4 with value: -0.5046556198489178.\u001b[0m\n",
      "\u001b[32m[I 2020-12-05 23:50:55,523]\u001b[0m Trial 13 finished with value: -0.19896351128077328 and parameters: {'lr': 1.7835666572239444, 'n_iter': 50, 'n_component': 4, 'alpha': -0.3150911631809189}. Best is trial 4 with value: -0.5046556198489178.\u001b[0m\n",
      "\u001b[32m[I 2020-12-05 23:51:00,407]\u001b[0m Trial 14 finished with value: -0.2187118823129106 and parameters: {'lr': 1.992376923860798, 'n_iter': 5, 'n_component': 5, 'alpha': -0.36158715684142406}. Best is trial 4 with value: -0.5046556198489178.\u001b[0m\n",
      "\u001b[32m[I 2020-12-05 23:51:34,829]\u001b[0m Trial 15 finished with value: -0.06680544137830857 and parameters: {'lr': 0.20788310747423405, 'n_iter': 39, 'n_component': 4, 'alpha': 0.9656178427847113}. Best is trial 4 with value: -0.5046556198489178.\u001b[0m\n",
      "\u001b[32m[I 2020-12-05 23:51:44,083]\u001b[0m Trial 16 finished with value: -0.07447467784350525 and parameters: {'lr': 0.9553467297419669, 'n_iter': 10, 'n_component': 4, 'alpha': 0.7807157393513418}. Best is trial 4 with value: -0.5046556198489178.\u001b[0m\n",
      "\u001b[32m[I 2020-12-05 23:51:52,373]\u001b[0m Trial 17 finished with value: -0.11072116402555732 and parameters: {'lr': 0.01453802924502955, 'n_iter': 9, 'n_component': 1, 'alpha': -0.9175160135406855}. Best is trial 4 with value: -0.5046556198489178.\u001b[0m\n",
      "\u001b[32m[I 2020-12-05 23:51:59,001]\u001b[0m Trial 18 finished with value: -0.008512226480202223 and parameters: {'lr': 0.013735026222840863, 'n_iter': 7, 'n_component': 2, 'alpha': -0.18305656904135326}. Best is trial 4 with value: -0.5046556198489178.\u001b[0m\n",
      "\u001b[32m[I 2020-12-05 23:52:32,392]\u001b[0m Trial 19 finished with value: -0.05599748279562222 and parameters: {'lr': 0.039394636283943005, 'n_iter': 38, 'n_component': 2, 'alpha': 0.36557631334066065}. Best is trial 4 with value: -0.5046556198489178.\u001b[0m\n",
      "\u001b[32m[I 2020-12-05 23:52:42,426]\u001b[0m Trial 20 finished with value: -0.08251976589637877 and parameters: {'lr': 1.127773932340973, 'n_iter': 11, 'n_component': 1, 'alpha': 0.5520025256544934}. Best is trial 4 with value: -0.5046556198489178.\u001b[0m\n",
      "\u001b[32m[I 2020-12-05 23:52:53,290]\u001b[0m Trial 21 finished with value: -0.03608192266708543 and parameters: {'lr': 0.04833702272076602, 'n_iter': 12, 'n_component': 2, 'alpha': 0.03565433124477568}. Best is trial 4 with value: -0.5046556198489178.\u001b[0m\n",
      "\u001b[32m[I 2020-12-05 23:53:12,244]\u001b[0m Trial 22 finished with value: -0.11255660599170914 and parameters: {'lr': 1.6789309346141466, 'n_iter': 21, 'n_component': 5, 'alpha': 0.21050453020961735}. Best is trial 4 with value: -0.5046556198489178.\u001b[0m\n",
      "\u001b[32m[I 2020-12-05 23:53:18,888]\u001b[0m Trial 23 finished with value: -0.08586672597004574 and parameters: {'lr': 0.6919153805873821, 'n_iter': 7, 'n_component': 1, 'alpha': 0.4428279151146415}. Best is trial 4 with value: -0.5046556198489178.\u001b[0m\n",
      "\u001b[32m[I 2020-12-05 23:53:23,761]\u001b[0m Trial 24 finished with value: -0.00864820900364971 and parameters: {'lr': 0.028489587554547283, 'n_iter': 5, 'n_component': 4, 'alpha': 0.15936006416470883}. Best is trial 4 with value: -0.5046556198489178.\u001b[0m\n",
      "\u001b[32m[I 2020-12-05 23:53:28,652]\u001b[0m Trial 25 finished with value: -0.0328108661773725 and parameters: {'lr': 0.1541716521658874, 'n_iter': 5, 'n_component': 1, 'alpha': 0.3808229668992753}. Best is trial 4 with value: -0.5046556198489178.\u001b[0m\n",
      "\u001b[32m[I 2020-12-05 23:53:39,576]\u001b[0m Trial 26 finished with value: -0.02562744878995349 and parameters: {'lr': 0.06677167643841002, 'n_iter': 12, 'n_component': 4, 'alpha': 0.8702059792634622}. Best is trial 4 with value: -0.5046556198489178.\u001b[0m\n",
      "\u001b[32m[I 2020-12-05 23:53:46,211]\u001b[0m Trial 27 finished with value: -0.034179457237173416 and parameters: {'lr': 0.10158118342321673, 'n_iter': 7, 'n_component': 3, 'alpha': 0.20207917519176988}. Best is trial 4 with value: -0.5046556198489178.\u001b[0m\n",
      "\u001b[32m[I 2020-12-05 23:53:51,970]\u001b[0m Trial 28 finished with value: -0.0036787817422103686 and parameters: {'lr': 0.010778064853052221, 'n_iter': 6, 'n_component': 3, 'alpha': 0.1728515833089581}. Best is trial 4 with value: -0.5046556198489178.\u001b[0m\n",
      "\u001b[32m[I 2020-12-05 23:54:00,254]\u001b[0m Trial 29 finished with value: -0.08647448197525476 and parameters: {'lr': 0.3390172689623176, 'n_iter': 9, 'n_component': 3, 'alpha': 0.21585309602992897}. Best is trial 4 with value: -0.5046556198489178.\u001b[0m\n",
      "\u001b[32m[I 2020-12-05 23:54:05,993]\u001b[0m Trial 30 finished with value: -1.4338760230962455 and parameters: {'lr': 0.6188810660172875, 'n_iter': 6, 'n_component': 5, 'alpha': -0.9627904377153564}. Best is trial 30 with value: -1.4338760230962455.\u001b[0m\n",
      "\u001b[32m[I 2020-12-05 23:54:20,341]\u001b[0m Trial 31 finished with value: -0.06501126275537394 and parameters: {'lr': 1.2636592984546895, 'n_iter': 16, 'n_component': 1, 'alpha': 0.9527177282375441}. Best is trial 30 with value: -1.4338760230962455.\u001b[0m\n",
      "\u001b[32m[I 2020-12-05 23:54:39,818]\u001b[0m Trial 32 finished with value: -0.057712288238946474 and parameters: {'lr': 0.07481076954528448, 'n_iter': 22, 'n_component': 3, 'alpha': 0.29929997672275355}. Best is trial 30 with value: -1.4338760230962455.\u001b[0m\n"
     ]
    },
    {
     "name": "stderr",
     "output_type": "stream",
     "text": [
      "\u001b[32m[I 2020-12-05 23:54:48,135]\u001b[0m Trial 33 finished with value: -0.07708626593675572 and parameters: {'lr': 0.9719630337962726, 'n_iter': 9, 'n_component': 2, 'alpha': 0.7385605226784209}. Best is trial 30 with value: -1.4338760230962455.\u001b[0m\n",
      "\u001b[32m[I 2020-12-05 23:55:20,738]\u001b[0m Trial 34 finished with value: -0.08293650735669345 and parameters: {'lr': 0.6384976712045327, 'n_iter': 37, 'n_component': 4, 'alpha': 0.6037276051388409}. Best is trial 30 with value: -1.4338760230962455.\u001b[0m\n",
      "\u001b[32m[I 2020-12-05 23:55:33,538]\u001b[0m Trial 35 finished with value: -0.033572681174784735 and parameters: {'lr': 0.021456183823275285, 'n_iter': 14, 'n_component': 3, 'alpha': -0.4336096124788569}. Best is trial 30 with value: -1.4338760230962455.\u001b[0m\n",
      "\u001b[32m[I 2020-12-05 23:56:06,838]\u001b[0m Trial 36 finished with value: -0.07588978427513449 and parameters: {'lr': 0.02522666170541674, 'n_iter': 37, 'n_component': 4, 'alpha': -0.2841493050433117}. Best is trial 30 with value: -1.4338760230962455.\u001b[0m\n",
      "\u001b[32m[I 2020-12-05 23:56:37,981]\u001b[0m Trial 37 finished with value: -0.09941837124650643 and parameters: {'lr': 0.6616401360045011, 'n_iter': 35, 'n_component': 3, 'alpha': 0.24670381656752816}. Best is trial 30 with value: -1.4338760230962455.\u001b[0m\n",
      "\u001b[32m[I 2020-12-05 23:56:43,689]\u001b[0m Trial 38 finished with value: -0.005228680017900222 and parameters: {'lr': 0.02446076004846048, 'n_iter': 6, 'n_component': 5, 'alpha': 0.9887324017357577}. Best is trial 30 with value: -1.4338760230962455.\u001b[0m\n",
      "\u001b[32m[I 2020-12-05 23:57:01,423]\u001b[0m Trial 39 finished with value: -0.13695753985577652 and parameters: {'lr': 0.055765887378769426, 'n_iter': 20, 'n_component': 2, 'alpha': -0.5335024821952734}. Best is trial 30 with value: -1.4338760230962455.\u001b[0m\n",
      "\u001b[32m[I 2020-12-05 23:57:08,851]\u001b[0m Trial 40 finished with value: -0.052560223332702716 and parameters: {'lr': 0.10683229353921435, 'n_iter': 8, 'n_component': 5, 'alpha': -0.0111451661896379}. Best is trial 30 with value: -1.4338760230962455.\u001b[0m\n",
      "\u001b[32m[I 2020-12-05 23:57:15,433]\u001b[0m Trial 41 finished with value: -0.02254153111370205 and parameters: {'lr': 0.0187141175865583, 'n_iter': 7, 'n_component': 3, 'alpha': -0.6160995858795187}. Best is trial 30 with value: -1.4338760230962455.\u001b[0m\n",
      "\u001b[32m[I 2020-12-05 23:57:38,368]\u001b[0m Trial 42 finished with value: -0.1002381236665153 and parameters: {'lr': 0.562473294871251, 'n_iter': 26, 'n_component': 4, 'alpha': 0.3330549192340775}. Best is trial 30 with value: -1.4338760230962455.\u001b[0m\n",
      "\u001b[32m[I 2020-12-05 23:57:50,094]\u001b[0m Trial 43 finished with value: -0.10735730521326392 and parameters: {'lr': 0.2850848284014165, 'n_iter': 13, 'n_component': 4, 'alpha': 0.11675260511705265}. Best is trial 30 with value: -1.4338760230962455.\u001b[0m\n",
      "\u001b[32m[I 2020-12-05 23:58:07,133]\u001b[0m Trial 44 finished with value: -0.30265869597576645 and parameters: {'lr': 1.8790676351150286, 'n_iter': 19, 'n_component': 5, 'alpha': -0.5336738492636259}. Best is trial 30 with value: -1.4338760230962455.\u001b[0m\n",
      "\u001b[32m[I 2020-12-05 23:58:12,015]\u001b[0m Trial 45 finished with value: -0.059049817980840746 and parameters: {'lr': 0.18593798767803207, 'n_iter': 5, 'n_component': 2, 'alpha': -0.040327776166856344}. Best is trial 30 with value: -1.4338760230962455.\u001b[0m\n",
      "\u001b[32m[I 2020-12-05 23:58:33,157]\u001b[0m Trial 46 finished with value: -0.06023971238213344 and parameters: {'lr': 0.13408077118536016, 'n_iter': 24, 'n_component': 5, 'alpha': 0.8804422252591149}. Best is trial 30 with value: -1.4338760230962455.\u001b[0m\n",
      "\u001b[32m[I 2020-12-05 23:58:38,027]\u001b[0m Trial 47 finished with value: -0.10102323722494289 and parameters: {'lr': 1.3689984889204794, 'n_iter': 5, 'n_component': 2, 'alpha': 0.33274479790724}. Best is trial 30 with value: -1.4338760230962455.\u001b[0m\n",
      "\u001b[32m[I 2020-12-05 23:58:55,013]\u001b[0m Trial 48 finished with value: -0.2530500102593083 and parameters: {'lr': 0.18575966956889006, 'n_iter': 19, 'n_component': 5, 'alpha': -0.5155400130955936}. Best is trial 30 with value: -1.4338760230962455.\u001b[0m\n",
      "\u001b[32m[I 2020-12-05 23:59:23,282]\u001b[0m Trial 49 finished with value: -0.16758632627176495 and parameters: {'lr': 0.2459586606729443, 'n_iter': 30, 'n_component': 4, 'alpha': -0.20075195571315196}. Best is trial 30 with value: -1.4338760230962455.\u001b[0m\n",
      "\u001b[32m[I 2020-12-05 23:59:35,588]\u001b[0m Trial 50 finished with value: -0.2412927726814602 and parameters: {'lr': 0.07209239020175179, 'n_iter': 13, 'n_component': 4, 'alpha': -0.7645274608978748}. Best is trial 30 with value: -1.4338760230962455.\u001b[0m\n",
      "\u001b[32m[I 2020-12-05 23:59:52,192]\u001b[0m Trial 51 finished with value: -0.12518436270647382 and parameters: {'lr': 0.6614823460148586, 'n_iter': 18, 'n_component': 1, 'alpha': 0.04506640611036383}. Best is trial 30 with value: -1.4338760230962455.\u001b[0m\n",
      "\u001b[32m[I 2020-12-06 00:00:01,636]\u001b[0m Trial 52 finished with value: -0.3952107345490541 and parameters: {'lr': 0.19225047266211076, 'n_iter': 10, 'n_component': 3, 'alpha': -0.7833560822631692}. Best is trial 30 with value: -1.4338760230962455.\u001b[0m\n",
      "\u001b[32m[I 2020-12-06 00:00:38,618]\u001b[0m Trial 53 finished with value: -0.2111616636044953 and parameters: {'lr': 0.07847179156545184, 'n_iter': 43, 'n_component': 5, 'alpha': -0.43656112022865534}. Best is trial 30 with value: -1.4338760230962455.\u001b[0m\n",
      "\u001b[32m[I 2020-12-06 00:00:47,408]\u001b[0m Trial 54 finished with value: -0.052490044199125174 and parameters: {'lr': 0.060197577518945576, 'n_iter': 10, 'n_component': 2, 'alpha': -0.2602469949918721}. Best is trial 30 with value: -1.4338760230962455.\u001b[0m\n",
      "\u001b[32m[I 2020-12-06 00:01:06,848]\u001b[0m Trial 55 finished with value: -0.4757697761745224 and parameters: {'lr': 0.2676144730784362, 'n_iter': 23, 'n_component': 1, 'alpha': -0.8407358151695943}. Best is trial 30 with value: -1.4338760230962455.\u001b[0m\n",
      "\u001b[32m[I 2020-12-06 00:01:14,823]\u001b[0m Trial 56 finished with value: -0.7999350266981453 and parameters: {'lr': 0.14126003766871195, 'n_iter': 9, 'n_component': 2, 'alpha': -0.9559254495527396}. Best is trial 30 with value: -1.4338760230962455.\u001b[0m\n",
      "\u001b[32m[I 2020-12-06 00:01:26,035]\u001b[0m Trial 57 finished with value: -0.01578090300611179 and parameters: {'lr': 0.0308065191256626, 'n_iter': 13, 'n_component': 5, 'alpha': 0.6872823893828433}. Best is trial 30 with value: -1.4338760230962455.\u001b[0m\n",
      "\u001b[32m[I 2020-12-06 00:01:38,950]\u001b[0m Trial 58 finished with value: -0.07465125948531814 and parameters: {'lr': 0.2206765683585532, 'n_iter': 15, 'n_component': 2, 'alpha': 0.5494083853360168}. Best is trial 30 with value: -1.4338760230962455.\u001b[0m\n",
      "\u001b[32m[I 2020-12-06 00:01:49,397]\u001b[0m Trial 59 finished with value: -0.044458922546825486 and parameters: {'lr': 0.012911764649377286, 'n_iter': 12, 'n_component': 4, 'alpha': -0.7534159045602217}. Best is trial 30 with value: -1.4338760230962455.\u001b[0m\n",
      "\u001b[32m[I 2020-12-06 00:02:01,438]\u001b[0m Trial 60 finished with value: -0.19314843939238602 and parameters: {'lr': 0.9567785594385704, 'n_iter': 14, 'n_component': 1, 'alpha': -0.8275362157046382}. Best is trial 30 with value: -1.4338760230962455.\u001b[0m\n",
      "\u001b[32m[I 2020-12-06 00:02:23,362]\u001b[0m Trial 61 finished with value: -0.14423394357183783 and parameters: {'lr': 0.4066268492824745, 'n_iter': 26, 'n_component': 4, 'alpha': -0.06528975617337773}. Best is trial 30 with value: -1.4338760230962455.\u001b[0m\n",
      "\u001b[32m[I 2020-12-06 00:02:28,028]\u001b[0m Trial 62 finished with value: -0.011588206070457296 and parameters: {'lr': 0.05707084121938368, 'n_iter': 5, 'n_component': 4, 'alpha': 0.6805453573922713}. Best is trial 30 with value: -1.4338760230962455.\u001b[0m\n",
      "\u001b[32m[I 2020-12-06 00:02:32,685]\u001b[0m Trial 63 finished with value: -0.005678787938720786 and parameters: {'lr': 0.027013075232731613, 'n_iter': 5, 'n_component': 4, 'alpha': 0.6749139643667672}. Best is trial 30 with value: -1.4338760230962455.\u001b[0m\n",
      "\u001b[32m[I 2020-12-06 00:02:41,439]\u001b[0m Trial 64 finished with value: -0.20523133990417608 and parameters: {'lr': 1.268781070257549, 'n_iter': 10, 'n_component': 3, 'alpha': -0.3878067176573674}. Best is trial 30 with value: -1.4338760230962455.\u001b[0m\n",
      "\u001b[32m[I 2020-12-06 00:03:15,694]\u001b[0m Trial 65 finished with value: -0.1446369778915031 and parameters: {'lr': 0.1978880915147184, 'n_iter': 41, 'n_component': 3, 'alpha': -0.14365954329815178}. Best is trial 30 with value: -1.4338760230962455.\u001b[0m\n",
      "\u001b[32m[I 2020-12-06 00:03:31,830]\u001b[0m Trial 66 finished with value: -0.16642773776692066 and parameters: {'lr': 1.1062945031674065, 'n_iter': 19, 'n_component': 1, 'alpha': -0.1967979656261748}. Best is trial 30 with value: -1.4338760230962455.\u001b[0m\n"
     ]
    },
    {
     "name": "stderr",
     "output_type": "stream",
     "text": [
      "\u001b[32m[I 2020-12-06 00:03:36,470]\u001b[0m Trial 67 finished with value: -0.0151447390602657 and parameters: {'lr': 0.06642879181089148, 'n_iter': 5, 'n_component': 3, 'alpha': 0.38443474300802327}. Best is trial 30 with value: -1.4338760230962455.\u001b[0m\n",
      "\u001b[32m[I 2020-12-06 00:03:41,959]\u001b[0m Trial 68 finished with value: -0.047548778959072946 and parameters: {'lr': 0.06617179284124822, 'n_iter': 6, 'n_component': 3, 'alpha': -0.477018456515372}. Best is trial 30 with value: -1.4338760230962455.\u001b[0m\n",
      "\u001b[32m[I 2020-12-06 00:03:58,116]\u001b[0m Trial 69 finished with value: -0.14453877951266603 and parameters: {'lr': 0.6809527114551918, 'n_iter': 19, 'n_component': 2, 'alpha': -0.06063686337141594}. Best is trial 30 with value: -1.4338760230962455.\u001b[0m\n",
      "\u001b[32m[I 2020-12-06 00:04:02,769]\u001b[0m Trial 70 finished with value: -0.10676783139390134 and parameters: {'lr': 0.014690729170237676, 'n_iter': 5, 'n_component': 2, 'alpha': -0.9486239553492368}. Best is trial 30 with value: -1.4338760230962455.\u001b[0m\n",
      "\u001b[32m[I 2020-12-06 00:04:37,796]\u001b[0m Trial 71 finished with value: -0.1068606829757669 and parameters: {'lr': 0.044619520912646794, 'n_iter': 42, 'n_component': 1, 'alpha': -0.21063672809679468}. Best is trial 30 with value: -1.4338760230962455.\u001b[0m\n",
      "\u001b[32m[I 2020-12-06 00:04:45,757]\u001b[0m Trial 72 finished with value: -0.3719732951439514 and parameters: {'lr': 1.0414896544127676, 'n_iter': 9, 'n_component': 5, 'alpha': -0.6205781027505234}. Best is trial 30 with value: -1.4338760230962455.\u001b[0m\n",
      "\u001b[32m[I 2020-12-06 00:05:05,222]\u001b[0m Trial 73 finished with value: -0.3225391006515437 and parameters: {'lr': 0.38387600837600994, 'n_iter': 23, 'n_component': 2, 'alpha': -0.5722126635112643}. Best is trial 30 with value: -1.4338760230962455.\u001b[0m\n",
      "\u001b[32m[I 2020-12-06 00:05:14,790]\u001b[0m Trial 74 finished with value: -0.12684392355817775 and parameters: {'lr': 0.5731941546999391, 'n_iter': 11, 'n_component': 4, 'alpha': 0.04497953433146584}. Best is trial 30 with value: -1.4338760230962455.\u001b[0m\n",
      "\u001b[32m[I 2020-12-06 00:05:30,943]\u001b[0m Trial 75 finished with value: -0.07422697734014294 and parameters: {'lr': 0.023903687919046426, 'n_iter': 19, 'n_component': 1, 'alpha': -0.6136340564843308}. Best is trial 30 with value: -1.4338760230962455.\u001b[0m\n",
      "\u001b[32m[I 2020-12-06 00:05:42,101]\u001b[0m Trial 76 finished with value: -0.12162666230008878 and parameters: {'lr': 0.7342391858152173, 'n_iter': 13, 'n_component': 1, 'alpha': 0.07252734591604693}. Best is trial 30 with value: -1.4338760230962455.\u001b[0m\n",
      "\u001b[32m[I 2020-12-06 00:05:50,044]\u001b[0m Trial 77 finished with value: -0.018603825551532838 and parameters: {'lr': 0.03142529203946875, 'n_iter': 9, 'n_component': 2, 'alpha': 0.05226423406098091}. Best is trial 30 with value: -1.4338760230962455.\u001b[0m\n",
      "\u001b[32m[I 2020-12-06 00:05:54,688]\u001b[0m Trial 78 finished with value: -0.005503885774223782 and parameters: {'lr': 0.017539123823779073, 'n_iter': 5, 'n_component': 5, 'alpha': 0.14559134196969414}. Best is trial 30 with value: -1.4338760230962455.\u001b[0m\n",
      "\u001b[32m[I 2020-12-06 00:06:00,995]\u001b[0m Trial 79 finished with value: -0.04352236251103947 and parameters: {'lr': 0.08065177388632362, 'n_iter': 7, 'n_component': 2, 'alpha': -0.1523829484846806}. Best is trial 30 with value: -1.4338760230962455.\u001b[0m\n",
      "\u001b[32m[I 2020-12-06 00:06:09,734]\u001b[0m Trial 80 finished with value: -0.08722913971902924 and parameters: {'lr': 0.21222765055691817, 'n_iter': 10, 'n_component': 3, 'alpha': 0.018903419863475657}. Best is trial 30 with value: -1.4338760230962455.\u001b[0m\n",
      "\u001b[32m[I 2020-12-06 00:06:20,941]\u001b[0m Trial 81 finished with value: -0.07010130198161679 and parameters: {'lr': 0.07548260694795045, 'n_iter': 13, 'n_component': 3, 'alpha': -0.24395267974201085}. Best is trial 30 with value: -1.4338760230962455.\u001b[0m\n",
      "\u001b[32m[I 2020-12-06 00:06:52,606]\u001b[0m Trial 82 finished with value: -0.06854476980504498 and parameters: {'lr': 0.07859354092081172, 'n_iter': 38, 'n_component': 1, 'alpha': 0.5162441602959593}. Best is trial 30 with value: -1.4338760230962455.\u001b[0m\n",
      "\u001b[32m[I 2020-12-06 00:06:57,247]\u001b[0m Trial 83 finished with value: -0.003010812668057139 and parameters: {'lr': 0.016228414972225595, 'n_iter': 5, 'n_component': 1, 'alpha': 0.8236613450854686}. Best is trial 30 with value: -1.4338760230962455.\u001b[0m\n",
      "\u001b[32m[I 2020-12-06 00:07:10,911]\u001b[0m Trial 84 finished with value: -0.04080550744024003 and parameters: {'lr': 0.048499179129191494, 'n_iter': 16, 'n_component': 1, 'alpha': 0.09302168909200925}. Best is trial 30 with value: -1.4338760230962455.\u001b[0m\n",
      "\u001b[32m[I 2020-12-06 00:07:18,838]\u001b[0m Trial 85 finished with value: -0.19911627128806986 and parameters: {'lr': 1.365448639088254, 'n_iter': 9, 'n_component': 5, 'alpha': -0.3012445303398593}. Best is trial 30 with value: -1.4338760230962455.\u001b[0m\n",
      "\u001b[32m[I 2020-12-06 00:07:23,483]\u001b[0m Trial 86 finished with value: -0.009481028536224123 and parameters: {'lr': 0.0360194802693625, 'n_iter': 5, 'n_component': 2, 'alpha': 0.3507834237278027}. Best is trial 30 with value: -1.4338760230962455.\u001b[0m\n",
      "\u001b[32m[I 2020-12-06 00:07:33,864]\u001b[0m Trial 87 finished with value: -0.005000144748742885 and parameters: {'lr': 0.010729927055351335, 'n_iter': 12, 'n_component': 2, 'alpha': 0.8421982365902785}. Best is trial 30 with value: -1.4338760230962455.\u001b[0m\n",
      "\u001b[32m[I 2020-12-06 00:07:38,518]\u001b[0m Trial 88 finished with value: -0.07212240330509423 and parameters: {'lr': 1.815898051663383, 'n_iter': 5, 'n_component': 5, 'alpha': 0.8645809234991573}. Best is trial 30 with value: -1.4338760230962455.\u001b[0m\n",
      "\u001b[32m[I 2020-12-06 00:08:01,208]\u001b[0m Trial 89 finished with value: -0.11004824423966975 and parameters: {'lr': 0.35556403190513175, 'n_iter': 27, 'n_component': 4, 'alpha': 0.21415999360137739}. Best is trial 30 with value: -1.4338760230962455.\u001b[0m\n",
      "\u001b[32m[I 2020-12-06 00:08:12,386]\u001b[0m Trial 90 finished with value: -0.05984480408825654 and parameters: {'lr': 0.25965712447343686, 'n_iter': 13, 'n_component': 1, 'alpha': 0.8380022880954734}. Best is trial 30 with value: -1.4338760230962455.\u001b[0m\n",
      "\u001b[32m[I 2020-12-06 00:08:24,405]\u001b[0m Trial 91 finished with value: -0.06827359551018708 and parameters: {'lr': 0.05848798275223178, 'n_iter': 14, 'n_component': 1, 'alpha': -0.30869290337373534}. Best is trial 30 with value: -1.4338760230962455.\u001b[0m\n",
      "\u001b[32m[I 2020-12-06 00:08:40,544]\u001b[0m Trial 92 finished with value: -0.09340055207908504 and parameters: {'lr': 0.6718290054123455, 'n_iter': 19, 'n_component': 4, 'alpha': 0.42795419826695014}. Best is trial 30 with value: -1.4338760230962455.\u001b[0m\n",
      "\u001b[32m[I 2020-12-06 00:08:46,843]\u001b[0m Trial 93 finished with value: -0.2974855406423026 and parameters: {'lr': 0.13490138713413174, 'n_iter': 7, 'n_component': 1, 'alpha': -0.8049982766326111}. Best is trial 30 with value: -1.4338760230962455.\u001b[0m\n",
      "\u001b[32m[I 2020-12-06 00:09:16,950]\u001b[0m Trial 94 finished with value: -0.3125237873734632 and parameters: {'lr': 0.13984292469224557, 'n_iter': 36, 'n_component': 3, 'alpha': -0.6188590365165911}. Best is trial 30 with value: -1.4338760230962455.\u001b[0m\n",
      "\u001b[32m[I 2020-12-06 00:09:28,968]\u001b[0m Trial 95 finished with value: -0.016882447923273425 and parameters: {'lr': 0.016799521014268987, 'n_iter': 14, 'n_component': 4, 'alpha': -0.04429358298086428}. Best is trial 30 with value: -1.4338760230962455.\u001b[0m\n",
      "\u001b[32m[I 2020-12-06 00:10:08,052]\u001b[0m Trial 96 finished with value: -0.49342375200514277 and parameters: {'lr': 0.01008157450874057, 'n_iter': 47, 'n_component': 4, 'alpha': -0.9356831964496711}. Best is trial 30 with value: -1.4338760230962455.\u001b[0m\n",
      "\u001b[32m[I 2020-12-06 00:10:36,495]\u001b[0m Trial 97 finished with value: -0.6406504025256017 and parameters: {'lr': 0.017717120985685925, 'n_iter': 34, 'n_component': 3, 'alpha': -0.9458339146061454}. Best is trial 30 with value: -1.4338760230962455.\u001b[0m\n",
      "\u001b[32m[I 2020-12-06 00:11:04,944]\u001b[0m Trial 98 finished with value: -0.012274643700836751 and parameters: {'lr': 0.010959861810818068, 'n_iter': 34, 'n_component': 3, 'alpha': 0.8664439764816991}. Best is trial 30 with value: -1.4338760230962455.\u001b[0m\n",
      "\u001b[32m[I 2020-12-06 00:11:30,908]\u001b[0m Trial 99 finished with value: -0.0802154011679741 and parameters: {'lr': 0.07953397814181788, 'n_iter': 31, 'n_component': 3, 'alpha': 0.16537596629157614}. Best is trial 30 with value: -1.4338760230962455.\u001b[0m\n"
     ]
    },
    {
     "name": "stderr",
     "output_type": "stream",
     "text": [
      "\u001b[32m[I 2020-12-06 00:11:36,375]\u001b[0m Trial 100 finished with value: -0.00425785135093637 and parameters: {'lr': 0.016787709916418373, 'n_iter': 6, 'n_component': 4, 'alpha': 0.6763084198742919}. Best is trial 30 with value: -1.4338760230962455.\u001b[0m\n",
      "\u001b[32m[I 2020-12-06 00:11:41,828]\u001b[0m Trial 101 finished with value: -0.007604409350329799 and parameters: {'lr': 0.014050574145444238, 'n_iter': 6, 'n_component': 4, 'alpha': -0.2103918648390375}. Best is trial 30 with value: -1.4338760230962455.\u001b[0m\n",
      "\u001b[32m[I 2020-12-06 00:11:48,110]\u001b[0m Trial 102 finished with value: -0.027160718445115917 and parameters: {'lr': 0.12091508829252691, 'n_iter': 7, 'n_component': 2, 'alpha': 0.897371614419634}. Best is trial 30 with value: -1.4338760230962455.\u001b[0m\n",
      "\u001b[32m[I 2020-12-06 00:12:00,970]\u001b[0m Trial 103 finished with value: -0.009056866467280322 and parameters: {'lr': 0.013883620969768262, 'n_iter': 15, 'n_component': 3, 'alpha': 0.4782131311592581}. Best is trial 30 with value: -1.4338760230962455.\u001b[0m\n",
      "\u001b[32m[I 2020-12-06 00:12:07,272]\u001b[0m Trial 104 finished with value: -0.06130832809788389 and parameters: {'lr': 0.36772827925054297, 'n_iter': 7, 'n_component': 5, 'alpha': 0.7489617524475145}. Best is trial 30 with value: -1.4338760230962455.\u001b[0m\n",
      "\u001b[32m[I 2020-12-06 00:12:15,233]\u001b[0m Trial 105 finished with value: -0.012481211299326445 and parameters: {'lr': 0.034155396442508444, 'n_iter': 9, 'n_component': 4, 'alpha': 0.6611865745821561}. Best is trial 30 with value: -1.4338760230962455.\u001b[0m\n",
      "\u001b[32m[I 2020-12-06 00:12:41,201]\u001b[0m Trial 106 finished with value: -0.3465959108355021 and parameters: {'lr': 0.10432153025149406, 'n_iter': 31, 'n_component': 2, 'alpha': -0.9340427799729798}. Best is trial 30 with value: -1.4338760230962455.\u001b[0m\n",
      "\u001b[32m[I 2020-12-06 00:12:47,478]\u001b[0m Trial 107 finished with value: -1.421533789272241 and parameters: {'lr': 0.6613083006085542, 'n_iter': 7, 'n_component': 4, 'alpha': -0.9866828474136021}. Best is trial 30 with value: -1.4338760230962455.\u001b[0m\n",
      "\u001b[32m[I 2020-12-06 00:13:04,387]\u001b[0m Trial 108 finished with value: -0.35369045820313716 and parameters: {'lr': 0.2734317919586151, 'n_iter': 20, 'n_component': 1, 'alpha': -0.6087245931935383}. Best is trial 30 with value: -1.4338760230962455.\u001b[0m\n",
      "\u001b[32m[I 2020-12-06 00:13:27,880]\u001b[0m Trial 109 finished with value: -0.07857084684551663 and parameters: {'lr': 0.2881512680754531, 'n_iter': 28, 'n_component': 5, 'alpha': 0.7026892654823982}. Best is trial 30 with value: -1.4338760230962455.\u001b[0m\n",
      "\u001b[32m[I 2020-12-06 00:14:06,964]\u001b[0m Trial 110 finished with value: -0.18601811340909036 and parameters: {'lr': 0.13790518448079236, 'n_iter': 47, 'n_component': 4, 'alpha': -0.2860741311988345}. Best is trial 30 with value: -1.4338760230962455.\u001b[0m\n",
      "\u001b[32m[I 2020-12-06 00:14:14,885]\u001b[0m Trial 111 finished with value: -0.006500176883424746 and parameters: {'lr': 0.015523874699280056, 'n_iter': 9, 'n_component': 5, 'alpha': 0.5230076511052424}. Best is trial 30 with value: -1.4338760230962455.\u001b[0m\n",
      "\u001b[32m[I 2020-12-06 00:14:53,908]\u001b[0m Trial 112 finished with value: -0.07103764138808522 and parameters: {'lr': 1.571346499609379, 'n_iter': 47, 'n_component': 1, 'alpha': 0.7924977702493001}. Best is trial 30 with value: -1.4338760230962455.\u001b[0m\n",
      "\u001b[32m[I 2020-12-06 00:15:28,089]\u001b[0m Trial 113 finished with value: -0.10197341316113828 and parameters: {'lr': 0.040604771474466075, 'n_iter': 41, 'n_component': 4, 'alpha': -0.19966994293052154}. Best is trial 30 with value: -1.4338760230962455.\u001b[0m\n",
      "\u001b[32m[I 2020-12-06 00:15:50,806]\u001b[0m Trial 114 finished with value: -0.014626262220447162 and parameters: {'lr': 0.014338292483335298, 'n_iter': 27, 'n_component': 5, 'alpha': 0.7580008846269841}. Best is trial 30 with value: -1.4338760230962455.\u001b[0m\n",
      "\u001b[32m[I 2020-12-06 00:15:56,265]\u001b[0m Trial 115 finished with value: -0.12122630159373249 and parameters: {'lr': 1.280493470566727, 'n_iter': 6, 'n_component': 4, 'alpha': 0.10728382585124807}. Best is trial 30 with value: -1.4338760230962455.\u001b[0m\n",
      "\u001b[32m[I 2020-12-06 00:16:06,656]\u001b[0m Trial 116 finished with value: -0.06866173483028626 and parameters: {'lr': 0.9958010764988996, 'n_iter': 12, 'n_component': 4, 'alpha': 0.9289874157120137}. Best is trial 30 with value: -1.4338760230962455.\u001b[0m\n",
      "\u001b[32m[I 2020-12-06 00:16:26,879]\u001b[0m Trial 117 finished with value: -0.9431470438199753 and parameters: {'lr': 0.044136951967643785, 'n_iter': 24, 'n_component': 4, 'alpha': -0.9431557624522637}. Best is trial 30 with value: -1.4338760230962455.\u001b[0m\n",
      "\u001b[32m[I 2020-12-06 00:16:40,553]\u001b[0m Trial 118 finished with value: -0.02398098971975049 and parameters: {'lr': 0.047203744108166946, 'n_iter': 16, 'n_component': 4, 'alpha': 0.897199427906469}. Best is trial 30 with value: -1.4338760230962455.\u001b[0m\n",
      "\u001b[32m[I 2020-12-06 00:16:57,500]\u001b[0m Trial 119 finished with value: -0.010530034424748536 and parameters: {'lr': 0.012785412267192226, 'n_iter': 20, 'n_component': 3, 'alpha': 0.5411940729641251}. Best is trial 30 with value: -1.4338760230962455.\u001b[0m\n",
      "\u001b[32m[I 2020-12-06 00:17:24,290]\u001b[0m Trial 120 finished with value: -0.02810747929080848 and parameters: {'lr': 0.02020549331447048, 'n_iter': 32, 'n_component': 3, 'alpha': 0.3238836202139592}. Best is trial 30 with value: -1.4338760230962455.\u001b[0m\n",
      "\u001b[32m[I 2020-12-06 00:17:35,486]\u001b[0m Trial 121 finished with value: -0.05064023244993576 and parameters: {'lr': 0.016399451166407984, 'n_iter': 13, 'n_component': 1, 'alpha': -0.7195045659811499}. Best is trial 30 with value: -1.4338760230962455.\u001b[0m\n",
      "\u001b[32m[I 2020-12-06 00:18:06,379]\u001b[0m Trial 122 finished with value: -0.07083947215465813 and parameters: {'lr': 1.4531569295054767, 'n_iter': 37, 'n_component': 2, 'alpha': 0.8911363892175967}. Best is trial 30 with value: -1.4338760230962455.\u001b[0m\n",
      "\u001b[32m[I 2020-12-06 00:18:19,277]\u001b[0m Trial 123 finished with value: -0.11800378389843957 and parameters: {'lr': 0.21242498269824958, 'n_iter': 15, 'n_component': 4, 'alpha': -0.032994221717699945}. Best is trial 30 with value: -1.4338760230962455.\u001b[0m\n",
      "\u001b[32m[I 2020-12-06 00:18:32,150]\u001b[0m Trial 124 finished with value: -0.11423098501192275 and parameters: {'lr': 0.27584388150944866, 'n_iter': 15, 'n_component': 2, 'alpha': 0.08778498398817569}. Best is trial 30 with value: -1.4338760230962455.\u001b[0m\n",
      "\u001b[32m[I 2020-12-06 00:18:37,660]\u001b[0m Trial 125 finished with value: -1.6699888022795824 and parameters: {'lr': 0.2790743850298025, 'n_iter': 6, 'n_component': 3, 'alpha': -0.9727345971421821}. Best is trial 125 with value: -1.6699888022795824.\u001b[0m\n",
      "\u001b[32m[I 2020-12-06 00:18:43,952]\u001b[0m Trial 126 finished with value: -0.0193154350438971 and parameters: {'lr': 0.06230775347866536, 'n_iter': 7, 'n_component': 5, 'alpha': 0.5009020298755578}. Best is trial 125 with value: -1.6699888022795824.\u001b[0m\n",
      "\u001b[32m[I 2020-12-06 00:18:50,236]\u001b[0m Trial 127 finished with value: -0.0742476305977895 and parameters: {'lr': 0.3757079749131851, 'n_iter': 7, 'n_component': 5, 'alpha': 0.4646517433649142}. Best is trial 125 with value: -1.6699888022795824.\u001b[0m\n",
      "\u001b[32m[I 2020-12-06 00:18:56,529]\u001b[0m Trial 128 finished with value: -0.004579198049428523 and parameters: {'lr': 0.018308672193724985, 'n_iter': 7, 'n_component': 5, 'alpha': 0.9893482326526284}. Best is trial 125 with value: -1.6699888022795824.\u001b[0m\n",
      "\u001b[32m[I 2020-12-06 00:19:10,207]\u001b[0m Trial 129 finished with value: -0.5807594251012518 and parameters: {'lr': 0.40418950489982064, 'n_iter': 16, 'n_component': 4, 'alpha': -0.776443433575047}. Best is trial 125 with value: -1.6699888022795824.\u001b[0m\n",
      "\u001b[32m[I 2020-12-06 00:19:50,073]\u001b[0m Trial 130 finished with value: 1.0537289211727057 and parameters: {'lr': 0.06254510484739077, 'n_iter': 48, 'n_component': 1, 'alpha': -0.9831710603804426}. Best is trial 125 with value: -1.6699888022795824.\u001b[0m\n",
      "\u001b[32m[I 2020-12-06 00:20:26,649]\u001b[0m Trial 131 finished with value: -0.25999573761889383 and parameters: {'lr': 0.09674674806746024, 'n_iter': 44, 'n_component': 1, 'alpha': -0.5154650364735833}. Best is trial 125 with value: -1.6699888022795824.\u001b[0m\n",
      "\u001b[32m[I 2020-12-06 00:20:58,372]\u001b[0m Trial 132 finished with value: -0.44708434202903335 and parameters: {'lr': 0.7194919376276115, 'n_iter': 38, 'n_component': 5, 'alpha': -0.7053768350172454}. Best is trial 125 with value: -1.6699888022795824.\u001b[0m\n"
     ]
    },
    {
     "name": "stderr",
     "output_type": "stream",
     "text": [
      "\u001b[32m[I 2020-12-06 00:21:05,488]\u001b[0m Trial 133 finished with value: -1.005410698578939 and parameters: {'lr': 0.715508251769388, 'n_iter': 8, 'n_component': 4, 'alpha': -0.8966966148507247}. Best is trial 125 with value: -1.6699888022795824.\u001b[0m\n",
      "\u001b[32m[I 2020-12-06 00:21:36,382]\u001b[0m Trial 134 finished with value: -0.0681060403799798 and parameters: {'lr': 1.1190284485009165, 'n_iter': 37, 'n_component': 5, 'alpha': 0.9717364835416449}. Best is trial 125 with value: -1.6699888022795824.\u001b[0m\n",
      "\u001b[32m[I 2020-12-06 00:21:44,329]\u001b[0m Trial 135 finished with value: -0.6915603296752426 and parameters: {'lr': 0.08740198250238475, 'n_iter': 9, 'n_component': 1, 'alpha': -0.9278641830939287}. Best is trial 125 with value: -1.6699888022795824.\u001b[0m\n",
      "\u001b[32m[I 2020-12-06 00:22:21,805]\u001b[0m Trial 136 finished with value: -0.09425711863486441 and parameters: {'lr': 0.6835074745959786, 'n_iter': 45, 'n_component': 5, 'alpha': 0.43736944619552753}. Best is trial 125 with value: -1.6699888022795824.\u001b[0m\n",
      "\u001b[32m[I 2020-12-06 00:22:54,346]\u001b[0m Trial 137 finished with value: -0.04220049673510595 and parameters: {'lr': 0.01076355440427029, 'n_iter': 39, 'n_component': 5, 'alpha': -0.3384623418945012}. Best is trial 125 with value: -1.6699888022795824.\u001b[0m\n",
      "\u001b[32m[I 2020-12-06 00:23:10,496]\u001b[0m Trial 138 finished with value: -0.21554436886160633 and parameters: {'lr': 0.18745790903892506, 'n_iter': 19, 'n_component': 4, 'alpha': -0.44403809042340947}. Best is trial 125 with value: -1.6699888022795824.\u001b[0m\n",
      "\u001b[32m[I 2020-12-06 00:23:48,772]\u001b[0m Trial 139 finished with value: -0.4681242995955408 and parameters: {'lr': 0.10055182480072325, 'n_iter': 46, 'n_component': 2, 'alpha': -0.7282750120287609}. Best is trial 125 with value: -1.6699888022795824.\u001b[0m\n",
      "\u001b[32m[I 2020-12-06 00:24:03,260]\u001b[0m Trial 140 finished with value: -0.054785975173625046 and parameters: {'lr': 0.1513457599873272, 'n_iter': 17, 'n_component': 2, 'alpha': 0.8987125302529884}. Best is trial 125 with value: -1.6699888022795824.\u001b[0m\n",
      "\u001b[32m[I 2020-12-06 00:24:13,626]\u001b[0m Trial 141 finished with value: -0.39013424986871226 and parameters: {'lr': 0.156308517945799, 'n_iter': 12, 'n_component': 1, 'alpha': -0.7584589366324263}. Best is trial 125 with value: -1.6699888022795824.\u001b[0m\n",
      "\u001b[32m[I 2020-12-06 00:24:28,127]\u001b[0m Trial 142 finished with value: -0.022738472257064934 and parameters: {'lr': 0.039374681151169114, 'n_iter': 17, 'n_component': 5, 'alpha': 0.8299605830160617}. Best is trial 125 with value: -1.6699888022795824.\u001b[0m\n",
      "\u001b[32m[I 2020-12-06 00:24:37,650]\u001b[0m Trial 143 finished with value: -0.10523451831753805 and parameters: {'lr': 0.6674613838159663, 'n_iter': 11, 'n_component': 3, 'alpha': 0.17227332938518947}. Best is trial 125 with value: -1.6699888022795824.\u001b[0m\n",
      "\u001b[32m[I 2020-12-06 00:24:50,497]\u001b[0m Trial 144 finished with value: -0.07556663370318506 and parameters: {'lr': 1.3715683938480592, 'n_iter': 15, 'n_component': 2, 'alpha': 0.7745334761617002}. Best is trial 125 with value: -1.6699888022795824.\u001b[0m\n",
      "\u001b[32m[I 2020-12-06 00:25:27,070]\u001b[0m Trial 145 finished with value: -0.10967050890813068 and parameters: {'lr': 0.10608612695586316, 'n_iter': 44, 'n_component': 1, 'alpha': 0.10040850194368378}. Best is trial 125 with value: -1.6699888022795824.\u001b[0m\n",
      "\u001b[32m[I 2020-12-06 00:25:54,687]\u001b[0m Trial 146 finished with value: -0.014669869379572598 and parameters: {'lr': 0.013356850692302203, 'n_iter': 33, 'n_component': 4, 'alpha': 0.9456711692020556}. Best is trial 125 with value: -1.6699888022795824.\u001b[0m\n",
      "\u001b[32m[I 2020-12-06 00:26:05,901]\u001b[0m Trial 147 finished with value: -0.08137905160739178 and parameters: {'lr': 0.13483584898189538, 'n_iter': 13, 'n_component': 1, 'alpha': 0.0017785108403121086}. Best is trial 125 with value: -1.6699888022795824.\u001b[0m\n",
      "\u001b[32m[I 2020-12-06 00:26:47,462]\u001b[0m Trial 148 finished with value: -0.06412473406450614 and parameters: {'lr': 0.06281995062020129, 'n_iter': 50, 'n_component': 5, 'alpha': 0.741272552763315}. Best is trial 125 with value: -1.6699888022795824.\u001b[0m\n",
      "\u001b[32m[I 2020-12-06 00:26:57,860]\u001b[0m Trial 149 finished with value: -0.05323809046555583 and parameters: {'lr': 0.17426459814712492, 'n_iter': 12, 'n_component': 3, 'alpha': 0.6336420910318425}. Best is trial 125 with value: -1.6699888022795824.\u001b[0m\n",
      "\u001b[32m[I 2020-12-06 00:27:09,114]\u001b[0m Trial 150 finished with value: -0.06705911755408667 and parameters: {'lr': 0.5617029953855379, 'n_iter': 13, 'n_component': 5, 'alpha': 0.9867225421502666}. Best is trial 125 with value: -1.6699888022795824.\u001b[0m\n",
      "\u001b[32m[I 2020-12-06 00:27:25,244]\u001b[0m Trial 151 finished with value: -0.06330802340558017 and parameters: {'lr': 0.42247893939972264, 'n_iter': 19, 'n_component': 1, 'alpha': 0.9909538363825083}. Best is trial 125 with value: -1.6699888022795824.\u001b[0m\n",
      "\u001b[32m[I 2020-12-06 00:27:57,746]\u001b[0m Trial 152 finished with value: -0.24047880444048086 and parameters: {'lr': 0.03837001508247817, 'n_iter': 39, 'n_component': 3, 'alpha': -0.6998918223681188}. Best is trial 125 with value: -1.6699888022795824.\u001b[0m\n",
      "\u001b[32m[I 2020-12-06 00:28:02,389]\u001b[0m Trial 153 finished with value: -0.093459729067781 and parameters: {'lr': 1.669992070642976, 'n_iter': 5, 'n_component': 5, 'alpha': 0.44922765497220496}. Best is trial 125 with value: -1.6699888022795824.\u001b[0m\n",
      "\u001b[32m[I 2020-12-06 00:28:18,521]\u001b[0m Trial 154 finished with value: -0.04852337606001966 and parameters: {'lr': 0.07473460271657724, 'n_iter': 19, 'n_component': 2, 'alpha': 0.5307660003161514}. Best is trial 125 with value: -1.6699888022795824.\u001b[0m\n",
      "\u001b[32m[I 2020-12-06 00:28:29,697]\u001b[0m Trial 155 finished with value: -0.06540888380958298 and parameters: {'lr': 0.05149963789759926, 'n_iter': 13, 'n_component': 1, 'alpha': -0.38805347789757805}. Best is trial 125 with value: -1.6699888022795824.\u001b[0m\n",
      "\u001b[32m[I 2020-12-06 00:29:04,699]\u001b[0m Trial 156 finished with value: -0.004008815529932264 and parameters: {'lr': 0.3223869940108024, 'n_iter': 42, 'n_component': 5, 'alpha': -0.9866181888865388}. Best is trial 125 with value: -1.6699888022795824.\u001b[0m\n",
      "\u001b[32m[I 2020-12-06 00:29:15,898]\u001b[0m Trial 157 finished with value: -0.03366155851083619 and parameters: {'lr': 0.07115053245836149, 'n_iter': 13, 'n_component': 1, 'alpha': 0.5218757322178273}. Best is trial 125 with value: -1.6699888022795824.\u001b[0m\n",
      "\u001b[32m[I 2020-12-06 00:29:22,179]\u001b[0m Trial 158 finished with value: -0.6208807118881765 and parameters: {'lr': 0.2993293322896762, 'n_iter': 7, 'n_component': 2, 'alpha': -0.8454023996602704}. Best is trial 125 with value: -1.6699888022795824.\u001b[0m\n",
      "\u001b[32m[I 2020-12-06 00:30:01,196]\u001b[0m Trial 159 finished with value: -0.02051285406208081 and parameters: {'lr': 0.010875513570940966, 'n_iter': 47, 'n_component': 1, 'alpha': 0.5092075567163441}. Best is trial 125 with value: -1.6699888022795824.\u001b[0m\n",
      "\u001b[32m[I 2020-12-06 00:30:19,785]\u001b[0m Trial 160 finished with value: -0.038410236532909314 and parameters: {'lr': 0.03773753615776482, 'n_iter': 22, 'n_component': 3, 'alpha': 0.1937998288565932}. Best is trial 125 with value: -1.6699888022795824.\u001b[0m\n",
      "\u001b[32m[I 2020-12-06 00:30:24,415]\u001b[0m Trial 161 finished with value: -0.0034204646048120457 and parameters: {'lr': 0.011129347974562774, 'n_iter': 5, 'n_component': 1, 'alpha': 0.10738024689954284}. Best is trial 125 with value: -1.6699888022795824.\u001b[0m\n",
      "\u001b[32m[I 2020-12-06 00:31:02,650]\u001b[0m Trial 162 finished with value: -0.044526405251862355 and parameters: {'lr': 0.0258537981885181, 'n_iter': 46, 'n_component': 3, 'alpha': 0.34458675858673127}. Best is trial 125 with value: -1.6699888022795824.\u001b[0m\n",
      "\u001b[32m[I 2020-12-06 00:31:13,870]\u001b[0m Trial 163 finished with value: -0.38103952906695504 and parameters: {'lr': 1.6916260735521196, 'n_iter': 13, 'n_component': 3, 'alpha': -0.6721869734424486}. Best is trial 125 with value: -1.6699888022795824.\u001b[0m\n",
      "\u001b[32m[I 2020-12-06 00:31:32,468]\u001b[0m Trial 164 finished with value: -0.0873121933662635 and parameters: {'lr': 0.32065148681354927, 'n_iter': 22, 'n_component': 2, 'alpha': 0.5197440709983614}. Best is trial 125 with value: -1.6699888022795824.\u001b[0m\n",
      "\u001b[32m[I 2020-12-06 00:31:37,120]\u001b[0m Trial 165 finished with value: -0.6542974499007522 and parameters: {'lr': 1.093213516198871, 'n_iter': 5, 'n_component': 2, 'alpha': -0.8108381785952927}. Best is trial 125 with value: -1.6699888022795824.\u001b[0m\n"
     ]
    },
    {
     "name": "stderr",
     "output_type": "stream",
     "text": [
      "\u001b[32m[I 2020-12-06 00:31:45,868]\u001b[0m Trial 166 finished with value: -0.0228618821493487 and parameters: {'lr': 0.04550207176244377, 'n_iter': 10, 'n_component': 4, 'alpha': 0.29817517628105983}. Best is trial 125 with value: -1.6699888022795824.\u001b[0m\n",
      "\u001b[32m[I 2020-12-06 00:32:14,269]\u001b[0m Trial 167 finished with value: -0.09072844252474721 and parameters: {'lr': 0.018971802006301473, 'n_iter': 34, 'n_component': 3, 'alpha': -0.5839317233655454}. Best is trial 125 with value: -1.6699888022795824.\u001b[0m\n",
      "\u001b[32m[I 2020-12-06 00:32:47,630]\u001b[0m Trial 168 finished with value: -0.23843977989556797 and parameters: {'lr': 1.607671811060133, 'n_iter': 40, 'n_component': 5, 'alpha': -0.41249460887601874}. Best is trial 125 with value: -1.6699888022795824.\u001b[0m\n",
      "\u001b[32m[I 2020-12-06 00:32:55,533]\u001b[0m Trial 169 finished with value: -0.07317077586436038 and parameters: {'lr': 1.4713134128768965, 'n_iter': 9, 'n_component': 1, 'alpha': 0.7421129040635974}. Best is trial 125 with value: -1.6699888022795824.\u001b[0m\n",
      "\u001b[32m[I 2020-12-06 00:33:01,805]\u001b[0m Trial 170 finished with value: -0.08998816827125344 and parameters: {'lr': 0.32187455836619555, 'n_iter': 7, 'n_component': 1, 'alpha': 0.0681438168442372}. Best is trial 125 with value: -1.6699888022795824.\u001b[0m\n",
      "\u001b[32m[I 2020-12-06 00:33:08,100]\u001b[0m Trial 171 finished with value: -0.7003535948728477 and parameters: {'lr': 0.28323903181121324, 'n_iter': 7, 'n_component': 3, 'alpha': -0.8810283678803116}. Best is trial 125 with value: -1.6699888022795824.\u001b[0m\n",
      "\u001b[32m[I 2020-12-06 00:33:17,673]\u001b[0m Trial 172 finished with value: -0.011829091261074787 and parameters: {'lr': 0.022072822452366563, 'n_iter': 11, 'n_component': 2, 'alpha': 0.4300617604781203}. Best is trial 125 with value: -1.6699888022795824.\u001b[0m\n",
      "\u001b[32m[I 2020-12-06 00:33:22,303]\u001b[0m Trial 173 finished with value: -0.09417072619333955 and parameters: {'lr': 1.58223416321073, 'n_iter': 5, 'n_component': 2, 'alpha': 0.4290352904897201}. Best is trial 125 with value: -1.6699888022795824.\u001b[0m\n",
      "\u001b[32m[I 2020-12-06 00:33:44,134]\u001b[0m Trial 174 finished with value: -0.014393809304794059 and parameters: {'lr': 0.011918394912923286, 'n_iter': 26, 'n_component': 1, 'alpha': 0.3732497207640779}. Best is trial 125 with value: -1.6699888022795824.\u001b[0m\n",
      "\u001b[32m[I 2020-12-06 00:33:53,701]\u001b[0m Trial 175 finished with value: -0.19214217424354474 and parameters: {'lr': 1.8834057765861854, 'n_iter': 11, 'n_component': 4, 'alpha': -0.2914728952396284}. Best is trial 125 with value: -1.6699888022795824.\u001b[0m\n",
      "\u001b[32m[I 2020-12-06 00:34:08,981]\u001b[0m Trial 176 finished with value: -0.07669178984095615 and parameters: {'lr': 0.04003978160038091, 'n_iter': 18, 'n_component': 1, 'alpha': -0.4445270754667292}. Best is trial 125 with value: -1.6699888022795824.\u001b[0m\n",
      "\u001b[32m[I 2020-12-06 00:34:14,435]\u001b[0m Trial 177 finished with value: -0.0034829424243165708 and parameters: {'lr': 0.016525546276595672, 'n_iter': 6, 'n_component': 1, 'alpha': 0.9173046515477632}. Best is trial 125 with value: -1.6699888022795824.\u001b[0m\n",
      "\u001b[32m[I 2020-12-06 00:34:33,836]\u001b[0m Trial 178 finished with value: -0.04606253884398637 and parameters: {'lr': 0.09008903255707325, 'n_iter': 23, 'n_component': 3, 'alpha': 0.8514092346629385}. Best is trial 125 with value: -1.6699888022795824.\u001b[0m\n",
      "\u001b[32m[I 2020-12-06 00:35:07,171]\u001b[0m Trial 179 finished with value: -0.02921733066461485 and parameters: {'lr': 0.011646373123834519, 'n_iter': 40, 'n_component': 2, 'alpha': 0.047724443954693774}. Best is trial 125 with value: -1.6699888022795824.\u001b[0m\n",
      "\u001b[32m[I 2020-12-06 00:35:12,624]\u001b[0m Trial 180 finished with value: -1.376560420305949 and parameters: {'lr': 1.8944612041837385, 'n_iter': 6, 'n_component': 3, 'alpha': -0.9499924679006345}. Best is trial 125 with value: -1.6699888022795824.\u001b[0m\n",
      "\u001b[32m[I 2020-12-06 00:35:35,265]\u001b[0m Trial 181 finished with value: -0.056357221111068556 and parameters: {'lr': 0.10784923496588278, 'n_iter': 27, 'n_component': 1, 'alpha': 0.8222180184667032}. Best is trial 125 with value: -1.6699888022795824.\u001b[0m\n",
      "\u001b[32m[I 2020-12-06 00:36:16,829]\u001b[0m Trial 182 finished with value: -0.052615863761612536 and parameters: {'lr': 0.04963647093464323, 'n_iter': 50, 'n_component': 3, 'alpha': 0.7629242985740612}. Best is trial 125 with value: -1.6699888022795824.\u001b[0m\n",
      "\u001b[32m[I 2020-12-06 00:36:53,443]\u001b[0m Trial 183 finished with value: -0.06855479565232225 and parameters: {'lr': 0.44465171860824576, 'n_iter': 44, 'n_component': 3, 'alpha': 0.7961434497427373}. Best is trial 125 with value: -1.6699888022795824.\u001b[0m\n",
      "\u001b[32m[I 2020-12-06 00:37:06,278]\u001b[0m Trial 184 finished with value: -0.15998144206719322 and parameters: {'lr': 0.31137919244719725, 'n_iter': 15, 'n_component': 4, 'alpha': -0.20185382621875314}. Best is trial 125 with value: -1.6699888022795824.\u001b[0m\n",
      "\u001b[32m[I 2020-12-06 00:37:10,906]\u001b[0m Trial 185 finished with value: -0.06415984149762233 and parameters: {'lr': 0.14547677216952484, 'n_iter': 5, 'n_component': 5, 'alpha': -0.27709583997384446}. Best is trial 125 with value: -1.6699888022795824.\u001b[0m\n",
      "\u001b[32m[I 2020-12-06 00:37:32,758]\u001b[0m Trial 186 finished with value: -0.07991032536800047 and parameters: {'lr': 0.04310333998248722, 'n_iter': 26, 'n_component': 5, 'alpha': -0.20738810932241813}. Best is trial 125 with value: -1.6699888022795824.\u001b[0m\n",
      "\u001b[32m[I 2020-12-06 00:38:08,608]\u001b[0m Trial 187 finished with value: -0.22011932060293304 and parameters: {'lr': 1.4824985952654282, 'n_iter': 43, 'n_component': 4, 'alpha': -0.37923358571031074}. Best is trial 125 with value: -1.6699888022795824.\u001b[0m\n",
      "\u001b[32m[I 2020-12-06 00:38:13,232]\u001b[0m Trial 188 finished with value: -0.01055839827130467 and parameters: {'lr': 0.04401361637902399, 'n_iter': 5, 'n_component': 5, 'alpha': 0.45796238372321696}. Best is trial 125 with value: -1.6699888022795824.\u001b[0m\n",
      "\u001b[32m[I 2020-12-06 00:38:17,872]\u001b[0m Trial 189 finished with value: -0.042681381771247695 and parameters: {'lr': 0.14429914835843882, 'n_iter': 5, 'n_component': 5, 'alpha': 0.07082345029534554}. Best is trial 125 with value: -1.6699888022795824.\u001b[0m\n",
      "\u001b[32m[I 2020-12-06 00:38:25,769]\u001b[0m Trial 190 finished with value: -0.05212312962701093 and parameters: {'lr': 0.10949535180163719, 'n_iter': 9, 'n_component': 1, 'alpha': 0.04782675737258879}. Best is trial 125 with value: -1.6699888022795824.\u001b[0m\n",
      "\u001b[32m[I 2020-12-06 00:38:41,885]\u001b[0m Trial 191 finished with value: -0.10268056487763699 and parameters: {'lr': 0.20008809167872538, 'n_iter': 19, 'n_component': 3, 'alpha': 0.08234645530288054}. Best is trial 125 with value: -1.6699888022795824.\u001b[0m\n",
      "\u001b[32m[I 2020-12-06 00:39:03,748]\u001b[0m Trial 192 finished with value: -0.08991152066111185 and parameters: {'lr': 0.061148782436497816, 'n_iter': 26, 'n_component': 2, 'alpha': -0.10689651545861312}. Best is trial 125 with value: -1.6699888022795824.\u001b[0m\n",
      "\u001b[32m[I 2020-12-06 00:39:14,930]\u001b[0m Trial 193 finished with value: -0.010107577348499985 and parameters: {'lr': 0.021895756013060815, 'n_iter': 13, 'n_component': 5, 'alpha': 0.9234788034614814}. Best is trial 125 with value: -1.6699888022795824.\u001b[0m\n",
      "\u001b[32m[I 2020-12-06 00:39:34,342]\u001b[0m Trial 194 finished with value: -0.17586235406432804 and parameters: {'lr': 0.46346372358596366, 'n_iter': 23, 'n_component': 3, 'alpha': -0.28808519878207584}. Best is trial 125 with value: -1.6699888022795824.\u001b[0m\n",
      "\u001b[32m[I 2020-12-06 00:39:49,641]\u001b[0m Trial 195 finished with value: -0.16634003097975514 and parameters: {'lr': 0.6427238515852348, 'n_iter': 18, 'n_component': 4, 'alpha': -0.18535311714936453}. Best is trial 125 with value: -1.6699888022795824.\u001b[0m\n",
      "\u001b[32m[I 2020-12-06 00:40:22,984]\u001b[0m Trial 196 finished with value: -0.1028737906811148 and parameters: {'lr': 0.16157510299938044, 'n_iter': 40, 'n_component': 2, 'alpha': 0.2810318722030072}. Best is trial 125 with value: -1.6699888022795824.\u001b[0m\n",
      "\u001b[32m[I 2020-12-06 00:40:36,653]\u001b[0m Trial 197 finished with value: -0.15453572434187124 and parameters: {'lr': 0.07030979161827212, 'n_iter': 16, 'n_component': 2, 'alpha': -0.5815967708804359}. Best is trial 125 with value: -1.6699888022795824.\u001b[0m\n",
      "\u001b[32m[I 2020-12-06 00:40:53,603]\u001b[0m Trial 198 finished with value: -1.7458265393949401 and parameters: {'lr': 0.04019492286797674, 'n_iter': 20, 'n_component': 3, 'alpha': -0.98809612724204}. Best is trial 198 with value: -1.7458265393949401.\u001b[0m\n"
     ]
    },
    {
     "name": "stderr",
     "output_type": "stream",
     "text": [
      "\u001b[32m[I 2020-12-06 00:41:13,016]\u001b[0m Trial 199 finished with value: -0.06583583118947955 and parameters: {'lr': 0.24465698477682676, 'n_iter': 23, 'n_component': 5, 'alpha': 0.9687392374186625}. Best is trial 198 with value: -1.7458265393949401.\u001b[0m\n",
      "\u001b[32m[I 2020-12-06 00:41:20,132]\u001b[0m Trial 200 finished with value: -0.786589206408933 and parameters: {'lr': 0.8818999545849977, 'n_iter': 8, 'n_component': 3, 'alpha': -0.8606633331196835}. Best is trial 198 with value: -1.7458265393949401.\u001b[0m\n",
      "\u001b[32m[I 2020-12-06 00:41:27,247]\u001b[0m Trial 201 finished with value: -0.8654661342809846 and parameters: {'lr': 0.4778213439691246, 'n_iter': 8, 'n_component': 3, 'alpha': -0.8841438715143856}. Best is trial 198 with value: -1.7458265393949401.\u001b[0m\n",
      "\u001b[32m[I 2020-12-06 00:41:34,358]\u001b[0m Trial 202 finished with value: -0.7787034291734176 and parameters: {'lr': 0.8131693468047887, 'n_iter': 8, 'n_component': 3, 'alpha': -0.8585939608506049}. Best is trial 198 with value: -1.7458265393949401.\u001b[0m\n",
      "\u001b[32m[I 2020-12-06 00:41:41,473]\u001b[0m Trial 203 finished with value: -0.7863296337938028 and parameters: {'lr': 0.7780553016575811, 'n_iter': 8, 'n_component': 3, 'alpha': -0.8605326028726783}. Best is trial 198 with value: -1.7458265393949401.\u001b[0m\n",
      "\u001b[32m[I 2020-12-06 00:41:48,581]\u001b[0m Trial 204 finished with value: -0.8112151307884381 and parameters: {'lr': 0.7891990260667929, 'n_iter': 8, 'n_component': 3, 'alpha': -0.8663949669826407}. Best is trial 198 with value: -1.7458265393949401.\u001b[0m\n",
      "\u001b[32m[I 2020-12-06 00:41:55,694]\u001b[0m Trial 205 finished with value: -0.8643181315428267 and parameters: {'lr': 0.8292232043520513, 'n_iter': 8, 'n_component': 3, 'alpha': -0.8781468385918609}. Best is trial 198 with value: -1.7458265393949401.\u001b[0m\n",
      "\u001b[32m[I 2020-12-06 00:42:02,819]\u001b[0m Trial 206 finished with value: -0.8498623830665369 and parameters: {'lr': 0.8207761997154229, 'n_iter': 8, 'n_component': 3, 'alpha': -0.8750405782948365}. Best is trial 198 with value: -1.7458265393949401.\u001b[0m\n",
      "\u001b[32m[I 2020-12-06 00:42:09,963]\u001b[0m Trial 207 finished with value: -0.8663272106870284 and parameters: {'lr': 0.8155730878246009, 'n_iter': 8, 'n_component': 3, 'alpha': -0.8785071776793398}. Best is trial 198 with value: -1.7458265393949401.\u001b[0m\n",
      "\u001b[32m[I 2020-12-06 00:42:17,082]\u001b[0m Trial 208 finished with value: -0.8572958285421297 and parameters: {'lr': 0.8425972443314546, 'n_iter': 8, 'n_component': 3, 'alpha': -0.8767284373262424}. Best is trial 198 with value: -1.7458265393949401.\u001b[0m\n",
      "\u001b[32m[I 2020-12-06 00:42:24,196]\u001b[0m Trial 209 finished with value: -0.8940053757615378 and parameters: {'lr': 0.8666441414999382, 'n_iter': 8, 'n_component': 3, 'alpha': -0.8845014745924493}. Best is trial 198 with value: -1.7458265393949401.\u001b[0m\n",
      "\u001b[32m[I 2020-12-06 00:42:31,317]\u001b[0m Trial 210 finished with value: -0.9049195981911426 and parameters: {'lr': 0.8486794004722547, 'n_iter': 8, 'n_component': 3, 'alpha': -0.8865142965016439}. Best is trial 198 with value: -1.7458265393949401.\u001b[0m\n",
      "\u001b[32m[I 2020-12-06 00:42:38,433]\u001b[0m Trial 211 finished with value: -0.911517096733291 and parameters: {'lr': 0.8563373650913351, 'n_iter': 8, 'n_component': 3, 'alpha': -0.8878726825333805}. Best is trial 198 with value: -1.7458265393949401.\u001b[0m\n",
      "\u001b[32m[I 2020-12-06 00:42:45,555]\u001b[0m Trial 212 finished with value: -0.8228684479193431 and parameters: {'lr': 0.8203737053562157, 'n_iter': 8, 'n_component': 3, 'alpha': -0.8690767004662926}. Best is trial 198 with value: -1.7458265393949401.\u001b[0m\n",
      "\u001b[32m[I 2020-12-06 00:42:52,659]\u001b[0m Trial 213 finished with value: -0.8405618748281859 and parameters: {'lr': 0.8264704839798632, 'n_iter': 8, 'n_component': 3, 'alpha': -0.8730391792343926}. Best is trial 198 with value: -1.7458265393949401.\u001b[0m\n",
      "\u001b[32m[I 2020-12-06 00:42:59,765]\u001b[0m Trial 214 finished with value: -0.8956926574779202 and parameters: {'lr': 0.8299120821304823, 'n_iter': 8, 'n_component': 3, 'alpha': -0.8845513607149957}. Best is trial 198 with value: -1.7458265393949401.\u001b[0m\n",
      "\u001b[32m[I 2020-12-06 00:43:06,903]\u001b[0m Trial 215 finished with value: -0.9042832077219531 and parameters: {'lr': 0.8513650203069262, 'n_iter': 8, 'n_component': 3, 'alpha': -0.8864121227850167}. Best is trial 198 with value: -1.7458265393949401.\u001b[0m\n",
      "\u001b[32m[I 2020-12-06 00:43:13,210]\u001b[0m Trial 216 finished with value: -0.953796866914124 and parameters: {'lr': 0.8576888629354092, 'n_iter': 7, 'n_component': 3, 'alpha': -0.8942579902515236}. Best is trial 198 with value: -1.7458265393949401.\u001b[0m\n",
      "\u001b[32m[I 2020-12-06 00:43:19,531]\u001b[0m Trial 217 finished with value: -0.9965734432350931 and parameters: {'lr': 0.880375047989803, 'n_iter': 7, 'n_component': 3, 'alpha': -0.9014969447728639}. Best is trial 198 with value: -1.7458265393949401.\u001b[0m\n",
      "\u001b[32m[I 2020-12-06 00:43:26,665]\u001b[0m Trial 218 finished with value: -0.9771837868572859 and parameters: {'lr': 0.8988428769385184, 'n_iter': 8, 'n_component': 3, 'alpha': -0.9006639447876773}. Best is trial 198 with value: -1.7458265393949401.\u001b[0m\n",
      "\u001b[32m[I 2020-12-06 00:43:33,800]\u001b[0m Trial 219 finished with value: -0.965480213031562 and parameters: {'lr': 0.8694843705829017, 'n_iter': 8, 'n_component': 3, 'alpha': -0.8981164111120892}. Best is trial 198 with value: -1.7458265393949401.\u001b[0m\n",
      "\u001b[32m[I 2020-12-06 00:43:40,106]\u001b[0m Trial 220 finished with value: -1.0026096752905969 and parameters: {'lr': 0.9191581118946901, 'n_iter': 7, 'n_component': 3, 'alpha': -0.9027206814931981}. Best is trial 198 with value: -1.7458265393949401.\u001b[0m\n",
      "\u001b[32m[I 2020-12-06 00:43:46,419]\u001b[0m Trial 221 finished with value: -1.0742455690344377 and parameters: {'lr': 0.9379886291977892, 'n_iter': 7, 'n_component': 3, 'alpha': -0.9138621104019168}. Best is trial 198 with value: -1.7458265393949401.\u001b[0m\n",
      "\u001b[32m[I 2020-12-06 00:43:52,723]\u001b[0m Trial 222 finished with value: -1.0493481104658477 and parameters: {'lr': 0.9375162592604378, 'n_iter': 7, 'n_component': 3, 'alpha': -0.9101752857840512}. Best is trial 198 with value: -1.7458265393949401.\u001b[0m\n",
      "\u001b[32m[I 2020-12-06 00:43:58,206]\u001b[0m Trial 223 finished with value: -1.0594162607866986 and parameters: {'lr': 0.9224458771980593, 'n_iter': 6, 'n_component': 3, 'alpha': -0.9097056597854019}. Best is trial 198 with value: -1.7458265393949401.\u001b[0m\n",
      "\u001b[32m[I 2020-12-06 00:44:03,697]\u001b[0m Trial 224 finished with value: -1.0767418279044556 and parameters: {'lr': 0.9142830554329959, 'n_iter': 6, 'n_component': 3, 'alpha': -0.912092744548691}. Best is trial 198 with value: -1.7458265393949401.\u001b[0m\n",
      "\u001b[32m[I 2020-12-06 00:44:09,166]\u001b[0m Trial 225 finished with value: -1.6382652687263788 and parameters: {'lr': 1.009832360630544, 'n_iter': 6, 'n_component': 3, 'alpha': -0.9822878695846831}. Best is trial 198 with value: -1.7458265393949401.\u001b[0m\n",
      "\u001b[32m[I 2020-12-06 00:44:14,655]\u001b[0m Trial 226 finished with value: -1.5352564476326493 and parameters: {'lr': 0.9851685549109639, 'n_iter': 6, 'n_component': 3, 'alpha': -0.964718641050303}. Best is trial 198 with value: -1.7458265393949401.\u001b[0m\n",
      "\u001b[32m[I 2020-12-06 00:44:20,162]\u001b[0m Trial 227 finished with value: -1.7826321153567133 and parameters: {'lr': 0.9421030975871189, 'n_iter': 6, 'n_component': 3, 'alpha': -0.986133704159679}. Best is trial 227 with value: -1.7826321153567133.\u001b[0m\n",
      "\u001b[32m[I 2020-12-06 00:44:24,827]\u001b[0m Trial 228 finished with value: -1.951374867811261 and parameters: {'lr': 0.9526077421947305, 'n_iter': 5, 'n_component': 3, 'alpha': -0.9898756429787082}. Best is trial 228 with value: -1.951374867811261.\u001b[0m\n",
      "\u001b[32m[I 2020-12-06 00:44:30,340]\u001b[0m Trial 229 finished with value: -1.735151015463943 and parameters: {'lr': 0.9525130081554805, 'n_iter': 6, 'n_component': 3, 'alpha': -0.9851249763104373}. Best is trial 228 with value: -1.951374867811261.\u001b[0m\n",
      "\u001b[32m[I 2020-12-06 00:44:34,994]\u001b[0m Trial 230 finished with value: -1.7911375755478938 and parameters: {'lr': 0.9751993869914759, 'n_iter': 5, 'n_component': 3, 'alpha': -0.9872114730716033}. Best is trial 228 with value: -1.951374867811261.\u001b[0m\n",
      "\u001b[32m[I 2020-12-06 00:44:40,471]\u001b[0m Trial 231 finished with value: -2.0168135621861984 and parameters: {'lr': 1.0352503486458615, 'n_iter': 6, 'n_component': 3, 'alpha': -0.9893299097507531}. Best is trial 231 with value: -2.0168135621861984.\u001b[0m\n",
      "\u001b[32m[I 2020-12-06 00:44:45,123]\u001b[0m Trial 232 finished with value: -1.666328472692678 and parameters: {'lr': 0.9741158079724737, 'n_iter': 5, 'n_component': 3, 'alpha': -0.9651817021486663}. Best is trial 231 with value: -2.0168135621861984.\u001b[0m\n"
     ]
    },
    {
     "name": "stderr",
     "output_type": "stream",
     "text": [
      "\u001b[32m[I 2020-12-06 00:44:50,594]\u001b[0m Trial 233 finished with value: -1.8113362016705532 and parameters: {'lr': 0.9780908563584088, 'n_iter': 6, 'n_component': 3, 'alpha': -0.9893110324220271}. Best is trial 231 with value: -2.0168135621861984.\u001b[0m\n",
      "\u001b[32m[I 2020-12-06 00:44:56,070]\u001b[0m Trial 234 finished with value: -1.7794219506625615 and parameters: {'lr': 0.9797083872646101, 'n_iter': 6, 'n_component': 3, 'alpha': -0.9852958754532821}. Best is trial 231 with value: -2.0168135621861984.\u001b[0m\n",
      "\u001b[32m[I 2020-12-06 00:45:01,541]\u001b[0m Trial 235 finished with value: -1.727052781771538 and parameters: {'lr': 0.9905902924795389, 'n_iter': 6, 'n_component': 3, 'alpha': -0.9869194622649697}. Best is trial 231 with value: -2.0168135621861984.\u001b[0m\n",
      "\u001b[32m[I 2020-12-06 00:45:06,193]\u001b[0m Trial 236 finished with value: -1.8031619019578395 and parameters: {'lr': 0.9900525037524865, 'n_iter': 5, 'n_component': 3, 'alpha': -0.9864913200195684}. Best is trial 231 with value: -2.0168135621861984.\u001b[0m\n",
      "\u001b[32m[I 2020-12-06 00:45:10,836]\u001b[0m Trial 237 finished with value: -1.7679890430207832 and parameters: {'lr': 1.0200240990125584, 'n_iter': 5, 'n_component': 3, 'alpha': -0.9830131295628018}. Best is trial 231 with value: -2.0168135621861984.\u001b[0m\n",
      "\u001b[32m[I 2020-12-06 00:45:16,333]\u001b[0m Trial 238 finished with value: -1.6074369544895637 and parameters: {'lr': 1.0123377666168645, 'n_iter': 6, 'n_component': 3, 'alpha': -0.978526784860663}. Best is trial 231 with value: -2.0168135621861984.\u001b[0m\n",
      "\u001b[32m[I 2020-12-06 00:45:20,987]\u001b[0m Trial 239 finished with value: -1.9453519885892772 and parameters: {'lr': 1.0048332746750896, 'n_iter': 5, 'n_component': 3, 'alpha': -0.9888505357231796}. Best is trial 231 with value: -2.0168135621861984.\u001b[0m\n",
      "\u001b[32m[I 2020-12-06 00:45:25,646]\u001b[0m Trial 240 finished with value: -1.8117147069386308 and parameters: {'lr': 1.0352024064690204, 'n_iter': 5, 'n_component': 3, 'alpha': -0.984509309330369}. Best is trial 231 with value: -2.0168135621861984.\u001b[0m\n",
      "\u001b[32m[I 2020-12-06 00:45:30,302]\u001b[0m Trial 241 finished with value: -1.9546538869878387 and parameters: {'lr': 1.011438120474525, 'n_iter': 5, 'n_component': 3, 'alpha': -0.9889869344238449}. Best is trial 231 with value: -2.0168135621861984.\u001b[0m\n",
      "\u001b[32m[I 2020-12-06 00:45:35,759]\u001b[0m Trial 242 finished with value: -1.9938265420340142 and parameters: {'lr': 1.1775019776248155, 'n_iter': 6, 'n_component': 3, 'alpha': -0.9880657692722286}. Best is trial 231 with value: -2.0168135621861984.\u001b[0m\n",
      "\u001b[32m[I 2020-12-06 00:45:40,414]\u001b[0m Trial 243 finished with value: -1.9763659239932556 and parameters: {'lr': 1.2094098746425084, 'n_iter': 5, 'n_component': 3, 'alpha': -0.9869335400690211}. Best is trial 231 with value: -2.0168135621861984.\u001b[0m\n",
      "\u001b[32m[I 2020-12-06 00:45:45,057]\u001b[0m Trial 244 finished with value: -1.9724061272451503 and parameters: {'lr': 1.1907361939025194, 'n_iter': 5, 'n_component': 3, 'alpha': -0.9869608823944871}. Best is trial 231 with value: -2.0168135621861984.\u001b[0m\n",
      "\u001b[32m[I 2020-12-06 00:45:49,700]\u001b[0m Trial 245 finished with value: -1.9760912392299392 and parameters: {'lr': 1.2052051118772782, 'n_iter': 5, 'n_component': 3, 'alpha': -0.9887009438245972}. Best is trial 231 with value: -2.0168135621861984.\u001b[0m\n",
      "\u001b[32m[I 2020-12-06 00:45:54,373]\u001b[0m Trial 246 finished with value: -1.7907152060476292 and parameters: {'lr': 1.2113157195461675, 'n_iter': 5, 'n_component': 3, 'alpha': -0.9828880426076873}. Best is trial 231 with value: -2.0168135621861984.\u001b[0m\n",
      "\u001b[32m[I 2020-12-06 00:45:59,008]\u001b[0m Trial 247 finished with value: -1.7737087839815235 and parameters: {'lr': 1.21251713100861, 'n_iter': 5, 'n_component': 3, 'alpha': -0.9837971380091}. Best is trial 231 with value: -2.0168135621861984.\u001b[0m\n",
      "\u001b[32m[I 2020-12-06 00:46:04,509]\u001b[0m Trial 248 finished with value: -1.620604610197687 and parameters: {'lr': 1.0697110515170634, 'n_iter': 6, 'n_component': 3, 'alpha': -0.9811099662356528}. Best is trial 231 with value: -2.0168135621861984.\u001b[0m\n",
      "\u001b[32m[I 2020-12-06 00:46:09,163]\u001b[0m Trial 249 finished with value: -1.7825566428048751 and parameters: {'lr': 1.1791095704635215, 'n_iter': 5, 'n_component': 3, 'alpha': -0.9819171914122188}. Best is trial 231 with value: -2.0168135621861984.\u001b[0m\n",
      "\u001b[32m[I 2020-12-06 00:46:13,790]\u001b[0m Trial 250 finished with value: -1.9457275146306627 and parameters: {'lr': 1.197590767238199, 'n_iter': 5, 'n_component': 3, 'alpha': -0.9861656269576412}. Best is trial 231 with value: -2.0168135621861984.\u001b[0m\n",
      "\u001b[32m[I 2020-12-06 00:46:18,461]\u001b[0m Trial 251 finished with value: -1.7760027781675056 and parameters: {'lr': 1.1890778022935433, 'n_iter': 5, 'n_component': 3, 'alpha': -0.9840989643669613}. Best is trial 231 with value: -2.0168135621861984.\u001b[0m\n",
      "\u001b[32m[I 2020-12-06 00:46:23,103]\u001b[0m Trial 252 finished with value: -1.723980133780437 and parameters: {'lr': 1.1917470143398703, 'n_iter': 5, 'n_component': 3, 'alpha': -0.9791096403319328}. Best is trial 231 with value: -2.0168135621861984.\u001b[0m\n",
      "\u001b[32m[I 2020-12-06 00:46:27,759]\u001b[0m Trial 253 finished with value: -1.975595064572373 and parameters: {'lr': 1.2043838667277345, 'n_iter': 5, 'n_component': 3, 'alpha': -0.9880967225705292}. Best is trial 231 with value: -2.0168135621861984.\u001b[0m\n",
      "\u001b[32m[I 2020-12-06 00:46:32,422]\u001b[0m Trial 254 finished with value: -1.9759564284427489 and parameters: {'lr': 1.2763924128244493, 'n_iter': 5, 'n_component': 3, 'alpha': -0.9870385218764863}. Best is trial 231 with value: -2.0168135621861984.\u001b[0m\n",
      "\u001b[32m[I 2020-12-06 00:46:37,092]\u001b[0m Trial 255 finished with value: -1.973745283386315 and parameters: {'lr': 1.2377006040463034, 'n_iter': 5, 'n_component': 3, 'alpha': -0.9881222610219742}. Best is trial 231 with value: -2.0168135621861984.\u001b[0m\n",
      "\u001b[32m[I 2020-12-06 00:46:41,746]\u001b[0m Trial 256 finished with value: -1.7956912641154703 and parameters: {'lr': 1.1847174979726096, 'n_iter': 5, 'n_component': 3, 'alpha': -0.9830702023363359}. Best is trial 231 with value: -2.0168135621861984.\u001b[0m\n",
      "\u001b[32m[I 2020-12-06 00:46:46,427]\u001b[0m Trial 257 finished with value: -1.80992310415011 and parameters: {'lr': 1.240275965218337, 'n_iter': 5, 'n_component': 3, 'alpha': -0.9895075046057945}. Best is trial 231 with value: -2.0168135621861984.\u001b[0m\n",
      "\u001b[32m[I 2020-12-06 00:46:51,068]\u001b[0m Trial 258 finished with value: -1.5198796524226095 and parameters: {'lr': 1.2107881504704585, 'n_iter': 5, 'n_component': 3, 'alpha': -0.9525582134936}. Best is trial 231 with value: -2.0168135621861984.\u001b[0m\n",
      "\u001b[32m[I 2020-12-06 00:46:55,721]\u001b[0m Trial 259 finished with value: -1.450009331328803 and parameters: {'lr': 1.2835512354536935, 'n_iter': 5, 'n_component': 3, 'alpha': -0.9470386898105305}. Best is trial 231 with value: -2.0168135621861984.\u001b[0m\n",
      "\u001b[32m[I 2020-12-06 00:47:00,396]\u001b[0m Trial 260 finished with value: -1.9798808516803537 and parameters: {'lr': 1.1622040717351316, 'n_iter': 5, 'n_component': 3, 'alpha': -0.9889874742998943}. Best is trial 231 with value: -2.0168135621861984.\u001b[0m\n",
      "\u001b[32m[I 2020-12-06 00:47:05,062]\u001b[0m Trial 261 finished with value: -1.9639410573599343 and parameters: {'lr': 1.1752460090764116, 'n_iter': 5, 'n_component': 3, 'alpha': -0.9868644519098183}. Best is trial 231 with value: -2.0168135621861984.\u001b[0m\n",
      "\u001b[32m[I 2020-12-06 00:47:09,722]\u001b[0m Trial 262 finished with value: -1.4109076485293413 and parameters: {'lr': 1.1443174313297482, 'n_iter': 5, 'n_component': 3, 'alpha': -0.9443534692908138}. Best is trial 231 with value: -2.0168135621861984.\u001b[0m\n",
      "\u001b[32m[I 2020-12-06 00:47:14,382]\u001b[0m Trial 263 finished with value: -1.9640336575305342 and parameters: {'lr': 1.3325792551195816, 'n_iter': 5, 'n_component': 3, 'alpha': -0.9871756145017212}. Best is trial 231 with value: -2.0168135621861984.\u001b[0m\n",
      "\u001b[32m[I 2020-12-06 00:47:19,072]\u001b[0m Trial 264 finished with value: -2.014872435553592 and parameters: {'lr': 1.3442630352729152, 'n_iter': 5, 'n_component': 3, 'alpha': -0.9889427156786298}. Best is trial 231 with value: -2.0168135621861984.\u001b[0m\n",
      "\u001b[32m[I 2020-12-06 00:47:23,725]\u001b[0m Trial 265 finished with value: -1.3684347279161737 and parameters: {'lr': 1.4213320629118567, 'n_iter': 5, 'n_component': 3, 'alpha': -0.9402590402495065}. Best is trial 231 with value: -2.0168135621861984.\u001b[0m\n",
      "\u001b[32m[I 2020-12-06 00:47:28,395]\u001b[0m Trial 266 finished with value: -1.4323774423883942 and parameters: {'lr': 1.3101648535839465, 'n_iter': 5, 'n_component': 3, 'alpha': -0.9456196351352408}. Best is trial 231 with value: -2.0168135621861984.\u001b[0m\n"
     ]
    },
    {
     "name": "stderr",
     "output_type": "stream",
     "text": [
      "\u001b[32m[I 2020-12-06 00:47:33,038]\u001b[0m Trial 267 finished with value: -1.9744643223219613 and parameters: {'lr': 1.1139411876386258, 'n_iter': 5, 'n_component': 3, 'alpha': -0.9885439937114705}. Best is trial 231 with value: -2.0168135621861984.\u001b[0m\n",
      "\u001b[32m[I 2020-12-06 00:47:37,685]\u001b[0m Trial 268 finished with value: -1.3511646098360528 and parameters: {'lr': 1.321461974142899, 'n_iter': 5, 'n_component': 3, 'alpha': -0.9391116429781838}. Best is trial 231 with value: -2.0168135621861984.\u001b[0m\n",
      "\u001b[32m[I 2020-12-06 00:47:42,381]\u001b[0m Trial 269 finished with value: -1.983090248862076 and parameters: {'lr': 1.1326309022817316, 'n_iter': 5, 'n_component': 3, 'alpha': -0.9894595587922216}. Best is trial 231 with value: -2.0168135621861984.\u001b[0m\n",
      "\u001b[32m[I 2020-12-06 00:47:47,054]\u001b[0m Trial 270 finished with value: -1.9800844659168164 and parameters: {'lr': 1.0918379718744953, 'n_iter': 5, 'n_component': 3, 'alpha': -0.9895638204880262}. Best is trial 231 with value: -2.0168135621861984.\u001b[0m\n",
      "\u001b[32m[I 2020-12-06 00:47:51,709]\u001b[0m Trial 271 finished with value: -1.33465309107254 and parameters: {'lr': 1.1007648611146152, 'n_iter': 5, 'n_component': 3, 'alpha': -0.9383222265252908}. Best is trial 231 with value: -2.0168135621861984.\u001b[0m\n",
      "\u001b[32m[I 2020-12-06 00:47:56,371]\u001b[0m Trial 272 finished with value: -1.427299650430615 and parameters: {'lr': 1.35164096420714, 'n_iter': 5, 'n_component': 3, 'alpha': -0.9451372623113888}. Best is trial 231 with value: -2.0168135621861984.\u001b[0m\n",
      "\u001b[32m[I 2020-12-06 00:48:01,068]\u001b[0m Trial 273 finished with value: -1.4387045138593202 and parameters: {'lr': 1.1038701787878125, 'n_iter': 5, 'n_component': 3, 'alpha': -0.9465738870824879}. Best is trial 231 with value: -2.0168135621861984.\u001b[0m\n",
      "\u001b[32m[I 2020-12-06 00:48:05,738]\u001b[0m Trial 274 finished with value: -1.8260263258969274 and parameters: {'lr': 1.1089780229847215, 'n_iter': 5, 'n_component': 3, 'alpha': -0.9863281741677555}. Best is trial 231 with value: -2.0168135621861984.\u001b[0m\n",
      "\u001b[32m[I 2020-12-06 00:48:10,432]\u001b[0m Trial 275 finished with value: -1.8851193929629952 and parameters: {'lr': 1.4449293096708336, 'n_iter': 5, 'n_component': 3, 'alpha': -0.9867714479746553}. Best is trial 231 with value: -2.0168135621861984.\u001b[0m\n",
      "\u001b[32m[I 2020-12-06 00:48:15,142]\u001b[0m Trial 276 finished with value: -1.9792530313303132 and parameters: {'lr': 1.4459221895274728, 'n_iter': 5, 'n_component': 3, 'alpha': -0.9846823690462864}. Best is trial 231 with value: -2.0168135621861984.\u001b[0m\n",
      "\u001b[32m[I 2020-12-06 00:48:19,838]\u001b[0m Trial 277 finished with value: -2.0871823203357347 and parameters: {'lr': 1.4237983526048459, 'n_iter': 5, 'n_component': 3, 'alpha': -0.9899471981910694}. Best is trial 277 with value: -2.0871823203357347.\u001b[0m\n",
      "\u001b[32m[I 2020-12-06 00:48:24,518]\u001b[0m Trial 278 finished with value: -1.3253674154683541 and parameters: {'lr': 1.4847898175898793, 'n_iter': 5, 'n_component': 3, 'alpha': -0.9364855251743843}. Best is trial 277 with value: -2.0871823203357347.\u001b[0m\n",
      "\u001b[32m[I 2020-12-06 00:48:29,194]\u001b[0m Trial 279 finished with value: -1.3870783075843818 and parameters: {'lr': 1.3928525751176124, 'n_iter': 5, 'n_component': 3, 'alpha': -0.9418450865402347}. Best is trial 277 with value: -2.0871823203357347.\u001b[0m\n",
      "\u001b[32m[I 2020-12-06 00:48:33,880]\u001b[0m Trial 280 finished with value: -1.781684803325836 and parameters: {'lr': 1.565894719286025, 'n_iter': 5, 'n_component': 3, 'alpha': -0.9860290841427529}. Best is trial 277 with value: -2.0871823203357347.\u001b[0m\n",
      "\u001b[32m[I 2020-12-06 00:48:38,568]\u001b[0m Trial 281 finished with value: -1.9482517744372099 and parameters: {'lr': 1.1142545045343126, 'n_iter': 5, 'n_component': 3, 'alpha': -0.9873386768153583}. Best is trial 277 with value: -2.0871823203357347.\u001b[0m\n",
      "\u001b[32m[I 2020-12-06 00:48:43,256]\u001b[0m Trial 282 finished with value: -1.2964566416407974 and parameters: {'lr': 1.311227104777847, 'n_iter': 5, 'n_component': 3, 'alpha': -0.9344527161376532}. Best is trial 277 with value: -2.0871823203357347.\u001b[0m\n",
      "\u001b[32m[I 2020-12-06 00:48:47,951]\u001b[0m Trial 283 finished with value: -1.8040004223777717 and parameters: {'lr': 1.0861746808048438, 'n_iter': 5, 'n_component': 3, 'alpha': -0.9864969222645331}. Best is trial 277 with value: -2.0871823203357347.\u001b[0m\n",
      "\u001b[32m[I 2020-12-06 00:48:52,641]\u001b[0m Trial 284 finished with value: -1.9749134881034698 and parameters: {'lr': 1.1226244302339967, 'n_iter': 5, 'n_component': 3, 'alpha': -0.9884240423967124}. Best is trial 277 with value: -2.0871823203357347.\u001b[0m\n",
      "\u001b[32m[I 2020-12-06 00:48:57,332]\u001b[0m Trial 285 finished with value: -1.3299012363670082 and parameters: {'lr': 1.4048999495780867, 'n_iter': 5, 'n_component': 3, 'alpha': -0.9371019008586486}. Best is trial 277 with value: -2.0871823203357347.\u001b[0m\n",
      "\u001b[32m[I 2020-12-06 00:49:02,020]\u001b[0m Trial 286 finished with value: -1.975564150744769 and parameters: {'lr': 1.1174822123061237, 'n_iter': 5, 'n_component': 3, 'alpha': -0.9889041049405407}. Best is trial 277 with value: -2.0871823203357347.\u001b[0m\n",
      "\u001b[32m[I 2020-12-06 00:49:06,718]\u001b[0m Trial 287 finished with value: -1.39186730858165 and parameters: {'lr': 1.2918895374615667, 'n_iter': 5, 'n_component': 3, 'alpha': -0.9424849490765486}. Best is trial 277 with value: -2.0871823203357347.\u001b[0m\n",
      "\u001b[32m[I 2020-12-06 00:49:11,546]\u001b[0m Trial 288 finished with value: -1.4643280692319292 and parameters: {'lr': 1.7106959131803585, 'n_iter': 5, 'n_component': 3, 'alpha': -0.9493057031255935}. Best is trial 277 with value: -2.0871823203357347.\u001b[0m\n",
      "\u001b[32m[I 2020-12-06 00:49:16,661]\u001b[0m Trial 289 finished with value: -1.7692020471994607 and parameters: {'lr': 1.1303080890008494, 'n_iter': 5, 'n_component': 3, 'alpha': -0.9853083529062142}. Best is trial 277 with value: -2.0871823203357347.\u001b[0m\n",
      "\u001b[32m[I 2020-12-06 00:49:21,994]\u001b[0m Trial 290 finished with value: -1.1982001789108918 and parameters: {'lr': 1.524782329046486, 'n_iter': 5, 'n_component': 3, 'alpha': -0.9245598666414494}. Best is trial 277 with value: -2.0871823203357347.\u001b[0m\n",
      "\u001b[32m[I 2020-12-06 00:49:27,009]\u001b[0m Trial 291 finished with value: -1.9621069651483722 and parameters: {'lr': 1.2924339279313612, 'n_iter': 5, 'n_component': 3, 'alpha': -0.9878958499475584}. Best is trial 277 with value: -2.0871823203357347.\u001b[0m\n",
      "\u001b[32m[I 2020-12-06 00:49:32,934]\u001b[0m Trial 292 finished with value: -1.9141995993517877 and parameters: {'lr': 1.2585414745118106, 'n_iter': 6, 'n_component': 3, 'alpha': -0.9890644361220768}. Best is trial 277 with value: -2.0871823203357347.\u001b[0m\n",
      "\u001b[32m[I 2020-12-06 00:49:38,075]\u001b[0m Trial 293 finished with value: -1.5476347848379477 and parameters: {'lr': 1.1206011986812898, 'n_iter': 5, 'n_component': 3, 'alpha': -0.9546363405395714}. Best is trial 277 with value: -2.0871823203357347.\u001b[0m\n",
      "\u001b[32m[I 2020-12-06 00:49:43,076]\u001b[0m Trial 294 finished with value: -1.255917119166257 and parameters: {'lr': 1.3412579452576516, 'n_iter': 5, 'n_component': 3, 'alpha': -0.930669326009415}. Best is trial 277 with value: -2.0871823203357347.\u001b[0m\n",
      "\u001b[32m[I 2020-12-06 00:49:48,387]\u001b[0m Trial 295 finished with value: -1.9762536360091942 and parameters: {'lr': 1.2095358185038336, 'n_iter': 5, 'n_component': 3, 'alpha': -0.9878227806771854}. Best is trial 277 with value: -2.0871823203357347.\u001b[0m\n",
      "\u001b[32m[I 2020-12-06 00:49:53,461]\u001b[0m Trial 296 finished with value: -1.1911903296485664 and parameters: {'lr': 1.2019345681988922, 'n_iter': 5, 'n_component': 3, 'alpha': -0.9244298736276833}. Best is trial 277 with value: -2.0871823203357347.\u001b[0m\n",
      "\u001b[32m[I 2020-12-06 00:49:58,411]\u001b[0m Trial 297 finished with value: -2.0345919240899746 and parameters: {'lr': 1.277070590219292, 'n_iter': 5, 'n_component': 3, 'alpha': -0.9896395909683219}. Best is trial 277 with value: -2.0871823203357347.\u001b[0m\n",
      "\u001b[32m[I 2020-12-06 00:50:03,461]\u001b[0m Trial 298 finished with value: -0.6627558067189652 and parameters: {'lr': 1.3443428791380325, 'n_iter': 5, 'n_component': 3, 'alpha': -0.824295053597016}. Best is trial 277 with value: -2.0871823203357347.\u001b[0m\n",
      "\u001b[32m[I 2020-12-06 00:50:08,550]\u001b[0m Trial 299 finished with value: -1.505828070149973 and parameters: {'lr': 1.5676059098095365, 'n_iter': 5, 'n_component': 3, 'alpha': -0.9546526677685359}. Best is trial 277 with value: -2.0871823203357347.\u001b[0m\n",
      "\u001b[32m[I 2020-12-06 00:50:13,640]\u001b[0m Trial 300 finished with value: -1.984057335205014 and parameters: {'lr': 1.0995690070751303, 'n_iter': 5, 'n_component': 3, 'alpha': -0.9899833564139522}. Best is trial 277 with value: -2.0871823203357347.\u001b[0m\n"
     ]
    },
    {
     "name": "stderr",
     "output_type": "stream",
     "text": [
      "\u001b[32m[I 2020-12-06 00:50:18,642]\u001b[0m Trial 301 finished with value: -1.1268902804832366 and parameters: {'lr': 1.3292165524913817, 'n_iter': 5, 'n_component': 3, 'alpha': -0.9170634526171644}. Best is trial 277 with value: -2.0871823203357347.\u001b[0m\n",
      "\u001b[32m[I 2020-12-06 00:50:23,606]\u001b[0m Trial 302 finished with value: -1.7851164092066707 and parameters: {'lr': 1.4613574001033853, 'n_iter': 5, 'n_component': 3, 'alpha': -0.9872454053745707}. Best is trial 277 with value: -2.0871823203357347.\u001b[0m\n",
      "\u001b[32m[I 2020-12-06 00:50:28,550]\u001b[0m Trial 303 finished with value: -2.1143672098204007 and parameters: {'lr': 1.7266415435961135, 'n_iter': 5, 'n_component': 3, 'alpha': -0.9889864419320465}. Best is trial 303 with value: -2.1143672098204007.\u001b[0m\n",
      "\u001b[32m[I 2020-12-06 00:50:33,533]\u001b[0m Trial 304 finished with value: -1.4939856089790362 and parameters: {'lr': 1.7559797801244512, 'n_iter': 5, 'n_component': 3, 'alpha': -0.95459748883741}. Best is trial 303 with value: -2.1143672098204007.\u001b[0m\n",
      "\u001b[32m[I 2020-12-06 00:50:38,529]\u001b[0m Trial 305 finished with value: -2.0797256572330927 and parameters: {'lr': 1.6040466320213915, 'n_iter': 5, 'n_component': 3, 'alpha': -0.9892746998066752}. Best is trial 303 with value: -2.1143672098204007.\u001b[0m\n"
     ]
    },
    {
     "ename": "KeyboardInterrupt",
     "evalue": "",
     "output_type": "error",
     "traceback": [
      "\u001b[0;31m---------------------------------------------------------------------------\u001b[0m",
      "\u001b[0;31mKeyboardInterrupt\u001b[0m                         Traceback (most recent call last)",
      "\u001b[0;32m<ipython-input-23-6e694b4f7789>\u001b[0m in \u001b[0;36m<module>\u001b[0;34m\u001b[0m\n\u001b[1;32m      1\u001b[0m \u001b[0msampler\u001b[0m \u001b[0;34m=\u001b[0m \u001b[0moptuna\u001b[0m\u001b[0;34m.\u001b[0m\u001b[0msamplers\u001b[0m\u001b[0;34m.\u001b[0m\u001b[0mTPESampler\u001b[0m\u001b[0;34m(\u001b[0m\u001b[0mn_startup_trials\u001b[0m\u001b[0;34m=\u001b[0m\u001b[0;36m200\u001b[0m\u001b[0;34m)\u001b[0m\u001b[0;34m\u001b[0m\u001b[0;34m\u001b[0m\u001b[0m\n\u001b[1;32m      2\u001b[0m \u001b[0mstudy\u001b[0m \u001b[0;34m=\u001b[0m \u001b[0moptuna\u001b[0m\u001b[0;34m.\u001b[0m\u001b[0mcreate_study\u001b[0m\u001b[0;34m(\u001b[0m\u001b[0msampler\u001b[0m\u001b[0;34m=\u001b[0m\u001b[0msampler\u001b[0m\u001b[0;34m)\u001b[0m\u001b[0;34m\u001b[0m\u001b[0;34m\u001b[0m\u001b[0m\n\u001b[0;32m----> 3\u001b[0;31m \u001b[0mstudy\u001b[0m\u001b[0;34m.\u001b[0m\u001b[0moptimize\u001b[0m\u001b[0;34m(\u001b[0m\u001b[0mobjective\u001b[0m\u001b[0;34m,\u001b[0m \u001b[0mn_trials\u001b[0m\u001b[0;34m=\u001b[0m\u001b[0;36m500\u001b[0m\u001b[0;34m)\u001b[0m\u001b[0;34m\u001b[0m\u001b[0;34m\u001b[0m\u001b[0m\n\u001b[0m",
      "\u001b[0;32m~/Desktop/optuna/optuna/study.py\u001b[0m in \u001b[0;36moptimize\u001b[0;34m(self, func, n_trials, timeout, n_jobs, catch, callbacks, gc_after_trial, show_progress_bar)\u001b[0m\n\u001b[1;32m    307\u001b[0m                 \u001b[0mIf\u001b[0m \u001b[0mnested\u001b[0m \u001b[0minvocation\u001b[0m \u001b[0mof\u001b[0m \u001b[0mthis\u001b[0m \u001b[0mmethod\u001b[0m \u001b[0moccurs\u001b[0m\u001b[0;34m.\u001b[0m\u001b[0;34m\u001b[0m\u001b[0;34m\u001b[0m\u001b[0m\n\u001b[1;32m    308\u001b[0m         \"\"\"\n\u001b[0;32m--> 309\u001b[0;31m         _optimize(\n\u001b[0m\u001b[1;32m    310\u001b[0m             \u001b[0mstudy\u001b[0m\u001b[0;34m=\u001b[0m\u001b[0mself\u001b[0m\u001b[0;34m,\u001b[0m\u001b[0;34m\u001b[0m\u001b[0;34m\u001b[0m\u001b[0m\n\u001b[1;32m    311\u001b[0m             \u001b[0mfunc\u001b[0m\u001b[0;34m=\u001b[0m\u001b[0mfunc\u001b[0m\u001b[0;34m,\u001b[0m\u001b[0;34m\u001b[0m\u001b[0;34m\u001b[0m\u001b[0m\n",
      "\u001b[0;32m~/Desktop/optuna/optuna/_optimize.py\u001b[0m in \u001b[0;36m_optimize\u001b[0;34m(study, func, n_trials, timeout, n_jobs, catch, callbacks, gc_after_trial, show_progress_bar)\u001b[0m\n\u001b[1;32m     53\u001b[0m     \u001b[0;32mtry\u001b[0m\u001b[0;34m:\u001b[0m\u001b[0;34m\u001b[0m\u001b[0;34m\u001b[0m\u001b[0m\n\u001b[1;32m     54\u001b[0m         \u001b[0;32mif\u001b[0m \u001b[0mn_jobs\u001b[0m \u001b[0;34m==\u001b[0m \u001b[0;36m1\u001b[0m\u001b[0;34m:\u001b[0m\u001b[0;34m\u001b[0m\u001b[0;34m\u001b[0m\u001b[0m\n\u001b[0;32m---> 55\u001b[0;31m             _optimize_sequential(\n\u001b[0m\u001b[1;32m     56\u001b[0m                 \u001b[0mstudy\u001b[0m\u001b[0;34m,\u001b[0m\u001b[0;34m\u001b[0m\u001b[0;34m\u001b[0m\u001b[0m\n\u001b[1;32m     57\u001b[0m                 \u001b[0mfunc\u001b[0m\u001b[0;34m,\u001b[0m\u001b[0;34m\u001b[0m\u001b[0;34m\u001b[0m\u001b[0m\n",
      "\u001b[0;32m~/Desktop/optuna/optuna/_optimize.py\u001b[0m in \u001b[0;36m_optimize_sequential\u001b[0;34m(study, func, n_trials, timeout, catch, callbacks, gc_after_trial, reseed_sampler_rng, time_start, progress_bar)\u001b[0m\n\u001b[1;32m    154\u001b[0m \u001b[0;34m\u001b[0m\u001b[0m\n\u001b[1;32m    155\u001b[0m         \u001b[0;32mtry\u001b[0m\u001b[0;34m:\u001b[0m\u001b[0;34m\u001b[0m\u001b[0;34m\u001b[0m\u001b[0m\n\u001b[0;32m--> 156\u001b[0;31m             \u001b[0mtrial\u001b[0m \u001b[0;34m=\u001b[0m \u001b[0m_run_trial\u001b[0m\u001b[0;34m(\u001b[0m\u001b[0mstudy\u001b[0m\u001b[0;34m,\u001b[0m \u001b[0mfunc\u001b[0m\u001b[0;34m,\u001b[0m \u001b[0mcatch\u001b[0m\u001b[0;34m)\u001b[0m\u001b[0;34m\u001b[0m\u001b[0;34m\u001b[0m\u001b[0m\n\u001b[0m\u001b[1;32m    157\u001b[0m         \u001b[0;32mexcept\u001b[0m \u001b[0mException\u001b[0m\u001b[0;34m:\u001b[0m\u001b[0;34m\u001b[0m\u001b[0;34m\u001b[0m\u001b[0m\n\u001b[1;32m    158\u001b[0m             \u001b[0;32mraise\u001b[0m\u001b[0;34m\u001b[0m\u001b[0;34m\u001b[0m\u001b[0m\n",
      "\u001b[0;32m~/Desktop/optuna/optuna/_optimize.py\u001b[0m in \u001b[0;36m_run_trial\u001b[0;34m(study, func, catch)\u001b[0m\n\u001b[1;32m    187\u001b[0m \u001b[0;34m\u001b[0m\u001b[0m\n\u001b[1;32m    188\u001b[0m     \u001b[0;32mtry\u001b[0m\u001b[0;34m:\u001b[0m\u001b[0;34m\u001b[0m\u001b[0;34m\u001b[0m\u001b[0m\n\u001b[0;32m--> 189\u001b[0;31m         \u001b[0mvalue\u001b[0m \u001b[0;34m=\u001b[0m \u001b[0mfunc\u001b[0m\u001b[0;34m(\u001b[0m\u001b[0mtrial\u001b[0m\u001b[0;34m)\u001b[0m\u001b[0;34m\u001b[0m\u001b[0;34m\u001b[0m\u001b[0m\n\u001b[0m\u001b[1;32m    190\u001b[0m     \u001b[0;32mexcept\u001b[0m \u001b[0mexceptions\u001b[0m\u001b[0;34m.\u001b[0m\u001b[0mTrialPruned\u001b[0m \u001b[0;32mas\u001b[0m \u001b[0me\u001b[0m\u001b[0;34m:\u001b[0m\u001b[0;34m\u001b[0m\u001b[0;34m\u001b[0m\u001b[0m\n\u001b[1;32m    191\u001b[0m         \u001b[0;31m# Register the last intermediate value if present as the value of the trial.\u001b[0m\u001b[0;34m\u001b[0m\u001b[0;34m\u001b[0m\u001b[0;34m\u001b[0m\u001b[0m\n",
      "\u001b[0;32m<ipython-input-22-49f2f3c57fd6>\u001b[0m in \u001b[0;36mobjective\u001b[0;34m(trial)\u001b[0m\n\u001b[1;32m     16\u001b[0m     \u001b[0mNB\u001b[0m \u001b[0;34m=\u001b[0m \u001b[0mint\u001b[0m\u001b[0;34m(\u001b[0m\u001b[0mnp\u001b[0m\u001b[0;34m.\u001b[0m\u001b[0mceil\u001b[0m\u001b[0;34m(\u001b[0m\u001b[0mX\u001b[0m\u001b[0;34m.\u001b[0m\u001b[0mshape\u001b[0m\u001b[0;34m[\u001b[0m\u001b[0;36m0\u001b[0m\u001b[0;34m]\u001b[0m \u001b[0;34m/\u001b[0m \u001b[0mBS\u001b[0m\u001b[0;34m)\u001b[0m\u001b[0;34m)\u001b[0m  \u001b[0;31m# the number of batches\u001b[0m\u001b[0;34m\u001b[0m\u001b[0;34m\u001b[0m\u001b[0m\n\u001b[1;32m     17\u001b[0m     \u001b[0;32mfor\u001b[0m \u001b[0mi\u001b[0m \u001b[0;32min\u001b[0m \u001b[0mrange\u001b[0m\u001b[0;34m(\u001b[0m\u001b[0mNB\u001b[0m\u001b[0;34m)\u001b[0m\u001b[0;34m:\u001b[0m\u001b[0;34m\u001b[0m\u001b[0;34m\u001b[0m\u001b[0m\n\u001b[0;32m---> 18\u001b[0;31m         \u001b[0mX_debiased\u001b[0m\u001b[0;34m[\u001b[0m\u001b[0mBS\u001b[0m\u001b[0;34m*\u001b[0m\u001b[0mi\u001b[0m\u001b[0;34m:\u001b[0m \u001b[0mBS\u001b[0m\u001b[0;34m*\u001b[0m\u001b[0;34m(\u001b[0m\u001b[0mi\u001b[0m\u001b[0;34m+\u001b[0m\u001b[0;36m1\u001b[0m\u001b[0;34m)\u001b[0m\u001b[0;34m]\u001b[0m \u001b[0;34m=\u001b[0m \u001b[0mdebiaser\u001b[0m\u001b[0;34m.\u001b[0m\u001b[0mdebias\u001b[0m\u001b[0;34m(\u001b[0m\u001b[0mX\u001b[0m\u001b[0;34m[\u001b[0m\u001b[0mBS\u001b[0m\u001b[0;34m*\u001b[0m\u001b[0mi\u001b[0m\u001b[0;34m:\u001b[0m \u001b[0mBS\u001b[0m\u001b[0;34m*\u001b[0m\u001b[0;34m(\u001b[0m\u001b[0mi\u001b[0m\u001b[0;34m+\u001b[0m\u001b[0;36m1\u001b[0m\u001b[0;34m)\u001b[0m\u001b[0;34m]\u001b[0m\u001b[0;34m,\u001b[0m \u001b[0mlr\u001b[0m\u001b[0;34m=\u001b[0m\u001b[0mlr\u001b[0m\u001b[0;34m,\u001b[0m \u001b[0mn_iter\u001b[0m\u001b[0;34m=\u001b[0m\u001b[0mn_iter\u001b[0m\u001b[0;34m,\u001b[0m \u001b[0malpha\u001b[0m\u001b[0;34m=\u001b[0m\u001b[0malpha\u001b[0m\u001b[0;34m)\u001b[0m\u001b[0;34m\u001b[0m\u001b[0;34m\u001b[0m\u001b[0m\n\u001b[0m\u001b[1;32m     19\u001b[0m \u001b[0;34m\u001b[0m\u001b[0m\n\u001b[1;32m     20\u001b[0m     \u001b[0moriginal_bias\u001b[0m \u001b[0;34m=\u001b[0m \u001b[0mnp\u001b[0m\u001b[0;34m.\u001b[0m\u001b[0mlinalg\u001b[0m\u001b[0;34m.\u001b[0m\u001b[0mnorm\u001b[0m\u001b[0;34m(\u001b[0m\u001b[0mdebiaser\u001b[0m\u001b[0;34m.\u001b[0m\u001b[0mtransform\u001b[0m\u001b[0;34m(\u001b[0m\u001b[0mX\u001b[0m\u001b[0;34m)\u001b[0m\u001b[0;34m)\u001b[0m\u001b[0;34m\u001b[0m\u001b[0;34m\u001b[0m\u001b[0m\n",
      "\u001b[0;32m~/Downloads/NLP/project/repo/src/debiasing/torch_kpca.py\u001b[0m in \u001b[0;36mdebias\u001b[0;34m(self, X, n_iter, lr, alpha)\u001b[0m\n\u001b[1;32m    232\u001b[0m         \u001b[0;32mfor\u001b[0m \u001b[0mi\u001b[0m \u001b[0;32min\u001b[0m \u001b[0mrange\u001b[0m\u001b[0;34m(\u001b[0m\u001b[0mn_iter\u001b[0m\u001b[0;34m)\u001b[0m\u001b[0;34m:\u001b[0m\u001b[0;34m\u001b[0m\u001b[0;34m\u001b[0m\u001b[0m\n\u001b[1;32m    233\u001b[0m             \u001b[0moptimizer\u001b[0m\u001b[0;34m.\u001b[0m\u001b[0mzero_grad\u001b[0m\u001b[0;34m(\u001b[0m\u001b[0;34m)\u001b[0m\u001b[0;34m\u001b[0m\u001b[0;34m\u001b[0m\u001b[0m\n\u001b[0;32m--> 234\u001b[0;31m             \u001b[0mlosses\u001b[0m \u001b[0;34m=\u001b[0m \u001b[0mself\u001b[0m\u001b[0;34m.\u001b[0m\u001b[0morth_losses\u001b[0m\u001b[0;34m(\u001b[0m\u001b[0mX\u001b[0m\u001b[0;34m,\u001b[0m \u001b[0mX_orth\u001b[0m\u001b[0;34m,\u001b[0m \u001b[0malpha\u001b[0m\u001b[0;34m)\u001b[0m\u001b[0;34m\u001b[0m\u001b[0;34m\u001b[0m\u001b[0m\n\u001b[0m\u001b[1;32m    235\u001b[0m             \u001b[0mloss\u001b[0m \u001b[0;34m=\u001b[0m \u001b[0mtorch\u001b[0m\u001b[0;34m.\u001b[0m\u001b[0msum\u001b[0m\u001b[0;34m(\u001b[0m\u001b[0mlosses\u001b[0m\u001b[0;34m)\u001b[0m\u001b[0;34m\u001b[0m\u001b[0;34m\u001b[0m\u001b[0m\n\u001b[1;32m    236\u001b[0m             \u001b[0mloss\u001b[0m\u001b[0;34m.\u001b[0m\u001b[0mbackward\u001b[0m\u001b[0;34m(\u001b[0m\u001b[0;34m)\u001b[0m\u001b[0;34m\u001b[0m\u001b[0;34m\u001b[0m\u001b[0m\n",
      "\u001b[0;32m~/Downloads/NLP/project/repo/src/debiasing/torch_kpca.py\u001b[0m in \u001b[0;36morth_losses\u001b[0;34m(self, X, X_orth, alpha)\u001b[0m\n\u001b[1;32m    200\u001b[0m         \u001b[0mKoP\u001b[0m \u001b[0;34m=\u001b[0m \u001b[0mtorch\u001b[0m\u001b[0;34m.\u001b[0m\u001b[0msparse\u001b[0m\u001b[0;34m.\u001b[0m\u001b[0mmm\u001b[0m\u001b[0;34m(\u001b[0m\u001b[0mself\u001b[0m\u001b[0;34m.\u001b[0m\u001b[0mDX_fit_\u001b[0m\u001b[0;34m,\u001b[0m \u001b[0mself\u001b[0m\u001b[0;34m.\u001b[0m\u001b[0mkernel\u001b[0m\u001b[0;34m(\u001b[0m\u001b[0mX_fit_\u001b[0m\u001b[0;34m,\u001b[0m \u001b[0mX_orth\u001b[0m\u001b[0;34m)\u001b[0m\u001b[0;34m)\u001b[0m\u001b[0;34m.\u001b[0m\u001b[0mtranspose\u001b[0m\u001b[0;34m(\u001b[0m\u001b[0;36m0\u001b[0m\u001b[0;34m,\u001b[0m\u001b[0;36m1\u001b[0m\u001b[0;34m)\u001b[0m\u001b[0;34m\u001b[0m\u001b[0;34m\u001b[0m\u001b[0m\n\u001b[1;32m    201\u001b[0m         \u001b[0mA\u001b[0m \u001b[0;34m=\u001b[0m \u001b[0mKoP\u001b[0m\u001b[0;34m.\u001b[0m\u001b[0mmm\u001b[0m\u001b[0;34m(\u001b[0m\u001b[0malphas\u001b[0m\u001b[0;34m)\u001b[0m\u001b[0;31m#; del KoP\u001b[0m\u001b[0;34m\u001b[0m\u001b[0;34m\u001b[0m\u001b[0m\n\u001b[0;32m--> 202\u001b[0;31m         \u001b[0mKPx\u001b[0m \u001b[0;34m=\u001b[0m \u001b[0mtorch\u001b[0m\u001b[0;34m.\u001b[0m\u001b[0msparse\u001b[0m\u001b[0;34m.\u001b[0m\u001b[0mmm\u001b[0m\u001b[0;34m(\u001b[0m\u001b[0mself\u001b[0m\u001b[0;34m.\u001b[0m\u001b[0mDX_fit_\u001b[0m\u001b[0;34m,\u001b[0m \u001b[0mself\u001b[0m\u001b[0;34m.\u001b[0m\u001b[0mkernel\u001b[0m\u001b[0;34m(\u001b[0m\u001b[0mX_fit_\u001b[0m\u001b[0;34m,\u001b[0m \u001b[0mX\u001b[0m\u001b[0;34m)\u001b[0m\u001b[0;34m)\u001b[0m\u001b[0;34m\u001b[0m\u001b[0;34m\u001b[0m\u001b[0m\n\u001b[0m\u001b[1;32m    203\u001b[0m         \u001b[0mB\u001b[0m \u001b[0;34m=\u001b[0m \u001b[0mself\u001b[0m\u001b[0;34m.\u001b[0m\u001b[0malphas_\u001b[0m\u001b[0;34m.\u001b[0m\u001b[0mtranspose\u001b[0m\u001b[0;34m(\u001b[0m\u001b[0;36m0\u001b[0m\u001b[0;34m,\u001b[0m\u001b[0;36m1\u001b[0m\u001b[0;34m)\u001b[0m\u001b[0;34m.\u001b[0m\u001b[0mmm\u001b[0m\u001b[0;34m(\u001b[0m\u001b[0mKPx\u001b[0m\u001b[0;34m)\u001b[0m\u001b[0;31m#; del KPx\u001b[0m\u001b[0;34m\u001b[0m\u001b[0;34m\u001b[0m\u001b[0m\n\u001b[1;32m    204\u001b[0m \u001b[0;34m\u001b[0m\u001b[0m\n",
      "\u001b[0;32m~/.local/lib/python3.8/site-packages/torch/sparse/__init__.py\u001b[0m in \u001b[0;36mmm\u001b[0;34m(mat1, mat2)\u001b[0m\n\u001b[1;32m     82\u001b[0m                size=(2, 3), nnz=6, layout=torch.sparse_coo)\n\u001b[1;32m     83\u001b[0m     \"\"\"\n\u001b[0;32m---> 84\u001b[0;31m     \u001b[0;32mreturn\u001b[0m \u001b[0mtorch\u001b[0m\u001b[0;34m.\u001b[0m\u001b[0m_sparse_mm\u001b[0m\u001b[0;34m(\u001b[0m\u001b[0mmat1\u001b[0m\u001b[0;34m,\u001b[0m \u001b[0mmat2\u001b[0m\u001b[0;34m)\u001b[0m\u001b[0;34m\u001b[0m\u001b[0;34m\u001b[0m\u001b[0m\n\u001b[0m\u001b[1;32m     85\u001b[0m \u001b[0;34m\u001b[0m\u001b[0m\n\u001b[1;32m     86\u001b[0m \u001b[0;34m\u001b[0m\u001b[0m\n",
      "\u001b[0;31mKeyboardInterrupt\u001b[0m: "
     ]
    }
   ],
   "source": [
    "sampler = optuna.samplers.TPESampler(n_startup_trials=200)\n",
    "study = optuna.create_study(sampler=sampler)\n",
    "study.optimize(objective, n_trials=500)"
   ]
  },
  {
   "cell_type": "code",
   "execution_count": 24,
   "metadata": {},
   "outputs": [
    {
     "data": {
      "text/plain": [
       "{'lr': 1.7266415435961135,\n",
       " 'n_iter': 5,\n",
       " 'n_component': 3,\n",
       " 'alpha': -0.9889864419320465}"
      ]
     },
     "execution_count": 24,
     "metadata": {},
     "output_type": "execute_result"
    }
   ],
   "source": [
    "study.best_params"
   ]
  },
  {
   "cell_type": "code",
   "execution_count": null,
   "metadata": {},
   "outputs": [],
   "source": []
  }
 ],
 "metadata": {
  "kernelspec": {
   "display_name": "Python 3",
   "language": "python",
   "name": "python3"
  },
  "language_info": {
   "codemirror_mode": {
    "name": "ipython",
    "version": 3
   },
   "file_extension": ".py",
   "mimetype": "text/x-python",
   "name": "python",
   "nbconvert_exporter": "python",
   "pygments_lexer": "ipython3",
   "version": "3.8.5"
  }
 },
 "nbformat": 4,
 "nbformat_minor": 4
}
