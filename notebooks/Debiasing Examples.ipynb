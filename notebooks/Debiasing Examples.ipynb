{
 "cells": [
  {
   "cell_type": "code",
   "execution_count": 1,
   "metadata": {
    "scrolled": true
   },
   "outputs": [],
   "source": [
    "from matplotlib import pyplot as plt\n",
    "import numpy as np\n",
    "import pandas as pd\n",
    "import torch\n",
    "from sklearn.decomposition import PCA, KernelPCA\n",
    "import optuna\n",
    "\n",
    "import sys\n",
    "sys.path.append(\"../\") # go to parent dir\n",
    "\n",
    "from src.debiasing import DebiasingPCA\n",
    "from src.debiasing import DebiasingKPCA\n",
    "from src.debiasing import NumpyDebiasingKernelPCA\n",
    "from src.debiasing.utils import get_design_matrix"
   ]
  },
  {
   "cell_type": "code",
   "execution_count": 2,
   "metadata": {},
   "outputs": [],
   "source": [
    "data = pd.read_csv(\"../data/CoLA/mixed_dev_embeddings.tsv\", sep=\"\\t\")\n",
    "data = data.sort_values(by='defining set id')\n",
    "X = data.iloc[:, 3:771].to_numpy()\n",
    "X_index = data['defining set id'].to_numpy()"
   ]
  },
  {
   "cell_type": "code",
   "execution_count": 3,
   "metadata": {},
   "outputs": [
    {
     "name": "stdout",
     "output_type": "stream",
     "text": [
      "the shape of X: (640, 768)\n"
     ]
    },
    {
     "data": {
      "text/plain": [
       "array([[-0.851718  , -0.4793546 , -0.77166116, ..., -0.5383287 ,\n",
       "        -0.76654   ,  0.9239464 ],\n",
       "       [-0.84405816, -0.49862942, -0.7877743 , ..., -0.57809174,\n",
       "        -0.728355  ,  0.9136135 ],\n",
       "       [-0.87432224, -0.59713227, -0.9513105 , ..., -0.40138096,\n",
       "        -0.7750305 ,  0.8731641 ],\n",
       "       ...,\n",
       "       [-0.886508  , -0.51329815, -0.94088244, ..., -0.75856566,\n",
       "        -0.7137282 ,  0.9045762 ],\n",
       "       [-0.70865357, -0.30252996, -0.819484  , ..., -0.36328802,\n",
       "        -0.6049608 ,  0.7728163 ],\n",
       "       [-0.7912138 , -0.4454564 , -0.92030555, ..., -0.6560643 ,\n",
       "        -0.64869297,  0.8218555 ]])"
      ]
     },
     "execution_count": 3,
     "metadata": {},
     "output_type": "execute_result"
    }
   ],
   "source": [
    "print(\"the shape of X:\", X.shape)\n",
    "X"
   ]
  },
  {
   "cell_type": "code",
   "execution_count": 4,
   "metadata": {},
   "outputs": [
    {
     "name": "stdout",
     "output_type": "stream",
     "text": [
      "the shape of X_ index: (640,)\n"
     ]
    },
    {
     "data": {
      "text/plain": [
       "array([  0,   0,   1,   1,   2,   2,   3,   3,   4,   4,   5,   5,   6,\n",
       "         6,   7,   7,   8,   8,   9,   9,  10,  10,  11,  11,  12,  12,\n",
       "        13,  13,  14,  14,  15,  15,  16,  16,  17,  17,  18,  18,  19,\n",
       "        19,  20,  20,  21,  21,  22,  22,  23,  23,  24,  24,  25,  25,\n",
       "        26,  26,  27,  27,  28,  28,  29,  29,  30,  30,  31,  31,  32,\n",
       "        32,  33,  33,  34,  34,  35,  35,  36,  36,  37,  37,  38,  38,\n",
       "        39,  39,  40,  40,  41,  41,  42,  42,  43,  43,  44,  44,  45,\n",
       "        45,  46,  46,  47,  47,  48,  48,  49,  49,  50,  50,  51,  51,\n",
       "        52,  52,  53,  53,  54,  54,  55,  55,  56,  56,  57,  57,  58,\n",
       "        58,  59,  59,  60,  60,  61,  61,  62,  62,  63,  63,  64,  64,\n",
       "        65,  65,  66,  66,  67,  67,  68,  68,  69,  69,  70,  70,  71,\n",
       "        71,  72,  72,  73,  73,  74,  74,  75,  75,  76,  76,  77,  77,\n",
       "        78,  78,  79,  79,  80,  80,  81,  81,  82,  82,  83,  83,  84,\n",
       "        84,  85,  85,  86,  86,  87,  87,  88,  88,  89,  89,  90,  90,\n",
       "        91,  91,  92,  92,  93,  93,  94,  94,  95,  95,  96,  96,  97,\n",
       "        97,  98,  98,  99,  99, 100, 100, 101, 101, 102, 102, 103, 103,\n",
       "       104, 104, 105, 105, 106, 106, 107, 107, 108, 108, 109, 109, 110,\n",
       "       110, 111, 111, 112, 112, 113, 113, 114, 114, 115, 115, 116, 116,\n",
       "       117, 117, 118, 118, 119, 119, 120, 120, 121, 121, 122, 122, 123,\n",
       "       123, 124, 124, 125, 125, 126, 126, 127, 127, 128, 128, 129, 129,\n",
       "       130, 130, 131, 131, 132, 132, 133, 133, 134, 134, 135, 135, 136,\n",
       "       136, 137, 137, 138, 138, 139, 139, 140, 140, 141, 141, 142, 142,\n",
       "       143, 143, 144, 144, 145, 145, 146, 146, 147, 147, 148, 148, 149,\n",
       "       149, 150, 150, 151, 151, 152, 152, 153, 153, 154, 154, 155, 155,\n",
       "       156, 156, 157, 157, 158, 158, 159, 159, 160, 160, 161, 161, 162,\n",
       "       162, 163, 163, 164, 164, 165, 165, 166, 166, 167, 167, 168, 168,\n",
       "       169, 169, 170, 170, 171, 171, 172, 172, 173, 173, 174, 174, 175,\n",
       "       175, 176, 176, 177, 177, 178, 178, 179, 179, 180, 180, 181, 181,\n",
       "       182, 182, 183, 183, 184, 184, 185, 185, 186, 186, 187, 187, 188,\n",
       "       188, 189, 189, 190, 190, 191, 191, 192, 192, 193, 193, 194, 194,\n",
       "       195, 195, 196, 196, 197, 197, 198, 198, 199, 199, 200, 200, 201,\n",
       "       201, 202, 202, 203, 203, 204, 204, 205, 205, 206, 206, 207, 207,\n",
       "       208, 208, 209, 209, 210, 210, 211, 211, 212, 212, 213, 213, 214,\n",
       "       214, 215, 215, 216, 216, 217, 217, 218, 218, 219, 219, 220, 220,\n",
       "       221, 221, 222, 222, 223, 223, 224, 224, 225, 225, 226, 226, 227,\n",
       "       227, 228, 228, 229, 229, 230, 230, 231, 231, 232, 232, 233, 233,\n",
       "       234, 234, 235, 235, 236, 236, 237, 237, 238, 238, 239, 239, 240,\n",
       "       240, 241, 241, 242, 242, 243, 243, 244, 244, 245, 245, 246, 246,\n",
       "       247, 247, 248, 248, 249, 249, 250, 250, 251, 251, 252, 252, 253,\n",
       "       253, 254, 254, 255, 255, 256, 256, 257, 257, 258, 258, 259, 259,\n",
       "       260, 260, 261, 261, 262, 262, 263, 263, 264, 264, 265, 265, 266,\n",
       "       266, 267, 267, 268, 268, 269, 269, 270, 270, 271, 271, 272, 272,\n",
       "       273, 273, 274, 274, 275, 275, 276, 276, 277, 277, 278, 278, 279,\n",
       "       279, 280, 280, 281, 281, 282, 282, 283, 283, 284, 284, 285, 285,\n",
       "       286, 286, 287, 287, 288, 288, 289, 289, 290, 290, 291, 291, 292,\n",
       "       292, 293, 293, 294, 294, 295, 295, 296, 296, 297, 297, 298, 298,\n",
       "       299, 299, 300, 300, 301, 301, 302, 302, 303, 303, 304, 304, 305,\n",
       "       305, 306, 306, 307, 307, 308, 308, 309, 309, 310, 310, 311, 311,\n",
       "       312, 312, 313, 313, 314, 314, 315, 315, 316, 316, 317, 317, 318,\n",
       "       318, 319, 319])"
      ]
     },
     "execution_count": 4,
     "metadata": {},
     "output_type": "execute_result"
    }
   ],
   "source": [
    "print(\"the shape of X_ index:\", X_index.shape)\n",
    "X_index"
   ]
  },
  {
   "cell_type": "code",
   "execution_count": 5,
   "metadata": {
    "scrolled": true
   },
   "outputs": [
    {
     "data": {
      "text/plain": [
       "Text(0.5, 0, 'the number of components')"
      ]
     },
     "execution_count": 5,
     "metadata": {},
     "output_type": "execute_result"
    },
    {
     "data": {
      "image/png": "[encoded data removed]",
      "text/plain": [
       "<Figure size 432x288 with 1 Axes>"
      ]
     },
     "metadata": {
      "needs_background": "light"
     },
     "output_type": "display_data"
    }
   ],
   "source": [
    "# data visualization\n",
    "eigvals = PCA().fit(X).explained_variance_\n",
    "explained_var = np.cumsum(eigvals) / np.sum(eigvals)\n",
    "plt.plot(explained_var)\n",
    "plt.ylabel('explained variance')\n",
    "plt.xlabel('the number of components')"
   ]
  },
  {
   "cell_type": "markdown",
   "metadata": {},
   "source": [
    "# PCA debiasing"
   ]
  },
  {
   "cell_type": "code",
   "execution_count": 6,
   "metadata": {},
   "outputs": [],
   "source": [
    "debiaser = DebiasingPCA(n_components=3)\n",
    "debiaser.fit(X, X_index)\n",
    "X_debiased = debiaser.debias(X)"
   ]
  },
  {
   "cell_type": "code",
   "execution_count": 7,
   "metadata": {
    "scrolled": false
   },
   "outputs": [
    {
     "data": {
      "text/plain": [
       "(327.86928357142136, 426.1726765040533, 272.25885309570987)"
      ]
     },
     "execution_count": 7,
     "metadata": {},
     "output_type": "execute_result"
    }
   ],
   "source": [
    "np.linalg.norm(X_debiased), np.linalg.norm(X), np.linalg.norm(X_debiased - X)"
   ]
  },
  {
   "cell_type": "markdown",
   "metadata": {},
   "source": [
    "# Kernel PCA debiasing (by optimization-based pre-imaging)"
   ]
  },
  {
   "cell_type": "code",
   "execution_count": 8,
   "metadata": {
    "scrolled": true
   },
   "outputs": [
    {
     "name": "stderr",
     "output_type": "stream",
     "text": [
      "../src/debiasing/torch_kpca.py:228: UserWarning: To copy construct from a tensor, it is recommended to use sourceTensor.clone().detach() or sourceTensor.clone().detach().requires_grad_(True), rather than torch.tensor(sourceTensor).\n",
      "  X_orth = torch.tensor(X, dtype=DTYPE, device=DEVICE, requires_grad=True)\n"
     ]
    }
   ],
   "source": [
    "debiaser = DebiasingKPCA(n_components=2)\n",
    "debiaser.fit(X, X_index)\n",
    "\n",
    "# to prevent out of memory error, we aplit the data into smaller chanks\n",
    "X_debiased = np.empty(X.shape)\n",
    "BS = 320  # maximal possible batch size for GPU with 8gb memory in my local env.\n",
    "NB = int(np.ceil(X.shape[0] / BS))  # the number of batches\n",
    "for i in range(NB):\n",
    "    X_debiased[BS*i: BS*(i+1)] = debiaser.debias(X[BS*i: BS*(i+1)])"
   ]
  },
  {
   "cell_type": "code",
   "execution_count": 9,
   "metadata": {
    "scrolled": false
   },
   "outputs": [
    {
     "data": {
      "text/plain": [
       "(426.2033171870621, 426.1726765040533, 0.7045645114080819)"
      ]
     },
     "execution_count": 9,
     "metadata": {},
     "output_type": "execute_result"
    }
   ],
   "source": [
    "np.linalg.norm(X_debiased), np.linalg.norm(X), np.linalg.norm(X_debiased - X)"
   ]
  },
  {
   "cell_type": "code",
   "execution_count": 10,
   "metadata": {
    "scrolled": true
   },
   "outputs": [
    {
     "data": {
      "text/plain": [
       "(4.78990228864702, 4.864261281165231)"
      ]
     },
     "execution_count": 10,
     "metadata": {},
     "output_type": "execute_result"
    }
   ],
   "source": [
    "np.linalg.norm(debiaser.transform(X_debiased)), np.linalg.norm(debiaser.transform(X))"
   ]
  },
  {
   "cell_type": "code",
   "execution_count": 11,
   "metadata": {
    "scrolled": true
   },
   "outputs": [],
   "source": [
    "debiaser = DebiasingKPCA(n_components=2)\n",
    "debiaser.fit(X, X_index)\n",
    "\n",
    "# to prevent out of memory error, we aplit the data into smaller chanks\n",
    "X_debiased = np.empty(X.shape)\n",
    "BS = 320  # maximal possible batch size for GPU with 8gb memory in my local env.\n",
    "NB = int(np.ceil(X.shape[0] / BS))  # the number of batches\n",
    "for i in range(NB):\n",
    "    X_debiased[BS*i: BS*(i+1)] = debiaser.debias(X[BS*i: BS*(i+1)], lr=0.01, n_iter=200)"
   ]
  },
  {
   "cell_type": "code",
   "execution_count": 12,
   "metadata": {
    "scrolled": false
   },
   "outputs": [
    {
     "data": {
      "text/plain": [
       "(426.203623193937, 426.1726765040533, 0.7063377873814368)"
      ]
     },
     "execution_count": 12,
     "metadata": {},
     "output_type": "execute_result"
    }
   ],
   "source": [
    "np.linalg.norm(X_debiased), np.linalg.norm(X), np.linalg.norm(X_debiased - X)"
   ]
  },
  {
   "cell_type": "code",
   "execution_count": 13,
   "metadata": {
    "scrolled": true
   },
   "outputs": [
    {
     "data": {
      "text/plain": [
       "(4.789747143486052, 4.864261281165231)"
      ]
     },
     "execution_count": 13,
     "metadata": {},
     "output_type": "execute_result"
    }
   ],
   "source": [
    "np.linalg.norm(debiaser.transform(X_debiased)), np.linalg.norm(debiaser.transform(X))"
   ]
  },
  {
   "cell_type": "code",
   "execution_count": 14,
   "metadata": {
    "scrolled": true
   },
   "outputs": [],
   "source": [
    "debiaser = DebiasingKPCA(n_components=2)\n",
    "debiaser.fit(X, X_index)\n",
    "\n",
    "# to prevent out of memory error, we aplit the data into smaller chanks\n",
    "X_debiased = np.empty(X.shape)\n",
    "BS = 320  # maximal possible batch size for GPU with 8gb memory in my local env.\n",
    "NB = int(np.ceil(X.shape[0] / BS))  # the number of batches\n",
    "for i in range(NB):\n",
    "    X_debiased[BS*i: BS*(i+1)] = debiaser.debias(X[BS*i: BS*(i+1)], lr=0.01, n_iter=2000)"
   ]
  },
  {
   "cell_type": "code",
   "execution_count": 15,
   "metadata": {
    "scrolled": false
   },
   "outputs": [
    {
     "data": {
      "text/plain": [
       "(426.203623193937, 426.1726765040533, 0.7063377873814387)"
      ]
     },
     "execution_count": 15,
     "metadata": {},
     "output_type": "execute_result"
    }
   ],
   "source": [
    "np.linalg.norm(X_debiased), np.linalg.norm(X), np.linalg.norm(X_debiased - X)"
   ]
  },
  {
   "cell_type": "code",
   "execution_count": 16,
   "metadata": {
    "scrolled": true
   },
   "outputs": [
    {
     "data": {
      "text/plain": [
       "(4.789747143486052, 4.864261281165231)"
      ]
     },
     "execution_count": 16,
     "metadata": {},
     "output_type": "execute_result"
    }
   ],
   "source": [
    "np.linalg.norm(debiaser.transform(X_debiased)), np.linalg.norm(debiaser.transform(X))"
   ]
  },
  {
   "cell_type": "code",
   "execution_count": 17,
   "metadata": {
    "scrolled": true
   },
   "outputs": [],
   "source": [
    "debiaser = DebiasingKPCA(n_components=2)\n",
    "debiaser.fit(X, X_index)\n",
    "\n",
    "# to prevent out of memory error, we aplit the data into smaller chanks\n",
    "X_debiased = np.empty(X.shape)\n",
    "BS = 320  # maximal possible batch size for GPU with 8gb memory in my local env.\n",
    "NB = int(np.ceil(X.shape[0] / BS))  # the number of batches\n",
    "for i in range(NB):\n",
    "    X_debiased[BS*i: BS*(i+1)] = debiaser.debias(X[BS*i: BS*(i+1)], lr=0.03, n_iter=20)"
   ]
  },
  {
   "cell_type": "code",
   "execution_count": 18,
   "metadata": {
    "scrolled": false
   },
   "outputs": [
    {
     "data": {
      "text/plain": [
       "(433.61342545418694, 426.1726765040533, 73.71756586438636)"
      ]
     },
     "execution_count": 18,
     "metadata": {},
     "output_type": "execute_result"
    }
   ],
   "source": [
    "np.linalg.norm(X_debiased), np.linalg.norm(X), np.linalg.norm(X_debiased - X)"
   ]
  },
  {
   "cell_type": "code",
   "execution_count": 19,
   "metadata": {
    "scrolled": true
   },
   "outputs": [
    {
     "data": {
      "text/plain": [
       "(7.412483777160178, 4.864261281165231)"
      ]
     },
     "execution_count": 19,
     "metadata": {},
     "output_type": "execute_result"
    }
   ],
   "source": [
    "np.linalg.norm(debiaser.transform(X_debiased)), np.linalg.norm(debiaser.transform(X))"
   ]
  },
  {
   "cell_type": "code",
   "execution_count": 20,
   "metadata": {
    "scrolled": true
   },
   "outputs": [],
   "source": [
    "debiaser = DebiasingKPCA(n_components=2)\n",
    "debiaser.fit(X, X_index)\n",
    "\n",
    "# to prevent out of memory error, we aplit the data into smaller chanks\n",
    "X_debiased = np.empty(X.shape)\n",
    "BS = 320  # maximal possible batch size for GPU with 8gb memory in my local env.\n",
    "NB = int(np.ceil(X.shape[0] / BS))  # the number of batches\n",
    "for i in range(NB):\n",
    "    X_debiased[BS*i: BS*(i+1)] = debiaser.debias(X[BS*i: BS*(i+1)], lr=0.03, n_iter=200)"
   ]
  },
  {
   "cell_type": "code",
   "execution_count": 21,
   "metadata": {
    "scrolled": false
   },
   "outputs": [
    {
     "data": {
      "text/plain": [
       "(432.8672355802434, 426.1726765040533, 72.23167985644851)"
      ]
     },
     "execution_count": 21,
     "metadata": {},
     "output_type": "execute_result"
    }
   ],
   "source": [
    "np.linalg.norm(X_debiased), np.linalg.norm(X), np.linalg.norm(X_debiased - X)"
   ]
  },
  {
   "cell_type": "code",
   "execution_count": 22,
   "metadata": {
    "scrolled": true
   },
   "outputs": [
    {
     "data": {
      "text/plain": [
       "(7.002843690184662, 4.864261281165231)"
      ]
     },
     "execution_count": 22,
     "metadata": {},
     "output_type": "execute_result"
    }
   ],
   "source": [
    "np.linalg.norm(debiaser.transform(X_debiased)), np.linalg.norm(debiaser.transform(X))"
   ]
  },
  {
   "cell_type": "markdown",
   "metadata": {},
   "source": [
    "# Appendices"
   ]
  },
  {
   "cell_type": "markdown",
   "metadata": {},
   "source": [
    "## Kernel PCA debiasing (by kernel ridge pre-imaging)"
   ]
  },
  {
   "cell_type": "code",
   "execution_count": 17,
   "metadata": {
    "scrolled": false
   },
   "outputs": [
    {
     "data": {
      "text/plain": [
       "426.1726765040533"
      ]
     },
     "execution_count": 17,
     "metadata": {},
     "output_type": "execute_result"
    }
   ],
   "source": [
    "np.linalg.norm(X)"
   ]
  },
  {
   "cell_type": "markdown",
   "metadata": {},
   "source": [
    "### Unsuccessful case (Learn pre-image of bias subspace by min || Phi(w) - Proj (Phi(w))||)"
   ]
  },
  {
   "cell_type": "code",
   "execution_count": 18,
   "metadata": {},
   "outputs": [],
   "source": [
    "debiaser = NumpyDebiasingKernelPCA(n_components=3, kernel=\"rbf\")\n",
    "debiaser.fit(X, X_index)\n",
    "X_debiased = debiaser.debias(X)"
   ]
  },
  {
   "cell_type": "code",
   "execution_count": 19,
   "metadata": {
    "scrolled": false
   },
   "outputs": [
    {
     "data": {
      "text/plain": [
       "63.74915566837997"
      ]
     },
     "execution_count": 19,
     "metadata": {},
     "output_type": "execute_result"
    }
   ],
   "source": [
    "np.linalg.norm(X_debiased)"
   ]
  },
  {
   "cell_type": "markdown",
   "metadata": {},
   "source": [
    "### OK case (Learn pre-image of bias subspace by min || Phi(w - m) - Proj (Phi(w - m))||)"
   ]
  },
  {
   "cell_type": "code",
   "execution_count": 20,
   "metadata": {},
   "outputs": [],
   "source": [
    "DX = get_design_matrix(X_index)\n",
    "X_diff = DX @ X\n",
    "kpca = KernelPCA(n_components=3, kernel=\"rbf\", gamma=0.14, fit_inverse_transform=True)\n",
    "kpca.fit(X_diff)\n",
    "X_bias = kpca.inverse_transform(kpca.transform(X))\n",
    "X_debiased = X - X_bias"
   ]
  },
  {
   "cell_type": "code",
   "execution_count": 21,
   "metadata": {
    "scrolled": true
   },
   "outputs": [
    {
     "data": {
      "text/plain": [
       "425.8716657453607"
      ]
     },
     "execution_count": 21,
     "metadata": {},
     "output_type": "execute_result"
    }
   ],
   "source": [
    "np.linalg.norm(X_debiased)"
   ]
  },
  {
   "cell_type": "markdown",
   "metadata": {},
   "source": [
    "# Parameter Selection of the RBF kernel"
   ]
  },
  {
   "cell_type": "code",
   "execution_count": null,
   "metadata": {},
   "outputs": [],
   "source": [
    "# gamma = 0.14 seems to work well\n",
    "\n",
    "def objective(trial):\n",
    "    # n = trial.suggest_int(\"n_components\", 1, 30)\n",
    "    gamma = trial.suggest_loguniform('gamma', 1e-6, 1e+3)\n",
    "    kpca = KernelPCA(n_components=3, kernel=\"rbf\", gamma=gamma, fit_inverse_transform=True)\n",
    "    kpca.fit(X_diff[:400])\n",
    "    X_reproj = kpca.inverse_transform(kpca.transform(X_diff[400:]))\n",
    "    return np.linalg.norm(X_diff[400:] - X_reproj)\n",
    "\n",
    "study = optuna.create_study()\n",
    "study.optimize(objective, n_trials=100)\n",
    "print(study.best_params)"
   ]
  },
  {
   "cell_type": "markdown",
   "metadata": {},
   "source": [
    "# Parameter Selection of DebiasingKPCA.debias()"
   ]
  },
  {
   "cell_type": "code",
   "execution_count": null,
   "metadata": {},
   "outputs": [],
   "source": [
    "import optuna\n",
    "\n",
    "def objective(trial):\n",
    "    \n",
    "    lr = trial.suggest_loguniform('lr', 5e-3, 1.)\n",
    "    n_iter = trial.suggest_int('n_iter', 3, 50, log=True)\n",
    "    n_components = trial.suggest_int('n_component', 1, 20)\n",
    "    \n",
    "    debiaser = DebiasingKPCA(n_components)\n",
    "    debiaser.fit(X, X_index)\n",
    "\n",
    "    # to prevent out of memory error, we aplit the data into smaller chanks\n",
    "    X_debiased = np.empty(X.shape)\n",
    "    BS = 320  # maximal possible batch size for GPU with 8gb memory in my local env.\n",
    "    NB = int(np.ceil(X.shape[0] / BS))  # the number of batches\n",
    "    for i in range(NB):\n",
    "        X_debiased[BS*i: BS*(i+1)] = debiaser.debias(X[BS*i: BS*(i+1)], lr=lr, n_iter=n_iter)\n",
    "    \n",
    "    original_bias = np.linalg.norm(debiaser.transform(X))\n",
    "    reduced_bias = np.linalg.norm(debiaser.transform(X_debiased))\n",
    "    \n",
    "    diff_norm = np.linalg.norm(X_debiased - X)\n",
    "    orig_norm = np.linalg.norm(X)\n",
    "    \n",
    "    obj_val = np.log(original_bias) - np.log(reduced_bias)\n",
    "    return - obj_val"
   ]
  },
  {
   "cell_type": "code",
   "execution_count": null,
   "metadata": {},
   "outputs": [],
   "source": [
    "sampler = optuna.samplers.TPESampler(multivariate=True)\n",
    "study = optuna.create_study(sampler=sampler)\n",
    "study.optimize(objective, n_trials=40)"
   ]
  },
  {
   "cell_type": "code",
   "execution_count": null,
   "metadata": {},
   "outputs": [],
   "source": [
    "study.best_params"
   ]
  },
  {
   "cell_type": "code",
   "execution_count": null,
   "metadata": {
    "scrolled": true
   },
   "outputs": [],
   "source": [
    "debiaser = DebiasingKPCA(n_components=9)\n",
    "debiaser.fit(X, X_index)\n",
    "\n",
    "# to prevent out of memory error, we aplit the data into smaller chanks\n",
    "X_debiased = np.empty(X.shape)\n",
    "BS = 320  # maximal possible batch size for GPU with 8gb memory in my local env.\n",
    "NB = int(np.ceil(X.shape[0] / BS))  # the number of batches\n",
    "for i in range(NB):\n",
    "    X_debiased[BS*i: BS*(i+1)] = debiaser.debias(X[BS*i: BS*(i+1)], lr=0.3, n_iter=33)"
   ]
  },
  {
   "cell_type": "code",
   "execution_count": null,
   "metadata": {
    "scrolled": false
   },
   "outputs": [],
   "source": [
    "np.linalg.norm(X_debiased), np.linalg.norm(X), np.linalg.norm(X_debiased - X)"
   ]
  },
  {
   "cell_type": "code",
   "execution_count": null,
   "metadata": {
    "scrolled": true
   },
   "outputs": [],
   "source": [
    "np.linalg.norm(debiaser.transform(X_debiased)), np.linalg.norm(debiaser.transform(X))"
   ]
  },
  {
   "cell_type": "code",
   "execution_count": 22,
   "metadata": {
    "scrolled": true
   },
   "outputs": [
    {
     "name": "stderr",
     "output_type": "stream",
     "text": [
      "../src/debiasing/torch_kpca.py:228: UserWarning: To copy construct from a tensor, it is recommended to use sourceTensor.clone().detach() or sourceTensor.clone().detach().requires_grad_(True), rather than torch.tensor(sourceTensor).\n",
      "  X_orth = torch.tensor(X, dtype=DTYPE, device=DEVICE, requires_grad=True)\n"
     ]
    }
   ],
   "source": [
    "debiaser = DebiasingKPCA(n_components=1)\n",
    "debiaser.fit(X, X_index)\n",
    "\n",
    "# to prevent out of memory error, we aplit the data into smaller chanks\n",
    "X_debiased = np.empty(X.shape)\n",
    "BS = 320  # maximal possible batch size for GPU with 8gb memory in my local env.\n",
    "NB = int(np.ceil(X.shape[0] / BS))  # the number of batches\n",
    "for i in range(NB):\n",
    "    X_debiased[BS*i: BS*(i+1)] = debiaser.debias(X[BS*i: BS*(i+1)], lr=0.3, n_iter=30)"
   ]
  },
  {
   "cell_type": "code",
   "execution_count": 23,
   "metadata": {
    "scrolled": false
   },
   "outputs": [
    {
     "data": {
      "text/plain": [
       "(854.4333185435321, 426.1726765040533, 775.7350428499904)"
      ]
     },
     "execution_count": 23,
     "metadata": {},
     "output_type": "execute_result"
    }
   ],
   "source": [
    "np.linalg.norm(X_debiased), np.linalg.norm(X), np.linalg.norm(X_debiased - X)"
   ]
  },
  {
   "cell_type": "code",
   "execution_count": 24,
   "metadata": {
    "scrolled": true
   },
   "outputs": [
    {
     "data": {
      "text/plain": [
       "(0.6177560537380387, 2.5792365570250717)"
      ]
     },
     "execution_count": 24,
     "metadata": {},
     "output_type": "execute_result"
    }
   ],
   "source": [
    "np.linalg.norm(debiaser.transform(X_debiased)), np.linalg.norm(debiaser.transform(X))"
   ]
  },
  {
   "cell_type": "code",
   "execution_count": null,
   "metadata": {},
   "outputs": [],
   "source": []
  }
 ],
 "metadata": {
  "kernelspec": {
   "display_name": "Python 3",
   "language": "python",
   "name": "python3"
  },
  "language_info": {
   "codemirror_mode": {
    "name": "ipython",
    "version": 3
   },
   "file_extension": ".py",
   "mimetype": "text/x-python",
   "name": "python",
   "nbconvert_exporter": "python",
   "pygments_lexer": "ipython3",
   "version": "3.8.5"
  }
 },
 "nbformat": 4,
 "nbformat_minor": 4
}
