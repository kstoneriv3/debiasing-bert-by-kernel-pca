{
 "cells": [
  {
   "cell_type": "code",
   "execution_count": 1,
   "metadata": {},
   "outputs": [],
   "source": [
    "from matplotlib import pyplot as plt\n",
    "import numpy as np\n",
    "import pandas as pd\n",
    "import torch\n",
    "from sklearn.decomposition import PCA, KernelPCA\n",
    "import optuna\n",
    "\n",
    "import sys\n",
    "sys.path.append(\"../\") # go to parent dir\n",
    "\n",
    "from src.debiasing import DebiasingPCA\n",
    "from src.debiasing import DebiasingKernelPCA\n",
    "from src.debiasing.utils import get_design_matrix"
   ]
  },
  {
   "cell_type": "code",
   "execution_count": 2,
   "metadata": {},
   "outputs": [],
   "source": [
    "data = pd.read_csv(\"../data/CoLA/mixed_dev_embeddings.tsv\", sep=\"\\t\")\n",
    "data = data.sort_values(by='defining set id')\n",
    "X = data.iloc[:, 3:771].to_numpy()\n",
    "X_index = data['defining set id'].to_numpy()"
   ]
  },
  {
   "cell_type": "code",
   "execution_count": 3,
   "metadata": {},
   "outputs": [
    {
     "name": "stdout",
     "output_type": "stream",
     "text": [
      "the shape of X: (640, 768)\n"
     ]
    },
    {
     "data": {
      "text/plain": [
       "array([[-0.851718  , -0.4793546 , -0.77166116, ..., -0.5383287 ,\n",
       "        -0.76654   ,  0.9239464 ],\n",
       "       [-0.84405816, -0.49862942, -0.7877743 , ..., -0.57809174,\n",
       "        -0.728355  ,  0.9136135 ],\n",
       "       [-0.87432224, -0.59713227, -0.9513105 , ..., -0.40138096,\n",
       "        -0.7750305 ,  0.8731641 ],\n",
       "       ...,\n",
       "       [-0.886508  , -0.51329815, -0.94088244, ..., -0.75856566,\n",
       "        -0.7137282 ,  0.9045762 ],\n",
       "       [-0.70865357, -0.30252996, -0.819484  , ..., -0.36328802,\n",
       "        -0.6049608 ,  0.7728163 ],\n",
       "       [-0.7912138 , -0.4454564 , -0.92030555, ..., -0.6560643 ,\n",
       "        -0.64869297,  0.8218555 ]])"
      ]
     },
     "execution_count": 3,
     "metadata": {},
     "output_type": "execute_result"
    }
   ],
   "source": [
    "print(\"the shape of X:\", X.shape)\n",
    "X"
   ]
  },
  {
   "cell_type": "code",
   "execution_count": 4,
   "metadata": {},
   "outputs": [
    {
     "name": "stdout",
     "output_type": "stream",
     "text": [
      "the shape of X_ index: (640,)\n"
     ]
    },
    {
     "data": {
      "text/plain": [
       "array([  0,   0,   1,   1,   2,   2,   3,   3,   4,   4,   5,   5,   6,\n",
       "         6,   7,   7,   8,   8,   9,   9,  10,  10,  11,  11,  12,  12,\n",
       "        13,  13,  14,  14,  15,  15,  16,  16,  17,  17,  18,  18,  19,\n",
       "        19,  20,  20,  21,  21,  22,  22,  23,  23,  24,  24,  25,  25,\n",
       "        26,  26,  27,  27,  28,  28,  29,  29,  30,  30,  31,  31,  32,\n",
       "        32,  33,  33,  34,  34,  35,  35,  36,  36,  37,  37,  38,  38,\n",
       "        39,  39,  40,  40,  41,  41,  42,  42,  43,  43,  44,  44,  45,\n",
       "        45,  46,  46,  47,  47,  48,  48,  49,  49,  50,  50,  51,  51,\n",
       "        52,  52,  53,  53,  54,  54,  55,  55,  56,  56,  57,  57,  58,\n",
       "        58,  59,  59,  60,  60,  61,  61,  62,  62,  63,  63,  64,  64,\n",
       "        65,  65,  66,  66,  67,  67,  68,  68,  69,  69,  70,  70,  71,\n",
       "        71,  72,  72,  73,  73,  74,  74,  75,  75,  76,  76,  77,  77,\n",
       "        78,  78,  79,  79,  80,  80,  81,  81,  82,  82,  83,  83,  84,\n",
       "        84,  85,  85,  86,  86,  87,  87,  88,  88,  89,  89,  90,  90,\n",
       "        91,  91,  92,  92,  93,  93,  94,  94,  95,  95,  96,  96,  97,\n",
       "        97,  98,  98,  99,  99, 100, 100, 101, 101, 102, 102, 103, 103,\n",
       "       104, 104, 105, 105, 106, 106, 107, 107, 108, 108, 109, 109, 110,\n",
       "       110, 111, 111, 112, 112, 113, 113, 114, 114, 115, 115, 116, 116,\n",
       "       117, 117, 118, 118, 119, 119, 120, 120, 121, 121, 122, 122, 123,\n",
       "       123, 124, 124, 125, 125, 126, 126, 127, 127, 128, 128, 129, 129,\n",
       "       130, 130, 131, 131, 132, 132, 133, 133, 134, 134, 135, 135, 136,\n",
       "       136, 137, 137, 138, 138, 139, 139, 140, 140, 141, 141, 142, 142,\n",
       "       143, 143, 144, 144, 145, 145, 146, 146, 147, 147, 148, 148, 149,\n",
       "       149, 150, 150, 151, 151, 152, 152, 153, 153, 154, 154, 155, 155,\n",
       "       156, 156, 157, 157, 158, 158, 159, 159, 160, 160, 161, 161, 162,\n",
       "       162, 163, 163, 164, 164, 165, 165, 166, 166, 167, 167, 168, 168,\n",
       "       169, 169, 170, 170, 171, 171, 172, 172, 173, 173, 174, 174, 175,\n",
       "       175, 176, 176, 177, 177, 178, 178, 179, 179, 180, 180, 181, 181,\n",
       "       182, 182, 183, 183, 184, 184, 185, 185, 186, 186, 187, 187, 188,\n",
       "       188, 189, 189, 190, 190, 191, 191, 192, 192, 193, 193, 194, 194,\n",
       "       195, 195, 196, 196, 197, 197, 198, 198, 199, 199, 200, 200, 201,\n",
       "       201, 202, 202, 203, 203, 204, 204, 205, 205, 206, 206, 207, 207,\n",
       "       208, 208, 209, 209, 210, 210, 211, 211, 212, 212, 213, 213, 214,\n",
       "       214, 215, 215, 216, 216, 217, 217, 218, 218, 219, 219, 220, 220,\n",
       "       221, 221, 222, 222, 223, 223, 224, 224, 225, 225, 226, 226, 227,\n",
       "       227, 228, 228, 229, 229, 230, 230, 231, 231, 232, 232, 233, 233,\n",
       "       234, 234, 235, 235, 236, 236, 237, 237, 238, 238, 239, 239, 240,\n",
       "       240, 241, 241, 242, 242, 243, 243, 244, 244, 245, 245, 246, 246,\n",
       "       247, 247, 248, 248, 249, 249, 250, 250, 251, 251, 252, 252, 253,\n",
       "       253, 254, 254, 255, 255, 256, 256, 257, 257, 258, 258, 259, 259,\n",
       "       260, 260, 261, 261, 262, 262, 263, 263, 264, 264, 265, 265, 266,\n",
       "       266, 267, 267, 268, 268, 269, 269, 270, 270, 271, 271, 272, 272,\n",
       "       273, 273, 274, 274, 275, 275, 276, 276, 277, 277, 278, 278, 279,\n",
       "       279, 280, 280, 281, 281, 282, 282, 283, 283, 284, 284, 285, 285,\n",
       "       286, 286, 287, 287, 288, 288, 289, 289, 290, 290, 291, 291, 292,\n",
       "       292, 293, 293, 294, 294, 295, 295, 296, 296, 297, 297, 298, 298,\n",
       "       299, 299, 300, 300, 301, 301, 302, 302, 303, 303, 304, 304, 305,\n",
       "       305, 306, 306, 307, 307, 308, 308, 309, 309, 310, 310, 311, 311,\n",
       "       312, 312, 313, 313, 314, 314, 315, 315, 316, 316, 317, 317, 318,\n",
       "       318, 319, 319])"
      ]
     },
     "execution_count": 4,
     "metadata": {},
     "output_type": "execute_result"
    }
   ],
   "source": [
    "print(\"the shape of X_ index:\", X_index.shape)\n",
    "X_index"
   ]
  },
  {
   "cell_type": "code",
   "execution_count": 5,
   "metadata": {
    "scrolled": true
   },
   "outputs": [
    {
     "data": {
      "text/plain": [
       "Text(0.5, 0, 'the number of components')"
      ]
     },
     "execution_count": 5,
     "metadata": {},
     "output_type": "execute_result"
    },
    {
     "data": {
      "image/png": "[encoded data removed]",
      "text/plain": [
       "<Figure size 432x288 with 1 Axes>"
      ]
     },
     "metadata": {
      "needs_background": "light"
     },
     "output_type": "display_data"
    }
   ],
   "source": [
    "# data visualization\n",
    "eigvals = PCA().fit(X).explained_variance_\n",
    "explained_var = np.cumsum(eigvals) / np.sum(eigvals)\n",
    "plt.plot(explained_var)\n",
    "plt.ylabel('explained variance')\n",
    "plt.xlabel('the number of components')"
   ]
  },
  {
   "cell_type": "markdown",
   "metadata": {},
   "source": [
    "# PCA debiasing"
   ]
  },
  {
   "cell_type": "code",
   "execution_count": 6,
   "metadata": {},
   "outputs": [],
   "source": [
    "debiaser = DebiasingPCA(n_components=3)\n",
    "debiaser.fit(X, X_index)\n",
    "X_debiased = debiaser.debias(X)"
   ]
  },
  {
   "cell_type": "code",
   "execution_count": 7,
   "metadata": {
    "scrolled": true
   },
   "outputs": [
    {
     "data": {
      "text/plain": [
       "327.8692835758318"
      ]
     },
     "execution_count": 7,
     "metadata": {},
     "output_type": "execute_result"
    }
   ],
   "source": [
    "np.linalg.norm(X_debiased)"
   ]
  },
  {
   "cell_type": "markdown",
   "metadata": {},
   "source": [
    "# Kernel PCA debiasing (by kernel ridge pre-imaging)"
   ]
  },
  {
   "cell_type": "code",
   "execution_count": 8,
   "metadata": {
    "scrolled": false
   },
   "outputs": [
    {
     "data": {
      "text/plain": [
       "426.1726765040533"
      ]
     },
     "execution_count": 8,
     "metadata": {},
     "output_type": "execute_result"
    }
   ],
   "source": [
    "np.linalg.norm(X)"
   ]
  },
  {
   "cell_type": "markdown",
   "metadata": {},
   "source": [
    "### Unsuccessful case (Learn pre-image of bias subspace by min || Phi(w) - Proj (Phi(w))||)"
   ]
  },
  {
   "cell_type": "code",
   "execution_count": 9,
   "metadata": {},
   "outputs": [],
   "source": [
    "debiaser = DebiasingKernelPCA(n_components=3, kernel=\"rbf\")\n",
    "debiaser.fit(X, X_index)\n",
    "X_debiased = debiaser.debias(X)"
   ]
  },
  {
   "cell_type": "code",
   "execution_count": 10,
   "metadata": {
    "scrolled": false
   },
   "outputs": [
    {
     "data": {
      "text/plain": [
       "63.74915566837997"
      ]
     },
     "execution_count": 10,
     "metadata": {},
     "output_type": "execute_result"
    }
   ],
   "source": [
    "np.linalg.norm(X_debiased)"
   ]
  },
  {
   "cell_type": "markdown",
   "metadata": {},
   "source": [
    "### Unsuccessful case (Learn pre-image of bias subspace by min || Phi(w - m) - Proj (Phi(w - m))||)"
   ]
  },
  {
   "cell_type": "code",
   "execution_count": 11,
   "metadata": {},
   "outputs": [],
   "source": [
    "DX = get_design_matrix(X_index)\n",
    "X_diff = DX @ X\n",
    "kpca = KernelPCA(n_components=3, kernel=\"rbf\", gamma=0.14, fit_inverse_transform=True)\n",
    "kpca.fit(X_diff)\n",
    "X_bias = kpca.inverse_transform(kpca.transform(X))\n",
    "X_debiased = X - X_bias"
   ]
  },
  {
   "cell_type": "code",
   "execution_count": 12,
   "metadata": {
    "scrolled": true
   },
   "outputs": [
    {
     "data": {
      "text/plain": [
       "425.8716657453607"
      ]
     },
     "execution_count": 12,
     "metadata": {},
     "output_type": "execute_result"
    }
   ],
   "source": [
    "np.linalg.norm(X_debiased)"
   ]
  },
  {
   "cell_type": "code",
   "execution_count": 13,
   "metadata": {},
   "outputs": [
    {
     "name": "stderr",
     "output_type": "stream",
     "text": [
      "\u001b[32m[I 2020-11-26 16:44:06,378]\u001b[0m A new study created in memory with name: no-name-559ea537-b899-454b-9ef8-d98a2f9c8ec2\u001b[0m\n",
      "\u001b[32m[I 2020-11-26 16:44:06,511]\u001b[0m Trial 0 finished with value: 18.21774293838169 and parameters: {'gamma': 0.0019845533602015878}. Best is trial 0 with value: 18.21774293838169.\u001b[0m\n",
      "\u001b[32m[I 2020-11-26 16:44:06,647]\u001b[0m Trial 1 finished with value: 18.242141461103557 and parameters: {'gamma': 4.534603623190515e-06}. Best is trial 0 with value: 18.21774293838169.\u001b[0m\n",
      "\u001b[32m[I 2020-11-26 16:44:06,805]\u001b[0m Trial 2 finished with value: 18.20136362490829 and parameters: {'gamma': 63.595695684480205}. Best is trial 2 with value: 18.20136362490829.\u001b[0m\n",
      "\u001b[32m[I 2020-11-26 16:44:06,935]\u001b[0m Trial 3 finished with value: 18.2233949553907 and parameters: {'gamma': 0.0017382376685706735}. Best is trial 2 with value: 18.20136362490829.\u001b[0m\n",
      "\u001b[32m[I 2020-11-26 16:44:07,078]\u001b[0m Trial 4 finished with value: 17.884697744195474 and parameters: {'gamma': 0.007818392724133122}. Best is trial 4 with value: 17.884697744195474.\u001b[0m\n",
      "\u001b[32m[I 2020-11-26 16:44:07,223]\u001b[0m Trial 5 finished with value: 18.24214158319609 and parameters: {'gamma': 1.0259506722202976e-06}. Best is trial 4 with value: 17.884697744195474.\u001b[0m\n",
      "\u001b[32m[I 2020-11-26 16:44:07,357]\u001b[0m Trial 6 finished with value: 12.61547170879169 and parameters: {'gamma': 0.7498860132842721}. Best is trial 6 with value: 12.61547170879169.\u001b[0m\n",
      "\u001b[32m[I 2020-11-26 16:44:07,519]\u001b[0m Trial 7 finished with value: 17.3788270610669 and parameters: {'gamma': 0.012614627734378119}. Best is trial 6 with value: 12.61547170879169.\u001b[0m\n",
      "\u001b[32m[I 2020-11-26 16:44:07,662]\u001b[0m Trial 8 finished with value: 14.028621093386828 and parameters: {'gamma': 0.03767868628998206}. Best is trial 6 with value: 12.61547170879169.\u001b[0m\n",
      "\u001b[32m[I 2020-11-26 16:44:07,872]\u001b[0m Trial 9 finished with value: 18.25780593071056 and parameters: {'gamma': 38.19246599105628}. Best is trial 6 with value: 12.61547170879169.\u001b[0m\n",
      "\u001b[32m[I 2020-11-26 16:44:08,077]\u001b[0m Trial 10 finished with value: 13.468928291925135 and parameters: {'gamma': 1.3395944150085355}. Best is trial 6 with value: 12.61547170879169.\u001b[0m\n",
      "\u001b[32m[I 2020-11-26 16:44:08,270]\u001b[0m Trial 11 finished with value: 13.273611945321646 and parameters: {'gamma': 1.20622691522145}. Best is trial 6 with value: 12.61547170879169.\u001b[0m\n",
      "\u001b[32m[I 2020-11-26 16:44:08,459]\u001b[0m Trial 12 finished with value: 13.47415973363126 and parameters: {'gamma': 1.3431879294018678}. Best is trial 6 with value: 12.61547170879169.\u001b[0m\n",
      "\u001b[32m[I 2020-11-26 16:44:08,641]\u001b[0m Trial 13 finished with value: 13.042967420185988 and parameters: {'gamma': 1.0494209197407987}. Best is trial 6 with value: 12.61547170879169.\u001b[0m\n",
      "\u001b[32m[I 2020-11-26 16:44:08,853]\u001b[0m Trial 14 finished with value: 18.20041870838984 and parameters: {'gamma': 401.5328414221415}. Best is trial 6 with value: 12.61547170879169.\u001b[0m\n",
      "\u001b[32m[I 2020-11-26 16:44:09,040]\u001b[0m Trial 15 finished with value: 12.035045101638579 and parameters: {'gamma': 0.24424580457850545}. Best is trial 15 with value: 12.035045101638579.\u001b[0m\n",
      "\u001b[32m[I 2020-11-26 16:44:09,221]\u001b[0m Trial 16 finished with value: 18.242115935093878 and parameters: {'gamma': 6.403507408571843e-05}. Best is trial 15 with value: 12.035045101638579.\u001b[0m\n",
      "\u001b[32m[I 2020-11-26 16:44:09,378]\u001b[0m Trial 17 finished with value: 11.152555288816801 and parameters: {'gamma': 0.0928746024548514}. Best is trial 17 with value: 11.152555288816801.\u001b[0m\n",
      "\u001b[32m[I 2020-11-26 16:44:09,538]\u001b[0m Trial 18 finished with value: 11.207181091206007 and parameters: {'gamma': 0.08989329495538577}. Best is trial 17 with value: 11.152555288816801.\u001b[0m\n",
      "\u001b[32m[I 2020-11-26 16:44:09,708]\u001b[0m Trial 19 finished with value: 18.24199923133449 and parameters: {'gamma': 0.00015086930840190694}. Best is trial 17 with value: 11.152555288816801.\u001b[0m\n",
      "\u001b[32m[I 2020-11-26 16:44:09,893]\u001b[0m Trial 20 finished with value: 17.975979023508906 and parameters: {'gamma': 15.842971703315783}. Best is trial 17 with value: 11.152555288816801.\u001b[0m\n",
      "\u001b[32m[I 2020-11-26 16:44:10,055]\u001b[0m Trial 21 finished with value: 10.781998409819579 and parameters: {'gamma': 0.1426568660664404}. Best is trial 21 with value: 10.781998409819579.\u001b[0m\n",
      "\u001b[32m[I 2020-11-26 16:44:10,242]\u001b[0m Trial 22 finished with value: 10.922358016107962 and parameters: {'gamma': 0.11112038448672693}. Best is trial 21 with value: 10.781998409819579.\u001b[0m\n",
      "\u001b[32m[I 2020-11-26 16:44:10,415]\u001b[0m Trial 23 finished with value: 17.328746126737062 and parameters: {'gamma': 8.648852778129557}. Best is trial 21 with value: 10.781998409819579.\u001b[0m\n",
      "\u001b[32m[I 2020-11-26 16:44:10,586]\u001b[0m Trial 24 finished with value: 10.816499182512421 and parameters: {'gamma': 0.12864814615903436}. Best is trial 21 with value: 10.781998409819579.\u001b[0m\n",
      "\u001b[32m[I 2020-11-26 16:44:10,752]\u001b[0m Trial 25 finished with value: 18.231821892164366 and parameters: {'gamma': 0.0012880024925136858}. Best is trial 21 with value: 10.781998409819579.\u001b[0m\n",
      "\u001b[32m[I 2020-11-26 16:44:10,936]\u001b[0m Trial 26 finished with value: 17.775445863215122 and parameters: {'gamma': 0.009007585799193706}. Best is trial 21 with value: 10.781998409819579.\u001b[0m\n",
      "\u001b[32m[I 2020-11-26 16:44:11,127]\u001b[0m Trial 27 finished with value: 11.915871187290742 and parameters: {'gamma': 0.18102744589969352}. Best is trial 21 with value: 10.781998409819579.\u001b[0m\n",
      "\u001b[32m[I 2020-11-26 16:44:11,325]\u001b[0m Trial 28 finished with value: 16.78590819401173 and parameters: {'gamma': 5.582387743231221}. Best is trial 21 with value: 10.781998409819579.\u001b[0m\n",
      "\u001b[32m[I 2020-11-26 16:44:11,497]\u001b[0m Trial 29 finished with value: 18.241301951111044 and parameters: {'gamma': 0.00036656443820018376}. Best is trial 21 with value: 10.781998409819579.\u001b[0m\n",
      "\u001b[32m[I 2020-11-26 16:44:11,695]\u001b[0m Trial 30 finished with value: 16.87050452072184 and parameters: {'gamma': 0.016513107509919665}. Best is trial 21 with value: 10.781998409819579.\u001b[0m\n",
      "\u001b[32m[I 2020-11-26 16:44:11,865]\u001b[0m Trial 31 finished with value: 12.45535075014294 and parameters: {'gamma': 0.056087347553915576}. Best is trial 21 with value: 10.781998409819579.\u001b[0m\n",
      "\u001b[32m[I 2020-11-26 16:44:12,091]\u001b[0m Trial 32 finished with value: 12.194637113771929 and parameters: {'gamma': 0.37425989257270514}. Best is trial 21 with value: 10.781998409819579.\u001b[0m\n",
      "\u001b[32m[I 2020-11-26 16:44:12,326]\u001b[0m Trial 33 finished with value: 18.130090214135578 and parameters: {'gamma': 0.004291389542245833}. Best is trial 21 with value: 10.781998409819579.\u001b[0m\n",
      "\u001b[32m[I 2020-11-26 16:44:12,535]\u001b[0m Trial 34 finished with value: 11.857841973096324 and parameters: {'gamma': 0.06765982042440545}. Best is trial 21 with value: 10.781998409819579.\u001b[0m\n",
      "\u001b[32m[I 2020-11-26 16:44:12,792]\u001b[0m Trial 35 finished with value: 10.784279254753052 and parameters: {'gamma': 0.141033751360732}. Best is trial 21 with value: 10.781998409819579.\u001b[0m\n",
      "\u001b[32m[I 2020-11-26 16:44:13,025]\u001b[0m Trial 36 finished with value: 16.052686284124444 and parameters: {'gamma': 3.8521666485107326}. Best is trial 21 with value: 10.781998409819579.\u001b[0m\n",
      "\u001b[32m[I 2020-11-26 16:44:13,190]\u001b[0m Trial 37 finished with value: 18.189475737512225 and parameters: {'gamma': 0.002925272079838117}. Best is trial 21 with value: 10.781998409819579.\u001b[0m\n",
      "\u001b[32m[I 2020-11-26 16:44:13,404]\u001b[0m Trial 38 finished with value: 16.020219852370843 and parameters: {'gamma': 0.022479298715296928}. Best is trial 21 with value: 10.781998409819579.\u001b[0m\n",
      "\u001b[32m[I 2020-11-26 16:44:13,627]\u001b[0m Trial 39 finished with value: 12.156602416078284 and parameters: {'gamma': 0.3355329060738734}. Best is trial 21 with value: 10.781998409819579.\u001b[0m\n",
      "\u001b[32m[I 2020-11-26 16:44:13,826]\u001b[0m Trial 40 finished with value: 18.23747132246667 and parameters: {'gamma': 0.000865517246510834}. Best is trial 21 with value: 10.781998409819579.\u001b[0m\n",
      "\u001b[32m[I 2020-11-26 16:44:14,030]\u001b[0m Trial 41 finished with value: 11.90733530829694 and parameters: {'gamma': 0.17638007807536937}. Best is trial 21 with value: 10.781998409819579.\u001b[0m\n",
      "\u001b[32m[I 2020-11-26 16:44:14,268]\u001b[0m Trial 42 finished with value: 14.132877466173374 and parameters: {'gamma': 0.03675344635478261}. Best is trial 21 with value: 10.781998409819579.\u001b[0m\n",
      "\u001b[32m[I 2020-11-26 16:44:14,479]\u001b[0m Trial 43 finished with value: 15.315543914753045 and parameters: {'gamma': 2.869695743405163}. Best is trial 21 with value: 10.781998409819579.\u001b[0m\n"
     ]
    },
    {
     "name": "stderr",
     "output_type": "stream",
     "text": [
      "\u001b[32m[I 2020-11-26 16:44:14,654]\u001b[0m Trial 44 finished with value: 10.92623024713603 and parameters: {'gamma': 0.11067855377871015}. Best is trial 21 with value: 10.781998409819579.\u001b[0m\n",
      "\u001b[32m[I 2020-11-26 16:44:14,930]\u001b[0m Trial 45 finished with value: 12.305054387271724 and parameters: {'gamma': 0.4917809778654479}. Best is trial 21 with value: 10.781998409819579.\u001b[0m\n",
      "\u001b[32m[I 2020-11-26 16:44:15,179]\u001b[0m Trial 46 finished with value: 18.050815232937733 and parameters: {'gamma': 0.005645767891880911}. Best is trial 21 with value: 10.781998409819579.\u001b[0m\n",
      "\u001b[32m[I 2020-11-26 16:44:15,388]\u001b[0m Trial 47 finished with value: 16.244074008106573 and parameters: {'gamma': 0.020929168897376657}. Best is trial 21 with value: 10.781998409819579.\u001b[0m\n",
      "\u001b[32m[I 2020-11-26 16:44:15,592]\u001b[0m Trial 48 finished with value: 14.458171256462618 and parameters: {'gamma': 2.0693949179759747}. Best is trial 21 with value: 10.781998409819579.\u001b[0m\n",
      "\u001b[32m[I 2020-11-26 16:44:15,814]\u001b[0m Trial 49 finished with value: 12.405992442689358 and parameters: {'gamma': 0.5849957467625032}. Best is trial 21 with value: 10.781998409819579.\u001b[0m\n",
      "\u001b[32m[I 2020-11-26 16:44:16,026]\u001b[0m Trial 50 finished with value: 18.224457342731974 and parameters: {'gamma': 146.40802493720284}. Best is trial 21 with value: 10.781998409819579.\u001b[0m\n",
      "\u001b[32m[I 2020-11-26 16:44:16,291]\u001b[0m Trial 51 finished with value: 11.868433987720792 and parameters: {'gamma': 0.14969484407866174}. Best is trial 21 with value: 10.781998409819579.\u001b[0m\n",
      "\u001b[32m[I 2020-11-26 16:44:16,561]\u001b[0m Trial 52 finished with value: 11.162745121723294 and parameters: {'gamma': 0.09229376685180625}. Best is trial 21 with value: 10.781998409819579.\u001b[0m\n",
      "\u001b[32m[I 2020-11-26 16:44:16,829]\u001b[0m Trial 53 finished with value: 11.122938221565777 and parameters: {'gamma': 0.09463531241644045}. Best is trial 21 with value: 10.781998409819579.\u001b[0m\n",
      "\u001b[32m[I 2020-11-26 16:44:17,058]\u001b[0m Trial 54 finished with value: 14.00235424763553 and parameters: {'gamma': 0.037915437213842544}. Best is trial 21 with value: 10.781998409819579.\u001b[0m\n",
      "\u001b[32m[I 2020-11-26 16:44:17,237]\u001b[0m Trial 55 finished with value: 12.753916725979245 and parameters: {'gamma': 0.8496311874764242}. Best is trial 21 with value: 10.781998409819579.\u001b[0m\n",
      "\u001b[32m[I 2020-11-26 16:44:17,420]\u001b[0m Trial 56 finished with value: 17.66304987819821 and parameters: {'gamma': 0.010117854413659344}. Best is trial 21 with value: 10.781998409819579.\u001b[0m\n",
      "\u001b[32m[I 2020-11-26 16:44:17,653]\u001b[0m Trial 57 finished with value: 11.92390476406524 and parameters: {'gamma': 0.1852816996332261}. Best is trial 21 with value: 10.781998409819579.\u001b[0m\n",
      "\u001b[32m[I 2020-11-26 16:44:17,883]\u001b[0m Trial 58 finished with value: 18.19943084228234 and parameters: {'gamma': 21.363293890838225}. Best is trial 21 with value: 10.781998409819579.\u001b[0m\n",
      "\u001b[32m[I 2020-11-26 16:44:18,109]\u001b[0m Trial 59 finished with value: 13.776696659028957 and parameters: {'gamma': 1.554184716184875}. Best is trial 21 with value: 10.781998409819579.\u001b[0m\n",
      "\u001b[32m[I 2020-11-26 16:44:18,257]\u001b[0m Trial 60 finished with value: 14.094979845226643 and parameters: {'gamma': 0.03708716492426774}. Best is trial 21 with value: 10.781998409819579.\u001b[0m\n",
      "\u001b[32m[I 2020-11-26 16:44:18,519]\u001b[0m Trial 61 finished with value: 12.097139814330847 and parameters: {'gamma': 0.28507333930740103}. Best is trial 21 with value: 10.781998409819579.\u001b[0m\n",
      "\u001b[32m[I 2020-11-26 16:44:18,747]\u001b[0m Trial 62 finished with value: 11.076257238514405 and parameters: {'gamma': 0.097661387815567}. Best is trial 21 with value: 10.781998409819579.\u001b[0m\n",
      "\u001b[32m[I 2020-11-26 16:44:18,926]\u001b[0m Trial 63 finished with value: 10.991133790764788 and parameters: {'gamma': 0.1042398271528711}. Best is trial 21 with value: 10.781998409819579.\u001b[0m\n",
      "\u001b[32m[I 2020-11-26 16:44:19,143]\u001b[0m Trial 64 finished with value: 12.539099574385395 and parameters: {'gamma': 0.6925005467737628}. Best is trial 21 with value: 10.781998409819579.\u001b[0m\n",
      "\u001b[32m[I 2020-11-26 16:44:19,342]\u001b[0m Trial 65 finished with value: 12.286429184771723 and parameters: {'gamma': 0.05892154251232893}. Best is trial 21 with value: 10.781998409819579.\u001b[0m\n",
      "\u001b[32m[I 2020-11-26 16:44:19,525]\u001b[0m Trial 66 finished with value: 17.115152812604943 and parameters: {'gamma': 0.01469620631317639}. Best is trial 21 with value: 10.781998409819579.\u001b[0m\n",
      "\u001b[32m[I 2020-11-26 16:44:19,709]\u001b[0m Trial 67 finished with value: 10.819109412820104 and parameters: {'gamma': 0.12797405194742062}. Best is trial 21 with value: 10.781998409819579.\u001b[0m\n",
      "\u001b[32m[I 2020-11-26 16:44:19,865]\u001b[0m Trial 68 finished with value: 12.130265007560688 and parameters: {'gamma': 0.31157200693056547}. Best is trial 21 with value: 10.781998409819579.\u001b[0m\n",
      "\u001b[32m[I 2020-11-26 16:44:20,045]\u001b[0m Trial 69 finished with value: 10.802068328716913 and parameters: {'gamma': 0.1329524434457181}. Best is trial 21 with value: 10.781998409819579.\u001b[0m\n",
      "\u001b[32m[I 2020-11-26 16:44:20,236]\u001b[0m Trial 70 finished with value: 18.242141313474043 and parameters: {'gamma': 6.644830028742123e-06}. Best is trial 21 with value: 10.781998409819579.\u001b[0m\n",
      "\u001b[32m[I 2020-11-26 16:44:20,482]\u001b[0m Trial 71 finished with value: 10.926544638064854 and parameters: {'gamma': 0.11064302788935516}. Best is trial 21 with value: 10.781998409819579.\u001b[0m\n",
      "\u001b[32m[I 2020-11-26 16:44:20,756]\u001b[0m Trial 72 finished with value: 15.539817240680328 and parameters: {'gamma': 0.025837522123342616}. Best is trial 21 with value: 10.781998409819579.\u001b[0m\n",
      "\u001b[32m[I 2020-11-26 16:44:21,004]\u001b[0m Trial 73 finished with value: 11.917998039362125 and parameters: {'gamma': 0.18216316479445202}. Best is trial 21 with value: 10.781998409819579.\u001b[0m\n",
      "\u001b[32m[I 2020-11-26 16:44:21,212]\u001b[0m Trial 74 finished with value: 12.919449355785808 and parameters: {'gamma': 0.049457365519429475}. Best is trial 21 with value: 10.781998409819579.\u001b[0m\n",
      "\u001b[32m[I 2020-11-26 16:44:21,578]\u001b[0m Trial 75 finished with value: 12.947386051948634 and parameters: {'gamma': 0.9840694500787316}. Best is trial 21 with value: 10.781998409819579.\u001b[0m\n",
      "\u001b[32m[I 2020-11-26 16:44:21,773]\u001b[0m Trial 76 finished with value: 12.144379607292835 and parameters: {'gamma': 0.3240894021121739}. Best is trial 21 with value: 10.781998409819579.\u001b[0m\n",
      "\u001b[32m[I 2020-11-26 16:44:21,931]\u001b[0m Trial 77 finished with value: 12.327890642781083 and parameters: {'gamma': 0.5141407955208191}. Best is trial 21 with value: 10.781998409819579.\u001b[0m\n",
      "\u001b[32m[I 2020-11-26 16:44:22,198]\u001b[0m Trial 78 finished with value: 17.930428173380648 and parameters: {'gamma': 0.00727555944162328}. Best is trial 21 with value: 10.781998409819579.\u001b[0m\n",
      "\u001b[32m[I 2020-11-26 16:44:22,439]\u001b[0m Trial 79 finished with value: 10.836930565917212 and parameters: {'gamma': 0.12393016548317838}. Best is trial 21 with value: 10.781998409819579.\u001b[0m\n",
      "\u001b[32m[I 2020-11-26 16:44:22,725]\u001b[0m Trial 80 finished with value: 16.40240739651952 and parameters: {'gamma': 0.019829821003070378}. Best is trial 21 with value: 10.781998409819579.\u001b[0m\n",
      "\u001b[32m[I 2020-11-26 16:44:22,956]\u001b[0m Trial 81 finished with value: 10.790250961552452 and parameters: {'gamma': 0.13770551075891135}. Best is trial 21 with value: 10.781998409819579.\u001b[0m\n",
      "\u001b[32m[I 2020-11-26 16:44:23,195]\u001b[0m Trial 82 finished with value: 11.964197218537093 and parameters: {'gamma': 0.20594255018766994}. Best is trial 21 with value: 10.781998409819579.\u001b[0m\n",
      "\u001b[32m[I 2020-11-26 16:44:23,428]\u001b[0m Trial 83 finished with value: 12.221109694700367 and parameters: {'gamma': 0.06009533871305709}. Best is trial 21 with value: 10.781998409819579.\u001b[0m\n",
      "\u001b[32m[I 2020-11-26 16:44:23,610]\u001b[0m Trial 84 finished with value: 12.25431920020176 and parameters: {'gamma': 0.4390989465173326}. Best is trial 21 with value: 10.781998409819579.\u001b[0m\n",
      "\u001b[32m[I 2020-11-26 16:44:23,815]\u001b[0m Trial 85 finished with value: 11.8653862823735 and parameters: {'gamma': 0.14604100906634862}. Best is trial 21 with value: 10.781998409819579.\u001b[0m\n",
      "\u001b[32m[I 2020-11-26 16:44:23,994]\u001b[0m Trial 86 finished with value: 14.862198748829577 and parameters: {'gamma': 0.03080618145877776}. Best is trial 21 with value: 10.781998409819579.\u001b[0m\n",
      "\u001b[32m[I 2020-11-26 16:44:24,272]\u001b[0m Trial 87 finished with value: 13.7483585131152 and parameters: {'gamma': 1.5340985827577778}. Best is trial 21 with value: 10.781998409819579.\u001b[0m\n"
     ]
    },
    {
     "name": "stderr",
     "output_type": "stream",
     "text": [
      "\u001b[32m[I 2020-11-26 16:44:24,539]\u001b[0m Trial 88 finished with value: 12.033500398413144 and parameters: {'gamma': 0.06375587075393642}. Best is trial 21 with value: 10.781998409819579.\u001b[0m\n",
      "\u001b[32m[I 2020-11-26 16:44:24,778]\u001b[0m Trial 89 finished with value: 17.4515699182932 and parameters: {'gamma': 0.012007155349465589}. Best is trial 21 with value: 10.781998409819579.\u001b[0m\n",
      "\u001b[32m[I 2020-11-26 16:44:25,002]\u001b[0m Trial 90 finished with value: 18.160395432994278 and parameters: {'gamma': 0.0036551304701002724}. Best is trial 21 with value: 10.781998409819579.\u001b[0m\n",
      "\u001b[32m[I 2020-11-26 16:44:25,348]\u001b[0m Trial 91 finished with value: 10.821589448660372 and parameters: {'gamma': 0.12735621008953943}. Best is trial 21 with value: 10.781998409819579.\u001b[0m\n",
      "\u001b[32m[I 2020-11-26 16:44:25,553]\u001b[0m Trial 92 finished with value: 12.058864737228319 and parameters: {'gamma': 0.2587922739953831}. Best is trial 21 with value: 10.781998409819579.\u001b[0m\n",
      "\u001b[32m[I 2020-11-26 16:44:25,856]\u001b[0m Trial 93 finished with value: 10.795036159025944 and parameters: {'gamma': 0.13557908832556503}. Best is trial 21 with value: 10.781998409819579.\u001b[0m\n",
      "\u001b[32m[I 2020-11-26 16:44:26,046]\u001b[0m Trial 94 finished with value: 10.801134363871846 and parameters: {'gamma': 0.13327534082525974}. Best is trial 21 with value: 10.781998409819579.\u001b[0m\n",
      "\u001b[32m[I 2020-11-26 16:44:26,344]\u001b[0m Trial 95 finished with value: 12.387998224593359 and parameters: {'gamma': 0.5693396684012259}. Best is trial 21 with value: 10.781998409819579.\u001b[0m\n",
      "\u001b[32m[I 2020-11-26 16:44:26,552]\u001b[0m Trial 96 finished with value: 13.19490737234343 and parameters: {'gamma': 0.046111289596987154}. Best is trial 21 with value: 10.781998409819579.\u001b[0m\n",
      "\u001b[32m[I 2020-11-26 16:44:26,781]\u001b[0m Trial 97 finished with value: 15.057372042008932 and parameters: {'gamma': 2.6027882557926167}. Best is trial 21 with value: 10.781998409819579.\u001b[0m\n",
      "\u001b[32m[I 2020-11-26 16:44:26,992]\u001b[0m Trial 98 finished with value: 11.86973158553029 and parameters: {'gamma': 0.15102570076687888}. Best is trial 21 with value: 10.781998409819579.\u001b[0m\n",
      "\u001b[32m[I 2020-11-26 16:44:27,216]\u001b[0m Trial 99 finished with value: 12.821564838767749 and parameters: {'gamma': 0.8971000356266834}. Best is trial 21 with value: 10.781998409819579.\u001b[0m\n"
     ]
    },
    {
     "name": "stdout",
     "output_type": "stream",
     "text": [
      "{'gamma': 0.1426568660664404}\n"
     ]
    }
   ],
   "source": [
    "# gamma = 0.14 seems to work well\n",
    "\n",
    "def objective(trial):\n",
    "    # n = trial.suggest_int(\"n_components\", 1, 30)\n",
    "    gamma = trial.suggest_loguniform('gamma', 1e-6, 1e+3)\n",
    "    kpca = KernelPCA(n_components=3, kernel=\"rbf\", gamma=gamma, fit_inverse_transform=True)\n",
    "    kpca.fit(X_diff[:400])\n",
    "    X_reproj = kpca.inverse_transform(kpca.transform(X_diff[400:]))\n",
    "    return np.linalg.norm(X_diff[400:] - X_reproj)\n",
    "\n",
    "study = optuna.create_study()\n",
    "study.optimize(objective, n_trials=100)\n",
    "print(study.best_params)"
   ]
  }
 ],
 "metadata": {
  "kernelspec": {
   "display_name": "Python 3",
   "language": "python",
   "name": "python3"
  },
  "language_info": {
   "codemirror_mode": {
    "name": "ipython",
    "version": 3
   },
   "file_extension": ".py",
   "mimetype": "text/x-python",
   "name": "python",
   "nbconvert_exporter": "python",
   "pygments_lexer": "ipython3",
   "version": "3.8.5"
  }
 },
 "nbformat": 4,
 "nbformat_minor": 4
}
