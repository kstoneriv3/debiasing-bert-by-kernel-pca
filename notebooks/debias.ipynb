{
 "cells": [
  {
   "cell_type": "code",
   "execution_count": 33,
   "metadata": {},
   "outputs": [],
   "source": [
    "from matplotlib import pyplot as plt\n",
    "import numpy as np\n",
    "import pandas as pd\n",
    "import scipy\n",
    "from sklearn.decomposition import PCA\n",
    "\n",
    "import optuna\n",
    "# from src.kernel_pca import CenteredKernelPCA as KPCA\n"
   ]
  },
  {
   "cell_type": "code",
   "execution_count": 25,
   "metadata": {
    "collapsed": true
   },
   "outputs": [],
   "source": [
    "data = pd.read_csv(\"../data/CoLA/mixed_dev_embeddings.tsv\", sep=\"\\t\")\n",
    "X = data.iloc[:, 3:771].to_numpy()\n",
    "X_index = data['defining set id'].to_numpy()"
   ]
  },
  {
   "cell_type": "code",
   "execution_count": 59,
   "metadata": {},
   "outputs": [
    {
     "data": {
      "text/plain": [
       "Text(0.5, 0, 'the number of components')"
      ]
     },
     "execution_count": 59,
     "metadata": {},
     "output_type": "execute_result"
    },
    {
     "data": {
      "image/png": "[encoded data removed]",
      "text/plain": [
       "<Figure size 432x288 with 1 Axes>"
      ]
     },
     "metadata": {
      "needs_background": "light"
     },
     "output_type": "display_data"
    }
   ],
   "source": [
    "# data visualization\n",
    "eigvals = PCA().fit(X).explained_variance_\n",
    "explained_var = np.cumsum(eigvals) / np.sum(eigvals)\n",
    "plt.plot(explained_var)\n",
    "plt.ylabel('explained variance')\n",
    "plt.xlabel('the number of components')"
   ]
  },
  {
   "cell_type": "code",
   "execution_count": 34,
   "metadata": {},
   "outputs": [],
   "source": [
    "def SortSampleIndex(X, X_index, inplace=True, return_value=False):\n",
    "    \"\"\"Sort samples so that the X_index is sorted.\n",
    "    \n",
    "    Parameters\n",
    "    ----------\n",
    "    X: array [n_samples, n_features]\n",
    "    X_index: array: [n_samples]\n",
    "    \n",
    "    \"\"\"\n",
    "    arg = np.argsort(X_index)\n",
    "    if inplace:\n",
    "        X = X[arg]\n",
    "        X_index = X_index[arg]\n",
    "    else:\n",
    "        return_value = True\n",
    "        X = np.copy(X[arg])\n",
    "        X_index = np.copy(X_index[arg]) \n",
    "    if return_value:\n",
    "        return X, X_index\n",
    "\n",
    "def CenterLinearly(X, X_index):\n",
    "    \"\"\"Sort samples so that the X_index is sorted.\n",
    "    \n",
    "    Parameters\n",
    "    ----------\n",
    "    X: array [n_samples, n_features]\n",
    "    X_index: array: [n_samples]\n",
    "    \n",
    "    \"\"\"\n",
    "    DX = _get_design_matrix(X_index)\n",
    "    centeredX = DX @ X\n",
    "    return centeredX\n",
    "    \n",
    "def _get_design_matrix(index):\n",
    "    \"\"\"Calculate the design matrix for group-mean-centering\n",
    "    \n",
    "    Example:\n",
    "    Given ``index = [1, 1, 2, 2, np.nan]``, the design matrix becomes\n",
    "                          [[1/2, 1/2,    0,   0, 0],\n",
    "                           [1/2, 1/2,    0,   0, 0],\n",
    "    np.eye(5) - np.array(  [  0,   0,  1/2, 1/2, 0],  )\n",
    "                           [  0,   0,  1/2, 1/2, 0],\n",
    "                           [  0,   0,    0,   0, 0]]\n",
    "    \"\"\"\n",
    "    N = index.shape[0]\n",
    "    mask_nan = np.isnan(index)\n",
    "    N_nan = sum(mask_nan)\n",
    "    _, group_counts = np.unique(index[~mask_nan], return_counts=True)\n",
    "    assert np.all(group_counts > 1)  # There must be more than 2 elements in each group.\n",
    "    blocks = [np.full([c, c], 1./c) for c in group_counts] + [0.0] * N_nan\n",
    "    design_matrix = scipy.sparse.eye(N) - scipy.sparse.block_diag(blocks)\n",
    "    return design_matrix"
   ]
  },
  {
   "cell_type": "code",
   "execution_count": 60,
   "metadata": {},
   "outputs": [],
   "source": [
    "SortSampleIndex(X, X_index, inplace=True, return_value=False)\n",
    "cX = CenterLinearly(X, X_index)"
   ]
  },
  {
   "cell_type": "code",
   "execution_count": 83,
   "metadata": {},
   "outputs": [],
   "source": [
    "pca = PCA(n_components=1).fit(cX)\n",
    "X_tr = pca.transform(X)\n",
    "X_orth = X - pca.inverse_transform(X_tr)"
   ]
  },
  {
   "cell_type": "code",
   "execution_count": 84,
   "metadata": {},
   "outputs": [
    {
     "data": {
      "text/plain": [
       "372.82486163269624"
      ]
     },
     "execution_count": 84,
     "metadata": {},
     "output_type": "execute_result"
    }
   ],
   "source": [
    "np.linalg.norm(X_orth)"
   ]
  },
  {
   "cell_type": "code",
   "execution_count": 85,
   "metadata": {
    "scrolled": false
   },
   "outputs": [
    {
     "data": {
      "text/plain": [
       "426.1726765040533"
      ]
     },
     "execution_count": 85,
     "metadata": {},
     "output_type": "execute_result"
    }
   ],
   "source": [
    "np.linalg.norm(X)"
   ]
  },
  {
   "cell_type": "code",
   "execution_count": 80,
   "metadata": {},
   "outputs": [],
   "source": [
    "pca = PCA(n_components=600)\n",
    "kpca = KernelPCA(n_components=600, kernel=\"rbf\")"
   ]
  },
  {
   "cell_type": "code",
   "execution_count": 83,
   "metadata": {},
   "outputs": [
    {
     "data": {
      "text/plain": [
       "KernelPCA(kernel='rbf', n_components=600)"
      ]
     },
     "execution_count": 83,
     "metadata": {},
     "output_type": "execute_result"
    }
   ],
   "source": [
    "pca.fit(X)\n",
    "kpca.fit(X)"
   ]
  },
  {
   "cell_type": "code",
   "execution_count": 13,
   "metadata": {},
   "outputs": [
    {
     "data": {
      "text/plain": [
       "array([0, 1, 2, 3, 4, 5, 6, 7, 8, 9])"
      ]
     },
     "execution_count": 13,
     "metadata": {},
     "output_type": "execute_result"
    }
   ],
   "source": [
    "np.argsort(np.arange(10))"
   ]
  },
  {
   "cell_type": "code",
   "execution_count": null,
   "metadata": {},
   "outputs": [],
   "source": []
  }
 ],
 "metadata": {
  "kernelspec": {
   "display_name": "Python 3",
   "language": "python",
   "name": "python3"
  },
  "language_info": {
   "codemirror_mode": {
    "name": "ipython",
    "version": 3
   },
   "file_extension": ".py",
   "mimetype": "text/x-python",
   "name": "python",
   "nbconvert_exporter": "python",
   "pygments_lexer": "ipython3",
   "version": "3.8.5"
  }
 },
 "nbformat": 4,
 "nbformat_minor": 4
}
