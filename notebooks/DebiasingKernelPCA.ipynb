{
 "cells": [
  {
   "cell_type": "code",
   "execution_count": 62,
   "metadata": {},
   "outputs": [],
   "source": [
    "from matplotlib import pyplot as plt\n",
    "import numpy as np\n",
    "import pandas as pd\n",
    "import torch\n",
    "from sklearn.decomposition import PCA, KernelPCA\n",
    "import optuna\n",
    "\n",
    "import sys\n",
    "sys.path.append(\"../\") # go to parent dir\n",
    "\n",
    "from src.debiasing import DebiasingPCA\n",
    "from src.debiasing import DebiasingKernelPCA\n",
    "from src.debiasing.utils import get_design_matrix"
   ]
  },
  {
   "cell_type": "code",
   "execution_count": 63,
   "metadata": {},
   "outputs": [],
   "source": [
    "data = pd.read_csv(\"../data/CoLA/mixed_dev_embeddings.tsv\", sep=\"\\t\")\n",
    "data = data.sort_values(by='defining set id')\n",
    "X = data.iloc[:, 3:771].to_numpy()\n",
    "X_index = data['defining set id'].to_numpy()"
   ]
  },
  {
   "cell_type": "code",
   "execution_count": 64,
   "metadata": {},
   "outputs": [
    {
     "data": {
      "text/plain": [
       "Text(0.5, 0, 'the number of components')"
      ]
     },
     "execution_count": 64,
     "metadata": {},
     "output_type": "execute_result"
    },
    {
     "data": {
      "image/png": "[encoded data removed]",
      "text/plain": [
       "<Figure size 432x288 with 1 Axes>"
      ]
     },
     "metadata": {
      "needs_background": "light"
     },
     "output_type": "display_data"
    }
   ],
   "source": [
    "# data visualization\n",
    "eigvals = PCA().fit(X).explained_variance_\n",
    "explained_var = np.cumsum(eigvals) / np.sum(eigvals)\n",
    "plt.plot(explained_var)\n",
    "plt.ylabel('explained variance')\n",
    "plt.xlabel('the number of components')"
   ]
  },
  {
   "cell_type": "markdown",
   "metadata": {},
   "source": [
    "# PCA debiasing"
   ]
  },
  {
   "cell_type": "code",
   "execution_count": 65,
   "metadata": {},
   "outputs": [],
   "source": [
    "debiaser = DebiasingPCA(n_components=3)\n",
    "debiaser.fit(X, X_index)\n",
    "X_debiased = debiaser.debias(X)"
   ]
  },
  {
   "cell_type": "code",
   "execution_count": 66,
   "metadata": {
    "scrolled": true
   },
   "outputs": [
    {
     "data": {
      "text/plain": [
       "327.86928356926535"
      ]
     },
     "execution_count": 66,
     "metadata": {},
     "output_type": "execute_result"
    }
   ],
   "source": [
    "np.linalg.norm(X_debiased)"
   ]
  },
  {
   "cell_type": "markdown",
   "metadata": {},
   "source": [
    "# Kernel PCA debiasing (by kernel ridge pre-imaging)"
   ]
  },
  {
   "cell_type": "code",
   "execution_count": 67,
   "metadata": {
    "scrolled": false
   },
   "outputs": [
    {
     "data": {
      "text/plain": [
       "426.1726765040533"
      ]
     },
     "execution_count": 67,
     "metadata": {},
     "output_type": "execute_result"
    }
   ],
   "source": [
    "np.linalg.norm(X)"
   ]
  },
  {
   "cell_type": "markdown",
   "metadata": {},
   "source": [
    "### Unsuccessful case (Learn pre-image of bias subspace by min || Phi(w) - Proj (Phi(w))||)"
   ]
  },
  {
   "cell_type": "code",
   "execution_count": 68,
   "metadata": {},
   "outputs": [],
   "source": [
    "debiaser = DebiasingKernelPCA(n_components=3, kernel=\"rbf\")\n",
    "debiaser.fit(X, X_index)\n",
    "X_debiased = debiaser.debias(X)"
   ]
  },
  {
   "cell_type": "code",
   "execution_count": 69,
   "metadata": {
    "scrolled": false
   },
   "outputs": [
    {
     "data": {
      "text/plain": [
       "63.74915566837997"
      ]
     },
     "execution_count": 69,
     "metadata": {},
     "output_type": "execute_result"
    }
   ],
   "source": [
    "np.linalg.norm(X_debiased)"
   ]
  },
  {
   "cell_type": "markdown",
   "metadata": {},
   "source": [
    "### Unsuccessful case (Learn pre-image of bias subspace by min || Phi(w - m) - Proj (Phi(w - m))||)"
   ]
  },
  {
   "cell_type": "code",
   "execution_count": 70,
   "metadata": {},
   "outputs": [],
   "source": [
    "DX = get_design_matrix(X_index)\n",
    "X_diff = DX @ X\n",
    "kpca = KernelPCA(n_components=3, kernel=\"rbf\", gamma=0.14, fit_inverse_transform=True)\n",
    "kpca.fit(X_diff)\n",
    "X_bias = kpca.inverse_transform(kpca.transform(X))\n",
    "X_debiased = X - X_bias"
   ]
  },
  {
   "cell_type": "code",
   "execution_count": 71,
   "metadata": {
    "scrolled": true
   },
   "outputs": [
    {
     "data": {
      "text/plain": [
       "425.87166574536064"
      ]
     },
     "execution_count": 71,
     "metadata": {},
     "output_type": "execute_result"
    }
   ],
   "source": [
    "np.linalg.norm(X_debiased)"
   ]
  },
  {
   "cell_type": "markdown",
   "metadata": {},
   "source": [
    "# Kernel PCA"
   ]
  },
  {
   "cell_type": "code",
   "execution_count": 72,
   "metadata": {},
   "outputs": [],
   "source": [
    "import scipy\n",
    "from sklearn.exceptions import NotFittedError\n",
    "#from sklearn.kernel_ridge import KernelRidge\n",
    "from sklearn.metrics import pairwise_kernels\n",
    "from sklearn.utils.extmath import svd_flip\n",
    "from sklearn.utils.validation import _check_psd_eigenvalues\n",
    "\n",
    "import optuna\n",
    "\n",
    "from src.debiasing.utils import get_design_matrix, is_sorted\n",
    "# from src.debiasing.kernel_pca import CenteredKernelPCA as KPCA"
   ]
  },
  {
   "cell_type": "code",
   "execution_count": 73,
   "metadata": {},
   "outputs": [],
   "source": [
    "def RBF(X, Y=None, grad=False):\n",
    "    gamma = 1. / X.shape[-1]\n",
    "    Y = X if Y is None else Y\n",
    "    if grad:\n",
    "        K = torch.exp(-gamma*torch.sum((X-Y)**2, axis=-1))\n",
    "    else:\n",
    "        X = np.expand_dims(X, 1)\n",
    "        Y = np.expand_dims(Y, 0)\n",
    "        K = np.exp(-gamma*np.sum((X-Y)**2, axis=-1))\n",
    "    return K"
   ]
  },
  {
   "cell_type": "code",
   "execution_count": 74,
   "metadata": {
    "scrolled": true
   },
   "outputs": [],
   "source": [
    "class DebiasingKernelPCA:\n",
    "    \"\"\"Kernel PCA with mean-centering in feature space within each group.\n",
    "    \n",
    "    The design of this class is mostly based on sklearn.decomposition.KernelPCA.  \n",
    "    \n",
    "    Parameters\n",
    "    ----------\n",
    "    n_components : int, default=None\n",
    "        Number of components. If None, all non-zero components are kept.    \n",
    "    kernel: string or callable\n",
    "        The kernel to use when calculating kernel between instances in a\n",
    "        feature array. Valid string values for kernel are:\n",
    "        ['additive_chi2', 'chi2', 'linear', 'poly', 'polynomial', 'rbf', 'laplacian', 'sigmoid', 'cosine'],\n",
    "        which must be one of the kernels in sklearn.pairwise.PAIRWISE_KERNEL_FUNCTIONS.\n",
    "        If callable is passed, kernel must have following arguments:\n",
    "        - X: array [n_sample_a, n_features]\n",
    "        - Y: array [n_sample_b, n_features]\n",
    "        - torch: bool, whose Default is set `False`.\n",
    "        When `torch` is set `True`, the kernel must return torch.Tensor which is differentiable w.r.t. X and Y.   \n",
    "    coef0 : float, default=1\n",
    "        Independent term in poly and sigmoid kernels.\n",
    "        Ignored by other kernels.\n",
    "    kernel_params : mapping of string to any, default=None\n",
    "        Parameters (keyword arguments) and values for kernel passed as\n",
    "        callable object. Ignored by other kernels.\n",
    "    alpha : int, default=1.0\n",
    "        Hyperparameter of the ridge regression that learns the\n",
    "        inverse transform.\n",
    "    n_jobs : int or None, optional (default=None)\n",
    "        The number of parallel jobs to run.\n",
    "        ``None`` means 1 unless in a :obj:`joblib.parallel_backend` context.\n",
    "        ``-1`` means using all processors. See :term:`Glossary <n_jobs>`\n",
    "        for more details.\n",
    "        \n",
    "    Attributes\n",
    "    ----------\n",
    "    lambdas_ : array, (n_components,)\n",
    "        Eigenvalues of the centered kernel matrix in decreasing order.\n",
    "        If `n_components` and `remove_zero_eig` are not set,\n",
    "        then all values are stored.\n",
    "    alphas_ : array, (n_samples, n_components)\n",
    "        Eigenvectors of the centered kernel matrix. If `n_components` and\n",
    "        `remove_zero_eig` are not set, then all components are stored.\n",
    "    dual_coef_ : array, (n_samples, n_features)\n",
    "        Inverse transform matrix. Only available when\n",
    "        ``fit_inverse_transform`` is True.\n",
    "    X_transformed_fit_ : array, (n_samples, n_components)\n",
    "        Projection of the fitted data on the kernel principal components.\n",
    "        Only available when ``fit_inverse_transform`` is True.\n",
    "    X_fit_ : (n_samples, n_features)\n",
    "        The data used to fit the model. If `copy_X=False`, then `X_fit_` is\n",
    "        a reference. This attribute is used for the calls to transform.\n",
    "\n",
    "    Remark\n",
    "    ------\n",
    "    The design of this class is based on the sklearn.decomposition.KernelPCA.\n",
    "    \"\"\"\n",
    "    def __init__(self, n_components, *, kernel=\"linear\", inv_kernel=None, \n",
    "                 gamma=None, degree=3, coef0=1, kernel_params=None,\n",
    "                 alpha=1.0, n_jobs=None):\n",
    "        self.n_components = n_components\n",
    "        self.kernel = kernel\n",
    "        self.inv_kernel = kernel if inv_kernel is None else inv_kernel\n",
    "        self.kernel_params = kernel_params\n",
    "        self.alpha = alpha\n",
    "        self.n_jobs = n_jobs\n",
    "        self.X_fit_ = None\n",
    "\n",
    "    def fit(self, X, X_index=None):\n",
    "        \"\"\"Fit grouped samples in X to extract bias subspace.\n",
    "\n",
    "        Parameters\n",
    "        ----------\n",
    "        X: array [n_samples, n_features]\n",
    "        X_index: array: [n_samples]\n",
    "            `X_index` indicates the group to which specific sample belongs to.\n",
    "\n",
    "        Returns\n",
    "        -------\n",
    "        self : object\n",
    "            Returns the instance itself.\n",
    "        \"\"\"\n",
    "        K = _centered_kernel(X=X, X_index=X_index, kernel=self.kernel)\n",
    "\n",
    "        if self.n_components is None:\n",
    "            n_components = K.shape[0]\n",
    "        else:\n",
    "            n_components = min(K.shape[0], self.n_components)\n",
    "\n",
    "        # compute eigenvectors\n",
    "        if K.shape[0] > 200 and n_components < 10:  # use ARPACK\n",
    "            # initialize with [-1,1] as in ARPACK\n",
    "            v0 = np.random.RandomState(0).uniform(-1, 1, K.shape[0])\n",
    "            self.lambdas_, self.alphas_ = scipy.sparse.linalg.eigsh(K, n_components,\n",
    "                                                which=\"LA\",\n",
    "                                                tol=0,\n",
    "                                                maxiter=None,\n",
    "                                                v0=v0)\n",
    "        else:\n",
    "            self.lambdas_, self.alphas_ = scipy.linalg.eigh(\n",
    "                K, eigvals=(K.shape[0] - n_components, K.shape[0] - 1))\n",
    "        \n",
    "        # make sure that the eigenvalues are ok and fix numerical issues\n",
    "        self.lambdas_ = _check_psd_eigenvalues(self.lambdas_,\n",
    "                                               enable_warnings=False)\n",
    "\n",
    "        # flip eigenvectors' sign to enforce deterministic output\n",
    "        self.alphas_, _ = svd_flip(self.alphas_,\n",
    "                                   np.zeros_like(self.alphas_).T)\n",
    "\n",
    "        # sort eigenvectors in descending order\n",
    "        indices = self.lambdas_.argsort()[::-1]\n",
    "        self.lambdas_ = self.lambdas_[indices]\n",
    "        self.alphas_ = self.alphas_[:, indices]\n",
    "\n",
    "        # remove eigenvectors with a zero eigenvalue (null space) if required\n",
    "        mask_non_zero = self.lambdas_ > 1e-8\n",
    "        if sum(mask_non_zero) < self.n_components:\n",
    "            print(\"The effective number of the components was smaller than the given `n_components`.\"\n",
    "                  \"Please be careful about the dimension of the tranformed feature, as it is smaller than `n_components`.\")\n",
    "        self.alphas_ = self.alphas_[:, self.lambdas_ > 1e-8]\n",
    "        self.lambdas_ = self.lambdas_[self.lambdas_ > 1e-8]\n",
    "        \n",
    "        self.X_fit_ = X\n",
    "        self.X_fit_index_ = X_index\n",
    "        \n",
    "        self._fit_inverse_transform(X, None)\n",
    "\n",
    "        return self\n",
    "\n",
    "    def _fit_inverse_transform(self, X, X_index=None):\n",
    "        \n",
    "        X_transformed = self.transform(X)\n",
    "        self.X_fit_inverse_ = X\n",
    "        self.X_transformed_fit_inverse_ = X_transformed\n",
    "\n",
    "        \"\"\"\n",
    "        # fit linear inversion\n",
    "        K = _centered_kernel(X, X_index, self.X_fit_, self.X_fit_index_, self.kernel)\n",
    "        A = K @ self.alphas_\n",
    "        AA = A.T @ A\n",
    "        B = scipy.linalg.solve(\n",
    "            a = self.alpha * np.diag(self.lambdas_) + AA,\n",
    "            b = AA, \n",
    "            sym_pos = True\n",
    "        )\n",
    "        C = np.eye(len(self.lambdas_)) - B\n",
    "        D = (1. / self.alpha) * np.diag(1. / np.sqrt(self.lambdas_))\n",
    "        self.linear_dual_coef_ = D @ C @ A.T @ X\n",
    "        \"\"\"\n",
    "        \n",
    "        # fit inversion\n",
    "        K = _centered_kernel(X=X_transformed, kernel=self.inv_kernel)\n",
    "        n_samples = K.shape[0]\n",
    "        K.flat[::n_samples + 1] += self.alpha\n",
    "        self.nonlinear_dual_coef_ = scipy.linalg.solve(K, X, sym_pos=True, overwrite_a=True)\n",
    "        \n",
    "        # This cannot fit grouped values\n",
    "        # self.kernel_ridge = KernelRidge(alpha=self.alpha, kernel=self.inv_kernel).fit(X_transformed, X)\n",
    "        \n",
    "    def transform(self, X, X_index=None):\n",
    "        \"\"\"Transform X.\n",
    "        \n",
    "        Parameters\n",
    "        ----------\n",
    "        X : array-like, shape (n_samples, n_features)\n",
    "        \n",
    "        Returns\n",
    "        -------\n",
    "        X_transformed : array-like, shape (n_samples, n_components)\n",
    "        \"\"\"\n",
    "        assert self.X_fit_ is not None  # Fit the model first before using this method!\n",
    "        K = _centered_kernel(X, X_index, self.X_fit_, self.X_fit_index_, self.kernel)\n",
    "        X_transformed =  (K @ self.alphas_) @ np.diag(1. / np.sqrt(self.lambdas_))\n",
    "        return X_transformed\n",
    "\n",
    "    def inverse_transform(self, X_transformed):\n",
    "        \"\"\"Transform X back to original space using kernel ridge regression.\n",
    "        \n",
    "        Parameters\n",
    "        ----------\n",
    "        X_transformed : array-like, shape (n_samples, n_components)\n",
    "        \n",
    "        Returns\n",
    "        -------\n",
    "        X_new : array-like, shape (n_samples, n_features)\n",
    "        \n",
    "        References\n",
    "        ----------\n",
    "        \"Learning to Find Pre-Images\", G BakIr et al, 2004.\n",
    "        \"\"\"\n",
    "        assert self.X_fit_ is not None  # Fit the model first before using this method!\n",
    "        K = _centered_kernel(X=X_transformed, Y=self.X_transformed_fit_inverse_, kernel=self.inv_kernel)\n",
    "        return K @ self.nonlinear_dual_coef_\n",
    "        # return self.kernel_ridge.predict(X_transformed)\n",
    "        \n",
    "    def orthogonalize(self, X):\n",
    "        \n",
    "        assert callable(self.kernel)\n",
    "        assert self.X_fit_ is not None  # Fit the model first before using this method!\n",
    "        \n",
    "        X = torch.tensor(X)\n",
    "        X_orth = torch.tensor(X, requires_grad=True)\n",
    "        \n",
    "        optimizer, = torch.optim.SGD(lr=0.05, momentum=0, params=[X_orth]), \n",
    "        n_iter = 300\n",
    "        for i in range(n_iter):\n",
    "            optimizer.zero_grad()\n",
    "            losses = self.orth_losses(X, X_orth)\n",
    "            loss = torch.sum(losses)\n",
    "            loss.backward()\n",
    "            optimizer.step()\n",
    "        \n",
    "        return X_orth.detach().cpu().numpy()\n",
    "    \n",
    "    def orth_losses(self, X, X_orth):\n",
    "        \n",
    "        n_samples, n_features = X.shape\n",
    "        n_train = self.X_fit_.shape[0]\n",
    "        \n",
    "        X_fit_ = torch.from_numpy(self.X_fit_)\n",
    "        alphas = torch.from_numpy(self.alphas_)\n",
    "        alphasT = torch.from_numpy(self.alphas_.T)\n",
    "        lambdas_inv = torch.from_numpy(np.diag(1. / self.lambdas_))\n",
    "        \n",
    "        Koo = self.kernel(X=X_orth.reshape(n_samples, 1, n_features), grad=True).squeeze()\n",
    "        Kox = self.kernel(\n",
    "            X=X_orth.reshape(n_samples, 1, n_features), \n",
    "            Y=X.reshape(n_samples, 1, n_features), \n",
    "            grad=True\n",
    "        ).squeeze()\n",
    "        KoP = _centered_kernel(\n",
    "            X=X_orth.reshape(n_samples, 1, n_features),\n",
    "            Y=X_fit_.reshape(1, n_train, n_features),\n",
    "            Y_index=self.X_fit_index_,\n",
    "            kernel=self.kernel,\n",
    "            grad=True\n",
    "        ).squeeze()\n",
    "        KPx = _centered_kernel(\n",
    "            X=X_fit_.reshape(n_train, 1, n_features),\n",
    "            X_index=self.X_fit_index_,\n",
    "            Y=X.reshape(1, n_samples, n_features),\n",
    "            kernel=self.kernel,\n",
    "            grad=True\n",
    "        ).squeeze()\n",
    "        \n",
    "        losses = Koo - 2. * Kox + 2. * KoP @ alphas @ lambdas_inv @ alphasT @ KPx\n",
    "        return losses\n",
    "        \n",
    "        \n",
    "    def debias(self, X, X_index=None, method=\"ridge\"):\n",
    "        \"\"\"Debias the embeddings by reprojection of kernel PCA.\n",
    "        \n",
    "        Parameters\n",
    "        ----------\n",
    "        X: array [n_samples, n_features]\n",
    "        method: \"ridge\" or \"optimization\"\n",
    "            When the \"ridge\" is used, kernel ridge regression is used to approximate the pre-imaging. \n",
    "            For details, see the reference. When the \"optimization\" is used, optimization is used to \n",
    "            obtain the pre-image. In this case, the kernel must support the option `torch=True` so \n",
    "            that gradient-based optimization can be applied.\n",
    "            \n",
    "        References\n",
    "        ----------\n",
    "        \"Learning to Find Pre-Images\", G BakIr et al, 2004.\n",
    "        \"\"\"\n",
    "        assert self.X_fit_ is not None  # Fit the model first before using this method!\n",
    "        \n",
    "        if method == \"ridge\":\n",
    "            X_tr = self.transform(X, X_index)\n",
    "            X_orth = X - self.inverse_transform(X_tr)\n",
    "        elif method == \"optimization\":\n",
    "            assert callable(self.kernel)\n",
    "            X_orth = self.orthogonalize(X)\n",
    "        return X_orth\n",
    "\n",
    "def _centered_kernel(X, X_index=None, Y=None, Y_index=None, kernel=\"linear\", filter_params=True, n_jobs=None, grad=False, **kwds):\n",
    "    \"\"\"Compute the group-mean-centered kernel between arrays X and Y.\n",
    "\n",
    "    This method takes either a vector array and returns a kernel matrix. \n",
    "    For the mean centering of the kernel within each group, the index to which \n",
    "    each sample belongs to must be privided as ``X_index`` and ``Y_index``. \n",
    "    When there is a sample that does not belong to any group, its index \n",
    "    must be set ``nan``, and centering is not applied to the sample.\n",
    "\n",
    "    Parameters\n",
    "    ----------\n",
    "    X : array [n_samples_a, n_features]\n",
    "        A feature array which is sorted accoding to the group index. \n",
    "        Note that if the index of an sample is 'np.nan', the sample must come at the last of the array.  \n",
    "    X_index: integer array [n_samples]\n",
    "        A sorted array of indices to which samples in X belongs to. When a sample does \n",
    "        not belong to any group, its index must be ``np.nan``. \n",
    "    Y: array [n_samples_b, 1 + n_features]\n",
    "        A second feature array which is sorted accoding to the group index. \n",
    "        Note that if the index of an sample is 'np.nan', the sample must come at the last of the array.  \n",
    "    Y_index: integer array [n_samples]\n",
    "        A sorted array of indices to which samples in Y belongs to. When a sample does \n",
    "        not belong to any group, its index must be ``np.nan``. \n",
    "    kernel: string or callable\n",
    "        The kernel to use when calculating kernel between instances in a\n",
    "        feature array. Valid string values for kernel are:\n",
    "        ['additive_chi2', 'chi2', 'linear', 'poly', 'polynomial', 'rbf', 'laplacian', 'sigmoid', 'cosine'],\n",
    "        which must be one of the kernels in sklearn.pairwise.PAIRWISE_KERNEL_FUNCTIONS.\n",
    "        If callable is passed, kernel must have following arguments:\n",
    "        - X: array [n_sample_a, n_features]                         if torch==False\n",
    "             torch.Tensor [n_sample_a, 1 or n_sample_b, n_features] if torch==True \n",
    "        - Y: array [n_sample_b, n_features]                         if torch==False \n",
    "             torch.Tensor [1 or n_sample_a, n_sample_b, n_features] if torch==True \n",
    "        - torch: bool, whose Default is set `False`.\n",
    "        When `torch` is set `True`, the kernel must return torch.Tensor which is differentiable w.r.t. X and Y.\n",
    "    filter_params : boolean\n",
    "        Whether to filter invalid parameters or not.\n",
    "    n_jobs : int or None, optional (default=None)\n",
    "        The number of jobs to use for the computation. This works by breaking\n",
    "        down the pairwise matrix into n_jobs even slices and computing them in\n",
    "        parallel.\n",
    "        ``None`` means 1 unless in a :obj:`joblib.parallel_backend` context.\n",
    "        ``-1`` means using all processors. See :term:`Glossary <n_jobs>`\n",
    "        for more details.\n",
    "    **kwds : optional keyword parameters\n",
    "        Any further parameters are passed directly to the kernel function.\n",
    "\n",
    "    Returns\n",
    "    -------\n",
    "    K : array or torch.Tensor of shape [n_samples_a, n_samples_b]\n",
    "        A mean-centered kernel matrix K such that K_{i, j} is the kernel between the\n",
    "        ith and jth vectors of the given matrix X, if Y is None.\n",
    "        If Y is not None, then K_{i, j} is the kernel between the ith array\n",
    "        from X and the jth array from Y.\n",
    "\n",
    "    \"\"\"\n",
    "    if isinstance(kernel, str):\n",
    "        KXY = pairwise_kernels(X, Y, metric=kernel, filter_params=filter_params, n_jobs=n_jobs, **kwds)\n",
    "    elif callable(kernel):\n",
    "        KXY = kernel(X, Y, grad=grad)\n",
    "    else:\n",
    "        raise ValueError(\"An invalid value is given as the argument `kernel`. \"\n",
    "                         \"`kernel` should be either string or callable.\")\n",
    "    \n",
    "    if Y is None:\n",
    "        Y = X\n",
    "        Y_index = X_index\n",
    "        \n",
    "    X_index = _fix_index_if_none(X, X_index)\n",
    "    Y_index = _fix_index_if_none(Y, Y_index)\n",
    "    \n",
    "    assert is_sorted(X_index)\n",
    "    assert is_sorted(Y_index)\n",
    "    \n",
    "    DX = get_design_matrix(X_index)\n",
    "    DY = get_design_matrix(Y_index)\n",
    "\n",
    "    if grad:\n",
    "        DX = _to_torch_sparse(DX)\n",
    "        DY = _to_torch_sparse(DY)\n",
    "        KYX = KXY.transpose(0,1)\n",
    "        KXY_centered = torch.sparse.mm(DX, torch.sparse.mm(DY, KYX).transpose(0,1))  \n",
    "    else:\n",
    "        KXY_centered = DX @ KXY @ DY\n",
    "    return KXY_centered\n",
    "\n",
    "def _fix_index_if_none(X, X_index):\n",
    "    if X_index is None:\n",
    "        return np.full(shape=X.squeeze().shape[0], fill_value=np.nan)\n",
    "    else:\n",
    "        return X_index\n",
    "\n",
    "def _to_torch_sparse(M):\n",
    "    \"\"\"\n",
    "    input: M is Scipy sparse matrix\n",
    "    output: pytorch sparse tensor in GPU \n",
    "    \"\"\"\n",
    "    M = M.tocoo().astype(np.float64)\n",
    "    indices = torch.from_numpy(np.vstack((M.row, M.col))).long()#.cuda()\n",
    "    values = torch.from_numpy(M.data)#.cuda()\n",
    "    shape = torch.Size(M.shape)\n",
    "    M_torch = torch.sparse_coo_tensor(indices, values, shape)#, device=torch.device('cuda'))\n",
    "    return M_torch\n",
    "    \n",
    "def _test_centered_kernel():\n",
    "    \n",
    "    D = 500\n",
    "    N = 1000\n",
    "    N_grouped = 900\n",
    "    N_nan = N - N_grouped\n",
    "    num_groups = 100\n",
    "    \n",
    "    # X contains groups of various size and non-centered samples\n",
    "    X = np.random.randn(N * D).reshape(N, D)\n",
    "    X_index = np.concatenate([\n",
    "        np.repeat(np.arange(num_groups), 2),  \n",
    "        np.random.randint(0, num_groups, N_grouped - 2*num_groups),\n",
    "        np.full([N_nan], np.nan)\n",
    "    ])\n",
    "    X_index.sort()\n",
    "    \n",
    "    \n",
    "    # Y only contains non-centered samples\n",
    "    Y = np.random.randn(N * D).reshape(N, D)\n",
    "    Y_index = np.array([np.nan] * N)\n",
    "    \n",
    "    Kxx = _centered_kernel(X, X_index, X, X_index, kernel=\"rbf\")\n",
    "    Kxx_ = _centered_kernel(X, X_index, kernel=\"rbf\")\n",
    "    assert np.allclose(Kxx, Kxx_)\n",
    "    assert np.allclose(Kxx, Kxx.T)\n",
    "    eigvals = np.linalg.eigvalsh(Kxx)\n",
    "    assert np.all(-1e-8 < eigvals)  # Kernel matrix must be positive definite.\n",
    "    assert np.sum(1e-8 < eigvals) == (N - num_groups)  # The effective rank of the matrix should be (N - num_groups).\n",
    "    \n",
    "    Kxy = _centered_kernel(X, X_index, Y, Y_index, kernel=\"rbf\")\n",
    "    Kyx = _centered_kernel(Y, Y_index, X, X_index, kernel=\"rbf\")\n",
    "    assert np.allclose(Kxy, Kyx.T)  # Kernel matrix must be symmetric. \n",
    "    \n",
    "if __name__ == \"__main__\":\n",
    "    _test_centered_kernel()"
   ]
  },
  {
   "cell_type": "code",
   "execution_count": 75,
   "metadata": {
    "scrolled": false
   },
   "outputs": [],
   "source": [
    "m = DebiasingKernelPCA(n_components=2, kernel=RBF)\n",
    "m.fit(X, X_index)\n",
    "X_tr = m.transform(X)\n",
    "X_reproj = m.debias(X, method=\"ridge\")"
   ]
  },
  {
   "cell_type": "code",
   "execution_count": 76,
   "metadata": {
    "scrolled": true
   },
   "outputs": [
    {
     "data": {
      "text/plain": [
       "75.98850977617846"
      ]
     },
     "execution_count": 76,
     "metadata": {},
     "output_type": "execute_result"
    }
   ],
   "source": [
    "np.linalg.norm(X_reproj)"
   ]
  },
  {
   "cell_type": "code",
   "execution_count": 77,
   "metadata": {
    "scrolled": true
   },
   "outputs": [
    {
     "data": {
      "text/plain": [
       "426.1726765040533"
      ]
     },
     "execution_count": 77,
     "metadata": {},
     "output_type": "execute_result"
    }
   ],
   "source": [
    "np.linalg.norm(X)"
   ]
  },
  {
   "cell_type": "code",
   "execution_count": 78,
   "metadata": {
    "scrolled": false
   },
   "outputs": [
    {
     "data": {
      "text/plain": [
       "417.2504621787989"
      ]
     },
     "execution_count": 78,
     "metadata": {},
     "output_type": "execute_result"
    }
   ],
   "source": [
    "np.linalg.norm(X - X_reproj)"
   ]
  },
  {
   "cell_type": "markdown",
   "metadata": {},
   "source": [
    "# Make sure that implementation is consistent with sklearn's KernelPCA\n",
    "\n",
    "Minor difference in the reconstruction error is due to the mean centering in the KernelPCA."
   ]
  },
  {
   "cell_type": "code",
   "execution_count": 79,
   "metadata": {},
   "outputs": [],
   "source": [
    "from sklearn.datasets import load_digits\n",
    "from sklearn.decomposition import KernelPCA, PCA\n",
    "toy_data = load_digits()['data']\n",
    "x_train = toy_data[:1300]\n",
    "x_test = toy_data[1300:]"
   ]
  },
  {
   "cell_type": "code",
   "execution_count": 80,
   "metadata": {},
   "outputs": [
    {
     "name": "stdout",
     "output_type": "stream",
     "text": [
      "Reprojection Error of <class '__main__.DebiasingKernelPCA'>: 406.63554419120555\n",
      "Reprojection Error of <class '__main__.DebiasingKernelPCA'>: 1378.516355683355\n",
      "Reprojection Error of <class '__main__.DebiasingKernelPCA'>: 1369.6930247389425\n",
      "Reprojection Error of <class '__main__.DebiasingKernelPCA'>: 770.4399333320856\n"
     ]
    },
    {
     "data": {
      "image/png": "[encoded data removed]",
      "text/plain": [
       "<Figure size 720x360 with 50 Axes>"
      ]
     },
     "metadata": {
      "needs_background": "light"
     },
     "output_type": "display_data"
    }
   ],
   "source": [
    "models = [\n",
    "    #PCA(n_components=10), \n",
    "    #KernelPCA(n_components=10, fit_inverse_transform=True, kernel=\"rbf\"), \n",
    "    DebiasingKernelPCA(n_components=10, kernel=\"linear\", inv_kernel=\"linear\"),\n",
    "    DebiasingKernelPCA(n_components=10, kernel=\"linear\", inv_kernel=\"rbf\"),\n",
    "    DebiasingKernelPCA(n_components=10, kernel=\"rbf\", inv_kernel=\"linear\"),\n",
    "    DebiasingKernelPCA(n_components=10, kernel=\"rbf\", inv_kernel=\"rbf\")\n",
    "]\n",
    "N = len(models)+1\n",
    "def plot_digits(x, N_comparison, n):\n",
    "    for i in range(10):\n",
    "        plt.subplot(N_comparison, 10, 1 + n * 10 + i)\n",
    "        plt.imshow(x[i, :].reshape([8, 8]))\n",
    "\n",
    "plt.figure(figsize=[10, N])\n",
    "plot_digits(x_test, N, 0)\n",
    "for n, model in enumerate(models):\n",
    "    m = model.fit(x_train)\n",
    "    x_transformed = m.transform(x_test)\n",
    "    x_reprojected = m.inverse_transform(x_transformed)\n",
    "    print(\"Reprojection Error of {}: {}\".format(model.__class__, np.linalg.norm(x_test - x_reprojected)))\n",
    "    plot_digits(x_reprojected, N, n+1)"
   ]
  },
  {
   "cell_type": "code",
   "execution_count": 81,
   "metadata": {
    "scrolled": true
   },
   "outputs": [
    {
     "name": "stdout",
     "output_type": "stream",
     "text": [
      "Reprojection Error of <class 'sklearn.decomposition._kernel_pca.KernelPCA'>: 1101.7898059173995\n"
     ]
    },
    {
     "data": {
      "image/png": "[encoded data removed]",
      "text/plain": [
       "<Figure size 720x144 with 20 Axes>"
      ]
     },
     "metadata": {
      "needs_background": "light"
     },
     "output_type": "display_data"
    }
   ],
   "source": [
    "models = [\n",
    "    #PCA(n_components=10), \n",
    "    KernelPCA(n_components=10, fit_inverse_transform=True, kernel=\"rbf\"), \n",
    "    #DebiasingKernelPCA(n_components=10, kernel=\"linear\"),\n",
    "    #DebiasingKernelPCA(n_components=10, kernel=\"rbf\"),\n",
    "]\n",
    "N = len(models)+1\n",
    "def plot_digits(x, N_comparison, n):\n",
    "    for i in range(10):\n",
    "        plt.subplot(N_comparison, 10, 1 + n * 10 + i)\n",
    "        plt.imshow(x[i, :].reshape([8, 8]))\n",
    "\n",
    "plt.figure(figsize=[10, N])\n",
    "plot_digits(x_test, N, 0)\n",
    "for n, model in enumerate(models):\n",
    "    m = model.fit(x_train)\n",
    "    x_transformed = m.transform(x_test)\n",
    "    x_reprojected = m.inverse_transform(x_transformed)\n",
    "    print(\"Reprojection Error of {}: {}\".format(model.__class__, np.linalg.norm(x_test - x_reprojected)))\n",
    "    plot_digits(x_reprojected, N, n+1)"
   ]
  }
 ],
 "metadata": {
  "kernelspec": {
   "display_name": "Python 3",
   "language": "python",
   "name": "python3"
  },
  "language_info": {
   "codemirror_mode": {
    "name": "ipython",
    "version": 3
   },
   "file_extension": ".py",
   "mimetype": "text/x-python",
   "name": "python",
   "nbconvert_exporter": "python",
   "pygments_lexer": "ipython3",
   "version": "3.8.5"
  }
 },
 "nbformat": 4,
 "nbformat_minor": 4
}
